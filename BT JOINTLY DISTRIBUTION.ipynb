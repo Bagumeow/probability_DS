{
 "cells": [
  {
   "cell_type": "markdown",
   "id": "67b5616d",
   "metadata": {},
   "source": [
    "# BÀI TẬP BỔ SUNG VỀ JOINTLY DISTRIBUTION"
   ]
  },
  {
   "cell_type": "code",
   "execution_count": 1,
   "id": "1e99d5c4",
   "metadata": {},
   "outputs": [],
   "source": [
    "import matplotlib.pyplot as plt\n",
    "import numpy as np\n",
    "import sympy as sp\n",
    "import math\n",
    "from sympy.abc import x,y,z\n",
    "plt.style.use('fivethirtyeight')"
   ]
  },
  {
   "cell_type": "code",
   "execution_count": 2,
   "id": "8112db8d",
   "metadata": {
    "scrolled": true
   },
   "outputs": [
    {
     "data": {
      "text/html": [
       "<div>\n",
       "<style scoped>\n",
       "    .dataframe tbody tr th:only-of-type {\n",
       "        vertical-align: middle;\n",
       "    }\n",
       "\n",
       "    .dataframe tbody tr th {\n",
       "        vertical-align: top;\n",
       "    }\n",
       "\n",
       "    .dataframe thead th {\n",
       "        text-align: right;\n",
       "    }\n",
       "</style>\n",
       "<table border=\"1\" class=\"dataframe\">\n",
       "  <thead>\n",
       "    <tr style=\"text-align: right;\">\n",
       "      <th></th>\n",
       "      <th>X=1</th>\n",
       "      <th>X=2</th>\n",
       "      <th>X=3</th>\n",
       "    </tr>\n",
       "  </thead>\n",
       "  <tbody>\n",
       "    <tr>\n",
       "      <th>Y=5</th>\n",
       "      <td>0.041667</td>\n",
       "      <td>0.125000</td>\n",
       "      <td>0.083333</td>\n",
       "    </tr>\n",
       "    <tr>\n",
       "      <th>Y=4</th>\n",
       "      <td>0.041667</td>\n",
       "      <td>0.083333</td>\n",
       "      <td>0.125000</td>\n",
       "    </tr>\n",
       "    <tr>\n",
       "      <th>Y=2</th>\n",
       "      <td>0.083333</td>\n",
       "      <td>0.166667</td>\n",
       "      <td>0.250000</td>\n",
       "    </tr>\n",
       "  </tbody>\n",
       "</table>\n",
       "</div>"
      ],
      "text/plain": [
       "          X=1       X=2       X=3\n",
       "Y=5  0.041667  0.125000  0.083333\n",
       "Y=4  0.041667  0.083333  0.125000\n",
       "Y=2  0.083333  0.166667  0.250000"
      ]
     },
     "execution_count": 2,
     "metadata": {},
     "output_type": "execute_result"
    }
   ],
   "source": [
    "heads_table = Table().domain(\"X\",[1,2,3],\"Y\",[2,4,5])\n",
    "heads_table.probabilities([1/12,1/24,1/24,1/6,1/12,1/8,1/4,1/8,1/12])"
   ]
  },
  {
   "cell_type": "markdown",
   "id": "16bf4794",
   "metadata": {},
   "source": [
    "Bài 1. Cho hai biến ngẫu nhiên rời rạc $X Y,$ có bảng phân bố xác suất như hình bên dưới:"
   ]
  },
  {
   "attachments": {
    "image_2022-05-04_144343659.png": {
     "image/png": "[encoded data removed]"
    }
   },
   "cell_type": "markdown",
   "id": "994bde7d",
   "metadata": {},
   "source": [
    "![image_2022-05-04_144343659.png](attachment:image_2022-05-04_144343659.png)"
   ]
  },
  {
   "cell_type": "markdown",
   "id": "b4603ea3",
   "metadata": {},
   "source": [
    "* a) Tìm xác suất $P(X \\leq 2, Y \\leq 4 ).$\n",
    "* b) Tìm phân phối lề của $X,Y$ .\n",
    "* c) Tính xác suất có điều kiện P(Y=2|X=1).\n",
    "* d) Tính kỳ vọng có điều kiện E[X|Y=5].\n",
    "* e)Tính covarian $ cov( X,Y )$ và hệ số tương quan $\\rho( X, Y) $ . Từ đó nhận xét $X ,Y$\n",
    "có độc lập nhau hay không?"
   ]
  },
  {
   "cell_type": "markdown",
   "id": "ee8a90aa",
   "metadata": {},
   "source": [
    "**Bài làm**"
   ]
  },
  {
   "cell_type": "markdown",
   "id": "8e33a481",
   "metadata": {},
   "source": [
    "**a) Tìm xác suất $P(X \\leq 2, Y \\leq 4)$**<br>\n",
    "Ta có $P(X\\leq 2,Y\\leq 4)= P(X=1,Y=2)+P(X=2,Y=2)+P(X=1,Y=4)+P(X=2,Y=4)$<br>\n",
    "$= \\frac{1}{12}+\\frac{1}{6}+\\frac{1}{24}+\\frac{1}{12}=\\frac{3}{8}$\n"
   ]
  },
  {
   "cell_type": "markdown",
   "id": "08ab38e9",
   "metadata": {},
   "source": [
    "**b) Tìm phân phối lề của $X,Y$**<br>\n",
    "Phân phối theo lề X: \n",
    "\n",
    "\n",
    "|X    |1    | 2   |3  |\n",
    "| --- | --- | --- |---|\n",
    "|P_x  | P(X=1)   | P(X=2)   |P(X=3|\n",
    "\n",
    "$\\Leftrightarrow$\n",
    "\n",
    "|X    |1    | 2   |3  |\n",
    "| --- | --- | --- |---|\n",
    "|P_x  | 1/6   | 3/8  |11/24|\n",
    "\n",
    "Và ta có $E[X] =1\\cdot \\frac{1}{6}+2\\cdot \\frac{3}{8}+3\\cdot \\frac{11}{24} =\\frac{55}{24} \\approx  2.2916$<br>\n",
    "Phương sai $D[X] = (1\\cdot \\frac{1}{6}+ 4\\cdot \\frac{3}{8}+9\\cdot \\frac{11}{24}) -E[X]^2 = \\frac{311}{576}$\n",
    "\n",
    "Tương tự với phân phối theo Lề Y:\n",
    "\n",
    "|Y    |2    | 4   |5  |\n",
    "| --- | --- | --- |---|\n",
    "|P_y  | 1/2   | 1/4  |1/4|\n",
    "\n",
    "Và ta có $E[Y] =2\\cdot \\frac{1}{2}+4\\cdot \\frac{1}{4}+5\\cdot \\frac{1}{4} =\\frac{13}{4} = 3.25$<br>\n",
    "Phương sai $D[Y] = (4\\cdot \\frac{1}{2}+16\\cdot \\frac{1}{4}+25\\cdot \\frac{1}{4} ) -E[Y]^2 = \\frac{27}{16}$"
   ]
  },
  {
   "cell_type": "code",
   "execution_count": 3,
   "id": "d9c4a80a",
   "metadata": {},
   "outputs": [],
   "source": [
    "EX=55/24\n",
    "EY=3.25\n",
    "DX=311/576\n",
    "DY=27/16"
   ]
  },
  {
   "cell_type": "markdown",
   "id": "f8d5ef2c",
   "metadata": {},
   "source": [
    "* c) Tính xác suất có điều kiện P(Y=2|X=1)<br><br>\n",
    "\n",
    "Ta có $P(Y=2|X=1) = \\frac{P(X=1,Y=2)}{P(X=1)} = \\frac{1/12}{1/6} = 0.5$"
   ]
  },
  {
   "cell_type": "markdown",
   "id": "0e4cfdcd",
   "metadata": {},
   "source": [
    "* d) Tính kỳ vọng có điều kiện E[X|Y=5].<br><br>\n",
    "Ta có phân phối xác suất của X khi Y=5 là:\n",
    "\n",
    "|X/(Y=5)    |1    | 2   |3  |\n",
    "| --- | --- | --- |---|\n",
    "|P_y=5 | P(X=1/Y=5)  | P(X=2/Y=5)  |P(X=3/Y=5)|\n",
    "\n",
    "$\\Leftrightarrow$\n",
    "\n",
    "|X/(Y=2)   |1    | 2   |3  |\n",
    "| --- | --- | --- |---|\n",
    "|P_y=5 | 1/6  |1/2  |1/3|\n",
    "\n",
    "từ bảng phân phối xác xuất trên ta tính dễ dàng tính kỳ vòng E[X|Y=5] = <br>\n",
    "$1\\cdot \\frac{1}{6}+2\\cdot \\frac{1}{2}+3\\cdot \\frac{1}{3} = \\frac{13}{6} \\approx 2.1666$"
   ]
  },
  {
   "attachments": {
    "TableB1.png": {
     "image/png": "[encoded data removed]"
    }
   },
   "cell_type": "markdown",
   "id": "b6170fcb",
   "metadata": {},
   "source": [
    "![TableB1.png](attachment:TableB1.png)"
   ]
  },
  {
   "cell_type": "markdown",
   "id": "3e44ae3d",
   "metadata": {},
   "source": [
    "* e)Tính covarian $ cov( X,Y )$ và hệ số tương quan $\\rho( X, Y) $ . Từ đó nhận xét $X ,Y$\n",
    "có độc lập nhau hay không?<br><br>\n",
    "Ta có $E(XY) = \\sum_{i\\epsilon X} \\sum_{j\\epsilon Y} P_{X_iY_j} \\cdot x_i \\cdot y_j $<br>\n",
    "$= \\frac{1}{12} \\cdot 1 \\cdot 2 + \\frac{1}{24}\\cdot1\\cdot4 + \\frac{1}{24}\\cdot1\\cdot5 +\\frac{1}{6}\\cdot2\\cdot2 +\\frac{1}{12}\\cdot2\\cdot4 +\\frac{1}{8}\\cdot2\\cdot5 +\\frac{1}{4}\\cdot3\\cdot2 +\\frac{1}{8}\\cdot3\\cdot4 +\\frac{1}{12}\\cdot3\\cdot5 =\\frac{59}{8} = 7.375$"
   ]
  },
  {
   "cell_type": "code",
   "execution_count": 4,
   "id": "bf1dcaed",
   "metadata": {},
   "outputs": [
    {
     "data": {
      "text/plain": [
       "7.375"
      ]
     },
     "execution_count": 4,
     "metadata": {},
     "output_type": "execute_result"
    }
   ],
   "source": [
    "EXY=(1/12*1*2 + 1/24*4 + 1/24*5 + 1/6*2*2 + 1/12*2*4 + 1/8*2*5 + 1/4*3*2 + 1/8*3*4 + 1/12*3*5)\n",
    "EXY"
   ]
  },
  {
   "cell_type": "markdown",
   "id": "623d8e2f",
   "metadata": {},
   "source": [
    "Công thức tính covarian là :$$\\operatorname{cov}(X,Y)=E(XY)-E(X)\\cdot E(Y).$$\n",
    "<br>\n",
    "$= 7.375- 55/24 \\cdot 3.25 =-0.072916 < 0$ nên X và Y tương quan ngược chiều <br>\n",
    "Và $Cov \\neq 0$ nên X và Y không độc lập với nhau"
   ]
  },
  {
   "cell_type": "code",
   "execution_count": 5,
   "id": "be9b5d39",
   "metadata": {},
   "outputs": [
    {
     "data": {
      "text/plain": [
       "-0.07291666666666607"
      ]
     },
     "execution_count": 5,
     "metadata": {},
     "output_type": "execute_result"
    }
   ],
   "source": [
    "cov=EXY-EX*EY\n",
    "cov"
   ]
  },
  {
   "cell_type": "markdown",
   "id": "5a1b248d",
   "metadata": {},
   "source": [
    "Hệ số tương quan: $$\\rho (X,Y)=\\frac{\\operatorname{cov}(X,Y)}{\\sqrt{D(X) \\cdot D(Y)}}.$$"
   ]
  },
  {
   "cell_type": "code",
   "execution_count": 6,
   "id": "78f94a96",
   "metadata": {},
   "outputs": [
    {
     "data": {
      "text/plain": [
       "0.954532771831329"
      ]
     },
     "execution_count": 6,
     "metadata": {},
     "output_type": "execute_result"
    }
   ],
   "source": [
    "np.sqrt(DX*DY)"
   ]
  },
  {
   "cell_type": "code",
   "execution_count": 7,
   "id": "afe15b51",
   "metadata": {},
   "outputs": [
    {
     "data": {
      "text/plain": [
       "-0.07638990385502535"
      ]
     },
     "execution_count": 7,
     "metadata": {},
     "output_type": "execute_result"
    }
   ],
   "source": [
    "ro=cov/np.sqrt(DX*DY)\n",
    "ro"
   ]
  },
  {
   "cell_type": "markdown",
   "id": "7dc257a9",
   "metadata": {},
   "source": [
    "Vì $|\\rho (X,Y)|=0.076389 $ nên X và Y tương quan lỏng lẻo, phụ thuộc yếu"
   ]
  },
  {
   "attachments": {
    "image_2022-05-10_152254629.png": {
     "image/png": "[encoded data removed]"
    }
   },
   "cell_type": "markdown",
   "id": "a201d1c5",
   "metadata": {},
   "source": [
    "![image_2022-05-10_152254629.png](attachment:image_2022-05-10_152254629.png)"
   ]
  },
  {
   "cell_type": "markdown",
   "id": "28ac66a4",
   "metadata": {},
   "source": [
    "a) Tính $P_x(0),P_x(1),P_x(2),P_x(3)$ từ đó dự đoán quy luật cho các phân phối lề.<br>\n",
    "<br>\n",
    "$P_x(0) \\rightarrow i=0$, vậy $j=0,1$ <br>\n",
    "\n",
    "$P_x(1) \\rightarrow i=1$, vậy $j=0,1,2$ <br>\n",
    "\n",
    "$P_x(2) \\rightarrow i=2$, vậy $j=1,2,3$ <br>\n",
    "\n",
    "$P_x(3) \\rightarrow i=3$, vậy $j=2,3,4$ <br>\n",
    "$\\Rightarrow$\n",
    "\\begin{align}\\label{}\n",
    "\\nonumber &P_X(0)=P_{XY}(0,0)+P_{XY}(0,1)=\\frac{1}{6}+\\frac{1}{6}=\\frac{1}{3},\\\\\n",
    "\\nonumber &P_X(1)=P_{XY}(1,0)+P_{XY}(1,1)+P_{XY}(1,2)=\\frac{1}{6}\\left(1+\\frac{1}{2}+\\frac{1}{2}\\right)=\\frac{1}{3},\\\\\n",
    "\\nonumber &P_X(2)=P_{XY}(2,1)+P_{XY}(2,2)+P_{XY}(2,3)=\\frac{1}{6}\\left(\\frac{1}{2}+\\frac{1}{4}+\\frac{1}{4}\\right)=\\frac{1}{6},\\\\\n",
    "\\nonumber &P_X(3)=P_{XY}(3,2)+P_{XY}(3,3)+P_{XY}(3,4)=\\frac{1}{6}\\left(\\frac{1}{4}+\\frac{1}{8}+\\frac{1}{8}\\right)=\\frac{1}{12}.\n",
    "\\end{align}\n",
    "\n",
    "Vậy ta có quy luật của phân phối lề là :\n",
    "\\begin{equation}\n",
    "\\nonumber P_X(k) = P_Y(k)=\\left\\{\n",
    "\\begin{array}{l l}\n",
    "\\frac{1}{3} & \\quad k=0 \\\\\n",
    "& \\quad \\\\\n",
    "\\frac{1}{3 \\cdot 2^{k-1}} & \\quad k=1,2,3,... \\\\\n",
    "& \\quad \\\\\n",
    "0 & \\quad \\text{Trường hợp còn lại}\n",
    "\\end{array} \\right.\n",
    "\\end{equation}"
   ]
  },
  {
   "cell_type": "markdown",
   "id": "4aecc620",
   "metadata": {},
   "source": [
    "b) Để tìm $P(X=Y|Y<2)$ ta có:\n",
    "\n",
    "\\begin{align}\\label{}\n",
    "\\nonumber P(X=Y|Y<2)&=\\frac{P(X=Y,Y<2)}{P(Y<2)}\\\\\n",
    "\\nonumber &=\\frac{P_{XY}(0,0)+P_{XY}(1,1)}{P_Y(0)+P_Y(1)}\\\\\n",
    "\\nonumber &=\\frac{\\frac{1}{6}+\\frac{1}{12}}{\\frac{1}{3}+\\frac{1}{3}}\\\\\n",
    "\\nonumber &=\\frac{3}{8}.\n",
    "\\end{align}"
   ]
  },
  {
   "cell_type": "markdown",
   "id": "c67a7196",
   "metadata": {},
   "source": [
    "c) Để tìm $P(1 \\leq X^2+Y^2 \\leq 5)$ ta có:\n",
    "\\begin{align}\\label{}\n",
    "\\nonumber P(1 \\leq X^2+Y^2 \\leq 5)&=P_{XY}(0,1)+P_{XY}(1,0)+P_{XY}(1,1)+P_{XY}(1,2)+P_{XY}(2,1)\\\\\n",
    "\\nonumber &=\\frac{1}{6}+\\frac{1}{6}+\\frac{1}{12}+\\frac{1}{12}+\\frac{1}{12}\\\\\n",
    "\\nonumber &=\\frac{7}{12}.\n",
    "\\end{align}"
   ]
  },
  {
   "cell_type": "markdown",
   "id": "190b836a",
   "metadata": {},
   "source": [
    "d) Để tìm $P(X=Y)$ ta có :\n",
    "\\begin{align}\\label{}\n",
    "\\nonumber P(X=Y)&=\\sum_{i=0}^{\\infty} P_{XY}(i,i)\\\\\n",
    "\\nonumber &=\\sum_{i=0}^{\\infty} \\frac{1}{6. 2^i}\\\\\n",
    "\\nonumber &=\\frac{1}{3}.\n",
    "\\end{align}"
   ]
  },
  {
   "cell_type": "code",
   "execution_count": 1,
   "id": "ffe727dd",
   "metadata": {
    "scrolled": false
   },
   "outputs": [
    {
     "name": "stdout",
     "output_type": "stream",
     "text": [
      "0.333333333333331\n",
      "0.33333333333333215\n",
      "0.33333333333333276\n",
      "0.33333333333333304\n",
      "0.3333333333333332\n",
      "0.33333333333333326\n",
      "0.3333333333333333\n",
      "0.3333333333333333\n",
      "0.3333333333333333\n",
      "0.3333333333333333\n",
      "0.3333333333333333\n",
      "0.3333333333333333\n",
      "0.3333333333333333\n",
      "0.3333333333333333\n"
     ]
    }
   ],
   "source": [
    "s=0\n",
    "for i in range(0,150):\n",
    "    s+= 1.0/(6*2**i)\n",
    "    if (i>45 and i<60):\n",
    "        print(s) # ta thấy hàm số sẽ hội tụ về 1/3"
   ]
  },
  {
   "cell_type": "markdown",
   "id": "d4b3185b",
   "metadata": {},
   "source": [
    "e) Để tìm $E[X|Y=2]$, ta phải tìm hàm phân phối xác suất của X khi Y= 2 . Ta có:\n",
    "\\begin{align}\\label{}\n",
    "\\nonumber P_{X|Y}(k|2) &=\\frac{P_{XY}(k,2)}{P(Y=2)}\\\\\n",
    "\\nonumber &=6P_{XY}(k,2),\n",
    "\\end{align}\n",
    "\n",
    "vậy ta có được :\n",
    "\\begin{equation}\n",
    "\\nonumber P_{X|Y}(k|2)=\\left\\{\n",
    "\\begin{array}{l l}\n",
    "\\frac{1}{2} & \\quad k=1 \\\\\n",
    "& \\quad \\\\\n",
    "\\frac{1}{4} & \\quad k=2,3 \\\\\n",
    "& \\quad \\\\\n",
    "0 & \\quad \\text{Trường hợp khác}\n",
    "\\end{array} \\right.\n",
    "\\end{equation}\n",
    "Vậy : \n",
    "\\begin{align}\\label{}\n",
    "\\nonumber E[X|Y=2]&=1 \\cdot \\frac{1}{2}+2 \\cdot \\frac{1}{4}+3 \\cdot \\frac{1}{4}\\\\\n",
    "\\nonumber &=\\frac{7}{4}.\n",
    "\\end{align}"
   ]
  },
  {
   "attachments": {
    "bai3.png": {
     "image/png": "[encoded data removed]"
    }
   },
   "cell_type": "markdown",
   "id": "5e218146",
   "metadata": {},
   "source": [
    "![bai3.png](attachment:bai3.png)"
   ]
  },
  {
   "cell_type": "markdown",
   "id": "f99639f3",
   "metadata": {},
   "source": [
    "a) Để tìm c ta có: \n",
    "\\begin{align}%\\label{}\n",
    "\\nonumber 1&=\\int_{-\\infty}^{\\infty} \\int_{-\\infty}^{\\infty} f_{XY}(x,y)dxdy\\\\\n",
    "\\nonumber &=\\int_{0}^{1} \\int_{0}^{1-x} cx+1 \\hspace{5pt} dydx\\\\\n",
    "\\nonumber &=\\int_{0}^{1} (cx+1)(1-x) \\hspace{5pt} dx\\\\\n",
    "\\nonumber &=\\frac{1}{2}+\\frac{1}{6}c.\n",
    "\\end{align}"
   ]
  },
  {
   "cell_type": "code",
   "execution_count": 9,
   "id": "9b3df014",
   "metadata": {},
   "outputs": [
    {
     "data": {
      "text/latex": [
       "$\\displaystyle \\frac{c}{6} + \\frac{1}{2}$"
      ],
      "text/plain": [
       "c/6 + 1/2"
      ]
     },
     "execution_count": 9,
     "metadata": {},
     "output_type": "execute_result"
    }
   ],
   "source": [
    "from sympy.abc import c,x,y,z\n",
    "from sympy import oo\n",
    "f= c*x+1\n",
    "tp=sp.integrate(f,(y,0,1-x),(x,0,1))\n",
    "tp"
   ]
  },
  {
   "cell_type": "code",
   "execution_count": 10,
   "id": "e0af4231",
   "metadata": {
    "scrolled": true
   },
   "outputs": [
    {
     "data": {
      "text/plain": [
       "[3.00000000000000]"
      ]
     },
     "execution_count": 10,
     "metadata": {},
     "output_type": "execute_result"
    }
   ],
   "source": [
    "sp.solve(c/6+1/2-1,c)"
   ]
  },
  {
   "cell_type": "markdown",
   "id": "41d99357",
   "metadata": {},
   "source": [
    "**Vậy c = 3**"
   ]
  },
  {
   "cell_type": "code",
   "execution_count": 11,
   "id": "07acf6a5",
   "metadata": {},
   "outputs": [],
   "source": [
    "f=3*x+1"
   ]
  },
  {
   "cell_type": "markdown",
   "id": "e63a675c",
   "metadata": {},
   "source": [
    "b) Tìm phân phối lề x $f_x(x)$ ta tính tích phân theo biến y :\n",
    "\\begin{align}%\\label{}\n",
    "\\nonumber f_X(x)&=\\int_{-\\infty}^{\\infty} f_{XY}(x,y)dy\\\\\n",
    "\\nonumber &=\\int_{0}^{1-x} 3x+1 \\hspace{5pt} dy\\\\\n",
    "\\nonumber &=(3x+1)(1-x), \\hspace{10pt} \\textrm{ for }x \\in [0,1].\n",
    "\\end{align}"
   ]
  },
  {
   "cell_type": "code",
   "execution_count": 12,
   "id": "3aeda0f3",
   "metadata": {},
   "outputs": [
    {
     "data": {
      "text/latex": [
       "$\\displaystyle \\left(1 - x\\right) \\left(3 x + 1\\right)$"
      ],
      "text/plain": [
       "(1 - x)*(3*x + 1)"
      ]
     },
     "execution_count": 12,
     "metadata": {},
     "output_type": "execute_result"
    }
   ],
   "source": [
    "tplx=sp.integrate(f,(y,0,1-x))\n",
    "tplx"
   ]
  },
  {
   "cell_type": "markdown",
   "id": "afd190e1",
   "metadata": {},
   "source": [
    "Vậy ta có : \n",
    "\\begin{equation}\n",
    "\\nonumber f_X(x) = \\left\\{\n",
    "\\begin{array}{l l}\n",
    "(3x+1)(1-x) & \\quad 0 \\leq x \\leq 1 \\\\\n",
    "& \\quad \\\\\n",
    "0 & \\quad \\text{otherwise}\n",
    "\\end{array} \\right.\n",
    "\\end{equation}"
   ]
  },
  {
   "cell_type": "markdown",
   "id": "6476259e",
   "metadata": {},
   "source": [
    "Tương tự để tìm phân phối lề y $f_y(y)$ ta sẽ tính tích phân theo biến x:\n",
    "\\begin{align}%\\label{}\n",
    "\\nonumber f_Y(y)&=\\int_{-\\infty}^{\\infty} f_{XY}(x,y)dx\\\\\n",
    "\\nonumber &=\\int_{0}^{1-y} 3x+1 \\hspace{5pt} dx\\\\\n",
    "\\nonumber &=\\frac{1}{2}(1-y)(5-3y), \\hspace{10pt} \\textrm{ for }y \\in [0,1].\n",
    "\\end{align}"
   ]
  },
  {
   "cell_type": "code",
   "execution_count": 13,
   "id": "68f65c62",
   "metadata": {},
   "outputs": [
    {
     "data": {
      "text/latex": [
       "$\\displaystyle - y + \\frac{3 \\left(1 - y\\right)^{2}}{2} + 1$"
      ],
      "text/plain": [
       "-y + 3*(1 - y)**2/2 + 1"
      ]
     },
     "execution_count": 13,
     "metadata": {},
     "output_type": "execute_result"
    }
   ],
   "source": [
    "tply=sp.integrate(f,(x,0,1-y))\n",
    "tply"
   ]
  },
  {
   "cell_type": "markdown",
   "id": "2378ebcc",
   "metadata": {},
   "source": [
    "Vậy ta có : \n",
    " \\begin{equation}\n",
    "\\nonumber f_Y(y) = \\left\\{\n",
    "\\begin{array}{l l}\n",
    "\\frac{1}{2}(1-y)(5-3y) & \\quad 0 \\leq y \\leq 1 \\\\\n",
    "& \\quad \\\\\n",
    "0 & \\quad \\text{otherwise}\n",
    "\\end{array} \\right.\n",
    "\\end{equation}"
   ]
  },
  {
   "cell_type": "markdown",
   "id": "fe5cd1a7",
   "metadata": {},
   "source": [
    "Câu c) Xác suất $P(Y < 2X^2) \\rightarrow y < 1-x$, nhưng cần có $y < 2x^2$ nên ta cần so sánh y với 2 giá trị"
   ]
  },
  {
   "cell_type": "code",
   "execution_count": 14,
   "id": "f8bc440e",
   "metadata": {},
   "outputs": [
    {
     "data": {
      "text/plain": [
       "[-1, 1/2]"
      ]
     },
     "execution_count": 14,
     "metadata": {},
     "output_type": "execute_result"
    }
   ],
   "source": [
    "sp.solve(2*x**2+x-1,x)"
   ]
  },
  {
   "cell_type": "markdown",
   "id": "dcda30ef",
   "metadata": {},
   "source": [
    "Lập bảng xét dấu của biếu thức :\n",
    "\n",
    "|X    |-oo  | -1 |  _  |1/2  |+oo|\n",
    "| --- | --- | ---|---|--- |---|\n",
    "|f(x) | +  | 0  |  -  | 0  |+|\n",
    "\n",
    "Ta thấy:<br>\n",
    "Khi $0 < x < \\frac{1}{2}$ thì $2x^2+x-1 \\leq 0$ nên $2x^2 \\leq 1-x$<br>\n",
    "Còn khi $\\frac{1}{2} < x < 1 $ thì $2x^2 \\geq 1-x$<br><br>\n",
    "Khi này : \n",
    "\\begin{align}%\\label{}\n",
    "\\nonumber P(Y<2X^2)&=\\int_{-\\infty}^{\\infty} \\int_{-\\infty}^{2x^2} f_{XY}(x,y)dydx\\\\\n",
    "\\nonumber &=\\int_{0}^{\\frac{1}{2}} \\int_{0}^{2x^2} 3x+1 dydx + \\int_{\\frac{1}{2}}^{1} \\int_{0}^{1-x} 3x+1 dydx\\\\\n",
    "\\nonumber &=\\frac{53}{96}.\n",
    "\\end{align}"
   ]
  },
  {
   "cell_type": "code",
   "execution_count": 15,
   "id": "28294dc2",
   "metadata": {},
   "outputs": [
    {
     "data": {
      "text/plain": [
       "0.5520833333333334"
      ]
     },
     "execution_count": 15,
     "metadata": {},
     "output_type": "execute_result"
    }
   ],
   "source": [
    "53/96"
   ]
  },
  {
   "cell_type": "code",
   "execution_count": 16,
   "id": "338b8f37",
   "metadata": {
    "scrolled": true
   },
   "outputs": [
    {
     "data": {
      "text/latex": [
       "$\\displaystyle 0.552083333333333$"
      ],
      "text/plain": [
       "0.552083333333333"
      ]
     },
     "execution_count": 16,
     "metadata": {},
     "output_type": "execute_result"
    }
   ],
   "source": [
    "f = 3*x+1\n",
    "tp3 = sp.integrate(f, (y, 0, 2*x**2), (x,0, 1/2)) + sp.integrate(f, (y, 0, 1-x), (x, 1/2, 1))\n",
    "tp3"
   ]
  },
  {
   "cell_type": "code",
   "execution_count": 17,
   "id": "7a8b9803",
   "metadata": {},
   "outputs": [
    {
     "data": {
      "text/latex": [
       "$\\displaystyle 0.7695$"
      ],
      "text/plain": [
       "0.769500000000000"
      ]
     },
     "execution_count": 17,
     "metadata": {},
     "output_type": "execute_result"
    }
   ],
   "source": [
    "#c1) tính P(Y < 0.9 - X)\n",
    "f = 3*x+1\n",
    "tp4 = sp.integrate(f, (y, 0, 0.9-x), (x,0, 0.9)) \n",
    "tp4"
   ]
  },
  {
   "cell_type": "code",
   "execution_count": 18,
   "id": "23c520cb",
   "metadata": {},
   "outputs": [
    {
     "data": {
      "text/plain": [
       "(0.928000000000000, 0.752000000000000)"
      ]
     },
     "execution_count": 18,
     "metadata": {},
     "output_type": "execute_result"
    }
   ],
   "source": [
    "#c2) tính P(Y < 0.9 - X | X < 0.8) = P(Y < 0.9 - X, X < 0.8) / P(X < 0.8)\n",
    "f = 3*x+1\n",
    "tp5 = sp.integrate(f, (y, 0, 1-x), (x, 0, 0.8))\n",
    "tp6 = sp.integrate(f, (y, 0, 0.9-x), (x, 0, 0.8))\n",
    "tp5, tp6"
   ]
  },
  {
   "cell_type": "code",
   "execution_count": 19,
   "id": "79082144",
   "metadata": {},
   "outputs": [
    {
     "data": {
      "text/latex": [
       "$\\displaystyle 0.810344827586207$"
      ],
      "text/plain": [
       "0.810344827586207"
      ]
     },
     "execution_count": 19,
     "metadata": {},
     "output_type": "execute_result"
    }
   ],
   "source": [
    "#Xác suất có điều kiện cần tính là\n",
    "tp6 / tp5"
   ]
  },
  {
   "cell_type": "markdown",
   "id": "ba43265f",
   "metadata": {},
   "source": [
    "d) Để tính $f(y|x)$, ta tính $\\frac{f(x,y)}{f(x)}=\\frac{3x+1}{(1−𝑥)(3𝑥+1)}=\\frac{1}{1-x}$"
   ]
  },
  {
   "cell_type": "code",
   "execution_count": 20,
   "id": "af123ec1",
   "metadata": {
    "scrolled": false
   },
   "outputs": [
    {
     "data": {
      "text/latex": [
       "$\\displaystyle \\frac{1}{1 - x}$"
      ],
      "text/plain": [
       "1/(1 - x)"
      ]
     },
     "execution_count": 20,
     "metadata": {},
     "output_type": "execute_result"
    }
   ],
   "source": [
    "f_ = f/tplx\n",
    "f_"
   ]
  },
  {
   "cell_type": "markdown",
   "id": "5a80311b",
   "metadata": {},
   "source": [
    "e) Để tính $E[Y|X<0.5]$:<br>\n",
    "$$E[Y|X<0.5]=\\int_{-\\infty }^{+\\infty}{y{{f}_{Y|X}}(y|x)dy}$$ trong đó ${{f}_{Y|X}}(y|x)=\\frac{f(x,y)}{{{f}_{X}}(x)}$. "
   ]
  },
  {
   "cell_type": "code",
   "execution_count": 21,
   "id": "0b05131d",
   "metadata": {},
   "outputs": [
    {
     "data": {
      "text/latex": [
       "$\\displaystyle 0.1875$"
      ],
      "text/plain": [
       "0.187500000000000"
      ]
     },
     "execution_count": 21,
     "metadata": {},
     "output_type": "execute_result"
    }
   ],
   "source": [
    "e1 = sp.integrate(y * f_, (y, 0, 1-x), (x,0, 0.5)) \n",
    "e1"
   ]
  },
  {
   "cell_type": "markdown",
   "id": "9200303c",
   "metadata": {},
   "source": [
    "Vậy $E[Y|X<0.5] = 0.1875$"
   ]
  },
  {
   "attachments": {
    "image_2022-05-10_152405334.png": {
     "image/png": "[encoded data removed]"
    }
   },
   "cell_type": "markdown",
   "id": "1eb1cc63",
   "metadata": {},
   "source": [
    "![image_2022-05-10_152405334.png](attachment:image_2022-05-10_152405334.png)"
   ]
  },
  {
   "cell_type": "markdown",
   "id": "6d0347ff",
   "metadata": {},
   "source": [
    "a) Để tìm k ta có: \n",
    "\\begin{align}%\\label{}\n",
    "\\nonumber 1&=\\int_{-\\infty}^{+\\infty} \\int_{-\\infty}^{+\\infty} f_{XY}(x,y)dxdy\\\\\n",
    "\\nonumber &=\\int_{0}^{+\\infty} \\int_{0}^{+\\infty} ke^{-(2x+3y)} \\hspace{5pt} dydx\\\\\n",
    "\\end{align}"
   ]
  },
  {
   "cell_type": "code",
   "execution_count": 27,
   "id": "d6873ae0",
   "metadata": {
    "scrolled": true
   },
   "outputs": [
    {
     "data": {
      "text/latex": [
       "$\\displaystyle \\frac{k}{6}$"
      ],
      "text/plain": [
       "k/6"
      ]
     },
     "execution_count": 27,
     "metadata": {},
     "output_type": "execute_result"
    }
   ],
   "source": [
    "from sympy.abc import k\n",
    "from sympy import E,oo,integrate\n",
    "f = k*E**-(2*x+3*y)\n",
    "tp = integrate(f,(x,0,+oo),(y,0,+oo))\n",
    "tp"
   ]
  },
  {
   "cell_type": "markdown",
   "id": "689ea472",
   "metadata": {},
   "source": [
    "Vậy k = 6"
   ]
  },
  {
   "cell_type": "markdown",
   "id": "2a950812",
   "metadata": {},
   "source": [
    "b) Tìm phân phối lề x $f_x(x)$ ta tính tích phân theo biến y :\n",
    "\\begin{align}%\\label{}\n",
    "\\nonumber f_X(x)&=\\int_{-\\infty}^{+\\infty} f_{XY}(x,y)dy\\\\\n",
    "\\nonumber &=\\int_{0}^{+\\infty} 6e^{-(2x+3y)} \\hspace{5pt} dy\\\\\n",
    "\\end{align}"
   ]
  },
  {
   "cell_type": "code",
   "execution_count": 30,
   "id": "e29869e5",
   "metadata": {},
   "outputs": [
    {
     "data": {
      "text/latex": [
       "$\\displaystyle 2 e^{- 2 x}$"
      ],
      "text/plain": [
       "2*exp(-2*x)"
      ]
     },
     "execution_count": 30,
     "metadata": {},
     "output_type": "execute_result"
    }
   ],
   "source": [
    "f=6*E**-(2*x+3*y)\n",
    "tplx= integrate(f,(y,0,+oo))\n",
    "tplx"
   ]
  },
  {
   "cell_type": "markdown",
   "id": "61116418",
   "metadata": {},
   "source": [
    "Vậy ta có : \n",
    "\\begin{equation}\n",
    "\\nonumber f_X(x) = \\left\\{\n",
    "\\begin{array}{l l}\n",
    "2e^{-2x} & \\quad  x \\geq o \\\\\n",
    "& \\quad \\\\\n",
    "0 & \\quad \\text{otherwise}\n",
    "\\end{array} \\right.\n",
    "\\end{equation}"
   ]
  },
  {
   "cell_type": "markdown",
   "id": "0a1084f2",
   "metadata": {},
   "source": [
    "Tương tự để tìm phân phối lề y $f_y(y)$ ta sẽ tính tích phân theo biến x:\n",
    "\\begin{align}%\\label{}\n",
    "\\nonumber f_Y(y)&=\\int_{-\\infty}^{+\\infty} f_{XY}(x,y)dx\\\\\n",
    "\\nonumber &=\\int_{0}^{+\\infty} ke^{-(2x+3y)} \\hspace{5pt} dx\\\\\n",
    "\\end{align}"
   ]
  },
  {
   "cell_type": "code",
   "execution_count": 31,
   "id": "0cd13c4e",
   "metadata": {},
   "outputs": [
    {
     "data": {
      "text/latex": [
       "$\\displaystyle 3 e^{- 3 y}$"
      ],
      "text/plain": [
       "3*exp(-3*y)"
      ]
     },
     "execution_count": 31,
     "metadata": {},
     "output_type": "execute_result"
    }
   ],
   "source": [
    "tply = integrate(f,(x,0,+oo))\n",
    "tply"
   ]
  },
  {
   "cell_type": "markdown",
   "id": "fe17c3ea",
   "metadata": {},
   "source": [
    "Vậy ta có : \n",
    "\\begin{equation}\n",
    "\\nonumber f_Y(y) = \\left\\{\n",
    "\\begin{array}{l l}\n",
    "3e^{-3y} & \\quad  y \\geq o \\\\\n",
    "& \\quad \\\\\n",
    "0 & \\quad \\text{otherwise}\n",
    "\\end{array} \\right.\n",
    "\\end{equation}"
   ]
  },
  {
   "cell_type": "code",
   "execution_count": 32,
   "id": "4a0db7d2",
   "metadata": {},
   "outputs": [
    {
     "data": {
      "text/latex": [
       "$\\displaystyle 6 e^{- 2 x} e^{- 3 y}$"
      ],
      "text/plain": [
       "6*exp(-2*x)*exp(-3*y)"
      ]
     },
     "execution_count": 32,
     "metadata": {},
     "output_type": "execute_result"
    }
   ],
   "source": [
    "tplx*tply"
   ]
  },
  {
   "cell_type": "code",
   "execution_count": 33,
   "id": "da3ea034",
   "metadata": {},
   "outputs": [
    {
     "data": {
      "text/latex": [
       "$\\displaystyle 6 e^{- 2 x - 3 y}$"
      ],
      "text/plain": [
       "6*exp(-2*x - 3*y)"
      ]
     },
     "execution_count": 33,
     "metadata": {},
     "output_type": "execute_result"
    }
   ],
   "source": [
    "f"
   ]
  },
  {
   "cell_type": "markdown",
   "id": "a398874a",
   "metadata": {},
   "source": [
    "c)Ta thấy $f_X(x).f_Y(y) = f(x,y)$ nên hai biến ngẫu nhiên này độc lập"
   ]
  },
  {
   "cell_type": "markdown",
   "id": "fb156a64",
   "metadata": {},
   "source": [
    "d) Vì 2 biến ngẫu nhiên này độc lập nên $E[Y|X>2]=E[Y]$\n",
    "\\begin{align}%\\label{}\n",
    "\\nonumber E[Y]&=\\int_{-\\infty}^{+\\infty} \\int_{-\\infty}^{+\\infty} y\\cdot f_{XY}(x,y)\\hspace{5pt}dydx\\\\\n",
    "\\end{align}"
   ]
  },
  {
   "cell_type": "code",
   "execution_count": 36,
   "id": "1b0699fb",
   "metadata": {},
   "outputs": [
    {
     "data": {
      "text/latex": [
       "$\\displaystyle \\frac{1}{3}$"
      ],
      "text/plain": [
       "1/3"
      ]
     },
     "execution_count": 36,
     "metadata": {},
     "output_type": "execute_result"
    }
   ],
   "source": [
    "Ey= integrate(y*f,(y,0,+oo),(x,0,+oo))\n",
    "Ey"
   ]
  },
  {
   "cell_type": "markdown",
   "id": "0519b26f",
   "metadata": {},
   "source": [
    "Vậy  $E[Y|X>2]=\\frac{1}{3}$"
   ]
  },
  {
   "cell_type": "markdown",
   "id": "d584ffba",
   "metadata": {},
   "source": [
    "e) Tính $P(X>Y)$ <br>\n",
    "Ta có :\n",
    "\\begin{align}\n",
    "\\nonumber P(X>Y)&=\\int_{0}^{+\\infty} \\int_{y}^{+\\infty} 6e^{-(2x+3y)} dx dy \\\\\n",
    "\\nonumber &=\\int_{0}^{+\\infty} 3e^{-5y} dy \\\\\n",
    "\\nonumber &=\\frac{3}{5}.\n",
    "\\end{align}\n"
   ]
  },
  {
   "cell_type": "code",
   "execution_count": 40,
   "id": "d1988cca",
   "metadata": {},
   "outputs": [
    {
     "data": {
      "text/latex": [
       "$\\displaystyle \\frac{3}{5}$"
      ],
      "text/plain": [
       "3/5"
      ]
     },
     "execution_count": 40,
     "metadata": {},
     "output_type": "execute_result"
    }
   ],
   "source": [
    "pxy=integrate(f,(x,y,+oo),(y,0,+oo))\n",
    "pxy"
   ]
  },
  {
   "cell_type": "markdown",
   "id": "ad100761",
   "metadata": {},
   "source": [
    "Vậy $P(X>Y)=\\frac{3}{5}$"
   ]
  },
  {
   "cell_type": "markdown",
   "id": "93c1027f",
   "metadata": {},
   "source": [
    "e') Tính $P(Y>X) = 1-P(X>Y)$ <br>\n",
    "Ta có :\n",
    "\\begin{align}\n",
    "\\nonumber P(Y>X)&=\\int_{0}^{+\\infty} \\int_{x}^{+\\infty} 6e^{-(2x+3y)} dydx \\\\\n",
    "\\nonumber &=\\int_{0}^{+\\infty} 2e^{-5y} dx \\\\\n",
    "\\nonumber &=\\frac{2}{5}.\n",
    "\\end{align}\n"
   ]
  },
  {
   "cell_type": "code",
   "execution_count": 44,
   "id": "1ba0c76d",
   "metadata": {},
   "outputs": [
    {
     "data": {
      "text/latex": [
       "$\\displaystyle \\frac{2}{5}$"
      ],
      "text/plain": [
       "2/5"
      ]
     },
     "execution_count": 44,
     "metadata": {},
     "output_type": "execute_result"
    }
   ],
   "source": [
    "pyx=integrate(f,(y,x,+oo),(x,0,+oo))\n",
    "pyx"
   ]
  },
  {
   "cell_type": "code",
   "execution_count": null,
   "id": "f0389afe",
   "metadata": {},
   "outputs": [],
   "source": []
  }
 ],
 "metadata": {
  "kernelspec": {
   "display_name": "Python 3 (ipykernel)",
   "language": "python",
   "name": "python3"
  },
  "language_info": {
   "codemirror_mode": {
    "name": "ipython",
    "version": 3
   },
   "file_extension": ".py",
   "mimetype": "text/x-python",
   "name": "python",
   "nbconvert_exporter": "python",
   "pygments_lexer": "ipython3",
   "version": "3.9.7"
  }
 },
 "nbformat": 4,
 "nbformat_minor": 5
}
