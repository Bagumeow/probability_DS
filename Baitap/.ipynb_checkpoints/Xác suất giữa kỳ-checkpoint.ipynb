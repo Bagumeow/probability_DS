{
 "cells": [
  {
   "cell_type": "code",
   "execution_count": 1,
   "id": "54bc20a0",
   "metadata": {},
   "outputs": [
    {
     "data": {
      "text/html": [
       "<style>.container { width:95% !important; }</style>"
      ],
      "text/plain": [
       "<IPython.core.display.HTML object>"
      ]
     },
     "metadata": {},
     "output_type": "display_data"
    }
   ],
   "source": [
    "from IPython.core.display import display, HTML\n",
    "display(HTML(\"<style>.container { width:95% !important; }</style>\"))"
   ]
  },
  {
   "cell_type": "markdown",
   "id": "0f95f838",
   "metadata": {},
   "source": [
    "# Bài tập xác suất giữa kỳ"
   ]
  },
  {
   "cell_type": "code",
   "execution_count": 2,
   "id": "c7aa0067",
   "metadata": {},
   "outputs": [],
   "source": [
    "from fractions import Fraction as F\n",
    "import matplotlib.pyplot as plt\n",
    "from IPython.display import SVG, Math ,Latex\n",
    "import random"
   ]
  },
  {
   "cell_type": "markdown",
   "id": "aed05e34",
   "metadata": {},
   "source": [
    "**Bài 1.** (3.5 điểm) Cho bảng dữ liệu sau đây sau khi kiểm kê một cửa hàng sữa:\n",
    "\n",
    "|Loại sữa  | Tốt    | Hỏng        | Tổng   |\n",
    "|----------|--------|-------------|--------|\n",
    "| **A**    | 120    | 5           | **125**|\n",
    "| **B**    | 200    | 20          | **220**|\n",
    "| **C**    | 140    | 15          | **155**|\n",
    "\n",
    "Chọn ngẫu nhiên một hộp sữa, tính xác suất để:\n",
    "* a) Đó là sữa loại A.\n",
    "* b) Đó là một hộp tốt.\n",
    "* c) Đó là một hộp sữa loại B bị hỏng.\n",
    "* d) Đó là một hộp sữa loại C, biết rằng hộp sữa được chọn là hỏng.\n",
    "* e) Đó là một hộp sữa tốt, biết rằng hộp sữa được chọn loại A.\n",
    "* f) SV tìm hiểu cách dùng biểu đồ trong link sau đây để chọn ra biểu đồ thích hợp và vẽ minh họa cho dữ liệu trên:"
   ]
  },
  {
   "cell_type": "markdown",
   "id": "965db30b",
   "metadata": {},
   "source": [
    "Ta có: $\\Omega = 125+220+155 = 500$ <br>\n",
    "Gọi A là biến cố \"*Đó là hộp sữa loại A*\" = 125 <br>\n",
    "Gọi T là biến cố \"*Đó là hộp sữa tốt*\" = $120+200+140=460$<br>\n",
    "Gọi BH là biến cố \"*Đó là một hộp sữa loại B bị hỏng*\" = 20<br>\n",
    "Gọi CH là biến cố \"*Đó là hộp sữa loại C bị hỏng*\"<br>\n",
    "Gọi H là biến cố \"*Đó là hộp sữa Hỏng*\"<br>\n",
    "\n"
   ]
  },
  {
   "cell_type": "markdown",
   "id": "da1c1140",
   "metadata": {},
   "source": [
    "Câu a:\n",
    "$P(A) = \\frac{A}{\\Omega}$<br>"
   ]
  },
  {
   "cell_type": "code",
   "execution_count": 3,
   "id": "bb00cf03",
   "metadata": {},
   "outputs": [
    {
     "name": "stdout",
     "output_type": "stream",
     "text": [
      "1/4 0.25\n"
     ]
    }
   ],
   "source": [
    "P_A= F(125,500)\n",
    "print(P_A,float(P_A))"
   ]
  },
  {
   "cell_type": "markdown",
   "id": "680fb6b5",
   "metadata": {},
   "source": [
    "Vậy $P(A) = \\frac{1}{4}$"
   ]
  },
  {
   "cell_type": "markdown",
   "id": "455404b3",
   "metadata": {},
   "source": [
    "Câu b: $P(T) = \\frac{T}{\\Omega}$<br>"
   ]
  },
  {
   "cell_type": "code",
   "execution_count": 4,
   "id": "a8320379",
   "metadata": {},
   "outputs": [
    {
     "name": "stdout",
     "output_type": "stream",
     "text": [
      "23/25 0.92\n"
     ]
    }
   ],
   "source": [
    "P_T= F(460,500)\n",
    "print(P_T,float(P_T))"
   ]
  },
  {
   "cell_type": "markdown",
   "id": "31793e56",
   "metadata": {},
   "source": [
    "Vậy $P(T)=0.92$"
   ]
  },
  {
   "cell_type": "markdown",
   "id": "c551ba61",
   "metadata": {},
   "source": [
    "Câu c: $P(BH) = \\frac{BH}{\\Omega}$<br>"
   ]
  },
  {
   "cell_type": "code",
   "execution_count": 5,
   "id": "e657ba7a",
   "metadata": {},
   "outputs": [
    {
     "name": "stdout",
     "output_type": "stream",
     "text": [
      "1/25 0.04\n"
     ]
    }
   ],
   "source": [
    "P_BH= F(20,500)\n",
    "print(P_BH,float(P_BH))"
   ]
  },
  {
   "cell_type": "markdown",
   "id": "8135ba2f",
   "metadata": {},
   "source": [
    "Vậy $P(BH)=0.04$"
   ]
  },
  {
   "cell_type": "markdown",
   "id": "8d0f86a1",
   "metadata": {},
   "source": [
    "Câu d: gọi $P(C|H)$ là xác suất \"*Đó là một hộp sữa loại C, biết rằng hộp sữa được chọn là hỏng.*\"<br>\n",
    "$P(C|H)=\\frac{P(CH)}{P(H)}$"
   ]
  },
  {
   "cell_type": "code",
   "execution_count": 6,
   "id": "5ab74f7d",
   "metadata": {},
   "outputs": [
    {
     "name": "stdout",
     "output_type": "stream",
     "text": [
      "3/8 0.375\n"
     ]
    }
   ],
   "source": [
    "P_C_H = F(15,40)\n",
    "print(P_C_H,float(P_C_H))"
   ]
  },
  {
   "cell_type": "markdown",
   "id": "5c34eece",
   "metadata": {},
   "source": [
    "Vậy $P(C|H)=0.375$"
   ]
  },
  {
   "cell_type": "markdown",
   "id": "1ff51ab7",
   "metadata": {},
   "source": [
    "Câu e: Gọi $P(T|A)$ là xác suất \"*Đó là một hộp sữa tốt, biết rằng hộp sữa được chọn loại A.*\"<br>\n",
    "$P(T|A)=\\frac{P(TA)}{P(A)}$<br>"
   ]
  },
  {
   "cell_type": "code",
   "execution_count": 7,
   "id": "11f0e1c4",
   "metadata": {
    "scrolled": true
   },
   "outputs": [
    {
     "name": "stdout",
     "output_type": "stream",
     "text": [
      "24/25 0.96\n"
     ]
    }
   ],
   "source": [
    "P_T_A = F(120,125)\n",
    "print(P_T_A ,float(P_T_A))"
   ]
  },
  {
   "cell_type": "markdown",
   "id": "1d780b81",
   "metadata": {},
   "source": [
    "Vậy $P(T|A)=0.96$"
   ]
  },
  {
   "cell_type": "markdown",
   "id": "95564110",
   "metadata": {},
   "source": [
    "* Câu F"
   ]
  },
  {
   "cell_type": "code",
   "execution_count": 8,
   "id": "348905e5",
   "metadata": {},
   "outputs": [
    {
     "data": {
      "image/png": "[encoded data removed]",
      "text/plain": [
       "<Figure size 576x396 with 1 Axes>"
      ]
     },
     "metadata": {},
     "output_type": "display_data"
    }
   ],
   "source": [
    "import numpy as np\n",
    "import matplotlib.pyplot as plt\n",
    "plt.style.use('seaborn')\n",
    "\n",
    "# data to plot\n",
    "n_groups = 3\n",
    "suaT = (120, 200 ,140)\n",
    "suaH = (5,20,15)\n",
    "\n",
    "index = np.arange(n_groups)\n",
    "bar_width = 0.35\n",
    "opacity = 0.8\n",
    "\n",
    "rects1 = plt.bar(index, suaT, bar_width,\n",
    "alpha=opacity,\n",
    "color='b',\n",
    "label='Tốt')\n",
    "\n",
    "rects2 = plt.bar(index + bar_width, suaH, bar_width,\n",
    "alpha=opacity,\n",
    "color='g',\n",
    "label='Hỏng')\n",
    "\n",
    "plt.xlabel('Sữa')\n",
    "plt.ylabel('Số Lượng')\n",
    "plt.title('Số lượng sữa')\n",
    "plt.xticks(index + bar_width, ('A', 'B', 'C'))\n",
    "plt.legend();"
   ]
  },
  {
   "cell_type": "markdown",
   "id": "624a1eec",
   "metadata": {},
   "source": [
    "* **Bài 2**. (2.5 điểm) Cho bảng dữ liệu sau đây của đại lượng ngẫu nhiên X"
   ]
  },
  {
   "cell_type": "code",
   "execution_count": 9,
   "id": "53ba8d8f",
   "metadata": {},
   "outputs": [],
   "source": [
    "X=np.array([1, 4 ,5 ,8, 10, 15, 22, 25],dtype=float)\n",
    "P_X=np.array([3/30, 7/30, 2/30, 5/30, 3/30 ,1/30, 5/30, 4/30])"
   ]
  },
  {
   "cell_type": "markdown",
   "id": "bd9a0f93",
   "metadata": {},
   "source": [
    "* Câu a\n",
    " * Kì vọng là : $\\sum_{i}^{} P(X=xi)* xi$"
   ]
  },
  {
   "cell_type": "code",
   "execution_count": 10,
   "id": "3e275015",
   "metadata": {},
   "outputs": [
    {
     "data": {
      "text/plain": [
       "11.2"
      ]
     },
     "execution_count": 10,
     "metadata": {},
     "output_type": "execute_result"
    }
   ],
   "source": [
    "E_X = X@P_X\n",
    "E_X"
   ]
  },
  {
   "cell_type": "markdown",
   "id": "1a7b5cd6",
   "metadata": {},
   "source": [
    "Vậy $E[x] = 11.2$"
   ]
  },
  {
   "cell_type": "markdown",
   "id": "05f7fcb6",
   "metadata": {},
   "source": [
    "* **Công thức tính phương sai từ Kỳ vọng** : $$Var[x]= E[x^2] - (E[x])^2$$"
   ]
  },
  {
   "cell_type": "code",
   "execution_count": 11,
   "id": "5809fcfa",
   "metadata": {},
   "outputs": [],
   "source": [
    "XX= X*X"
   ]
  },
  {
   "cell_type": "code",
   "execution_count": 12,
   "id": "de557e98",
   "metadata": {},
   "outputs": [
    {
     "data": {
      "text/plain": [
       "197.66666666666663"
      ]
     },
     "execution_count": 12,
     "metadata": {},
     "output_type": "execute_result"
    }
   ],
   "source": [
    "E_XX = XX@P_X\n",
    "E_XX"
   ]
  },
  {
   "cell_type": "code",
   "execution_count": 13,
   "id": "09cc0c8c",
   "metadata": {},
   "outputs": [
    {
     "data": {
      "text/plain": [
       "125.43999999999998"
      ]
     },
     "execution_count": 13,
     "metadata": {},
     "output_type": "execute_result"
    }
   ],
   "source": [
    "E_X*E_X"
   ]
  },
  {
   "cell_type": "code",
   "execution_count": 14,
   "id": "648a84a7",
   "metadata": {},
   "outputs": [
    {
     "data": {
      "text/plain": [
       "72.23"
      ]
     },
     "execution_count": 14,
     "metadata": {},
     "output_type": "execute_result"
    }
   ],
   "source": [
    "var_x= E_XX - E_X**2\n",
    "var_x.round(2)"
   ]
  },
  {
   "cell_type": "code",
   "execution_count": 15,
   "id": "d15e29e2",
   "metadata": {},
   "outputs": [
    {
     "data": {
      "text/plain": [
       "8.499"
      ]
     },
     "execution_count": 15,
     "metadata": {},
     "output_type": "execute_result"
    }
   ],
   "source": [
    "std_x=np.sqrt(var_x)\n",
    "std_x.round(3)"
   ]
  },
  {
   "cell_type": "markdown",
   "id": "954d4d00",
   "metadata": {},
   "source": [
    "Vậy $Var[x]=72.227$ <br>\n",
    "và  $Std[x]=\\sqrt{Var[x]} =8.5$"
   ]
  },
  {
   "cell_type": "code",
   "execution_count": 16,
   "id": "779c9def",
   "metadata": {
    "scrolled": false
   },
   "outputs": [
    {
     "data": {
      "text/plain": [
       "(array([1], dtype=int64),)"
      ]
     },
     "execution_count": 16,
     "metadata": {},
     "output_type": "execute_result"
    }
   ],
   "source": [
    "np.where(P_X==P_X.max())"
   ]
  },
  {
   "cell_type": "code",
   "execution_count": 17,
   "id": "e7e9584e",
   "metadata": {},
   "outputs": [
    {
     "data": {
      "text/plain": [
       "4.0"
      ]
     },
     "execution_count": 17,
     "metadata": {},
     "output_type": "execute_result"
    }
   ],
   "source": [
    "X[1]"
   ]
  },
  {
   "cell_type": "markdown",
   "id": "f0f1f505",
   "metadata": {},
   "source": [
    "* Mốt là giá trị mà $P(X)$ lớn nhất $\\rightarrow$ mốt = 4"
   ]
  },
  {
   "cell_type": "code",
   "execution_count": 18,
   "id": "a6942d4a",
   "metadata": {},
   "outputs": [
    {
     "name": "stdout",
     "output_type": "stream",
     "text": [
      "index =0, prob=0.1\n",
      "index =1, prob=0.33\n",
      "index =2, prob=0.4\n",
      "index =3, prob=0.57\n",
      "index =4, prob=0.67\n",
      "index =5, prob=0.7\n",
      "index =6, prob=0.87\n",
      "index =7, prob=1.0\n"
     ]
    }
   ],
   "source": [
    "sump=0\n",
    "idx=-1\n",
    "for i in P_X:\n",
    "    idx+=1\n",
    "    sump+=i\n",
    "    print('index ='+str(idx)+', prob='+str(sump.round(2)))"
   ]
  },
  {
   "cell_type": "code",
   "execution_count": 19,
   "id": "79f76733",
   "metadata": {},
   "outputs": [
    {
     "data": {
      "text/plain": [
       "8.0"
      ]
     },
     "execution_count": 19,
     "metadata": {},
     "output_type": "execute_result"
    }
   ],
   "source": [
    "X[3]"
   ]
  },
  {
   "cell_type": "markdown",
   "id": "cbe2d444",
   "metadata": {},
   "source": [
    "* Ta thấy tại $index = 3$ thì xác suất vừa mới lớn hơn $1/2$<br>\n",
    "Vậy Trung vị của $ X =8$"
   ]
  },
  {
   "cell_type": "markdown",
   "id": "f40afcbb",
   "metadata": {},
   "source": [
    "* Câu b"
   ]
  },
  {
   "cell_type": "code",
   "execution_count": 20,
   "id": "e35b24ce",
   "metadata": {},
   "outputs": [],
   "source": [
    "from sympy import *"
   ]
  },
  {
   "cell_type": "code",
   "execution_count": 21,
   "id": "45f8d73a",
   "metadata": {},
   "outputs": [
    {
     "data": {
      "text/latex": [
       "$\\displaystyle \\frac{1}{10}$"
      ],
      "text/plain": [
       "1/10"
      ]
     },
     "execution_count": 21,
     "metadata": {},
     "output_type": "execute_result"
    }
   ],
   "source": [
    "x= Symbol('x')\n",
    "p =solve('(1-x)**0*x-3/30')\n",
    "p[0]"
   ]
  },
  {
   "cell_type": "code",
   "execution_count": 22,
   "id": "5ac7ddeb",
   "metadata": {},
   "outputs": [
    {
     "data": {
      "text/latex": [
       "$\\displaystyle \\frac{3}{4} - \\frac{\\sqrt{\\frac{1}{4} + \\frac{7}{45 \\sqrt[3]{\\frac{7}{480} + \\frac{7 \\sqrt{2455} i}{21600}}} + 2 \\sqrt[3]{\\frac{7}{480} + \\frac{7 \\sqrt{2455} i}{21600}}}}{2} - \\frac{\\sqrt{\\frac{1}{2} - 2 \\sqrt[3]{\\frac{7}{480} + \\frac{7 \\sqrt{2455} i}{21600}} + \\frac{1}{4 \\sqrt{\\frac{1}{4} + \\frac{7}{45 \\sqrt[3]{\\frac{7}{480} + \\frac{7 \\sqrt{2455} i}{21600}}} + 2 \\sqrt[3]{\\frac{7}{480} + \\frac{7 \\sqrt{2455} i}{21600}}}} - \\frac{7}{45 \\sqrt[3]{\\frac{7}{480} + \\frac{7 \\sqrt{2455} i}{21600}}}}}{2}$"
      ],
      "text/plain": [
       "3/4 - sqrt(1/4 + 7/(45*(7/480 + 7*sqrt(2455)*I/21600)**(1/3)) + 2*(7/480 + 7*sqrt(2455)*I/21600)**(1/3))/2 - sqrt(1/2 - 2*(7/480 + 7*sqrt(2455)*I/21600)**(1/3) + 1/(4*sqrt(1/4 + 7/(45*(7/480 + 7*sqrt(2455)*I/21600)**(1/3)) + 2*(7/480 + 7*sqrt(2455)*I/21600)**(1/3))) - 7/(45*(7/480 + 7*sqrt(2455)*I/21600)**(1/3)))/2"
      ]
     },
     "execution_count": 22,
     "metadata": {},
     "output_type": "execute_result"
    }
   ],
   "source": [
    "x= Symbol('x')\n",
    "p =solve('(1-x)**3*x-7/30')\n",
    "p[0]"
   ]
  },
  {
   "cell_type": "markdown",
   "id": "bc5893b9",
   "metadata": {},
   "source": [
    "Đây không phải phân phối hình học vì:<br>\n",
    "Ta có công thức tính xác suất của phân phối hình học là :$P(X=x) = (1-p)^{x-1}p$"
   ]
  },
  {
   "cell_type": "markdown",
   "id": "78454682",
   "metadata": {},
   "source": [
    "Áp dụng công thức vào giải p ta thấy các giá trị của p khác nhau vậy nên đây không phải là phân phối hình học"
   ]
  },
  {
   "cell_type": "markdown",
   "id": "6da3fa9b",
   "metadata": {},
   "source": [
    "* **Bài 3**. (4 điểm) Xét các tình huống sau đây:\n",
    "1. Tỷ lệ cử tri ủng hộ cho ứng cử viên A trong một cuộc bầu cử tổng thống là 65%. Người ta hỏi ý kiến của 20 cử tri được chọn một cách ngẫu nhiên và gọi X là số người bỏ phiếu cho A trong số 20 người đó. <br>\n",
    "Hãy xác định loại phân bố xác suất của X. Từ đó bằng cách dùng các thư viện của Python, hãy tính\n",
    "$P(X\\leqslant 4), P(X>15) $,kỳ vọng, phương sai của X.<br>\n",
    "2. Ở một tổng đài xe khách, cứ trung bình 1 phút sẽ có 2 cuộc gọi đến đặt chỗ, các cú điện thoại xuất hiện ngẫu nhiên, độc lập với nhau. <br>\n",
    "Hãy xác định loại phân bố xác suất của X. Từ đó bằng cách dùng các thư viện của Python, hãy tính xác suất để có 5 cuộc gọi trong 2 phút, xác suất để không có cuộc gọi nào trong 30 giây, xác suất để có ít nhất một cuộc gọi trong 90 giây<br>"
   ]
  },
  {
   "cell_type": "markdown",
   "id": "48d5a715",
   "metadata": {},
   "source": [
    "* 1) Loại phân bố xác suất của X là phân phối nhị thức. với n=20,p=0.65"
   ]
  },
  {
   "cell_type": "code",
   "execution_count": 23,
   "id": "12c2672c",
   "metadata": {},
   "outputs": [],
   "source": [
    "n=20\n",
    "p=0.65"
   ]
  },
  {
   "cell_type": "code",
   "execution_count": 24,
   "id": "b84f566e",
   "metadata": {},
   "outputs": [],
   "source": [
    "from scipy import stats"
   ]
  },
  {
   "cell_type": "code",
   "execution_count": 25,
   "id": "f547a655",
   "metadata": {},
   "outputs": [],
   "source": [
    "X= stats.binom(n,p)"
   ]
  },
  {
   "cell_type": "code",
   "execution_count": 26,
   "id": "dada7602",
   "metadata": {},
   "outputs": [
    {
     "name": "stdout",
     "output_type": "stream",
     "text": [
      "Xác suất của X <|= 4 là: 4.9940887071681945e-05\n",
      "Xác suất của X> 5 là: 0.1181965594387071\n",
      "Kỳ vọng là E[x]= 13.0\n",
      "Phương sai là Var[x]= 4.55\n"
     ]
    }
   ],
   "source": [
    "print('Xác suất của X <|= 4 là:',X.cdf(4))\n",
    "print('Xác suất của X> 5 là:',(1-X.cdf(15)))\n",
    "print('Kỳ vọng là E[x]=',X.mean())\n",
    "print('Phương sai là Var[x]=',X.var())"
   ]
  },
  {
   "cell_type": "markdown",
   "id": "3375efbf",
   "metadata": {},
   "source": [
    "* 2)Loại phân bố xác suất của X là phân phối poision với $\\lambda_1$ của 1 phút = 2 <br>\n",
    "vậy $\\lambda_2$ của 2 phút =$\\lambda_1 * 2$<br>\n",
    "$\\lambda_3$ của 30 giây = $\\lambda_1 /2 $<br>\n",
    "$\\lambda_4$ của 90 giây = $\\lambda_3 *2 $"
   ]
  },
  {
   "cell_type": "code",
   "execution_count": 27,
   "id": "1ed22b7e",
   "metadata": {
    "scrolled": true
   },
   "outputs": [
    {
     "name": "stdout",
     "output_type": "stream",
     "text": [
      "2 4 1.0 3.0\n"
     ]
    }
   ],
   "source": [
    "lambda1=2\n",
    "lambda2=lambda1*2\n",
    "lambda3=lambda1/2\n",
    "lambda4=lambda3*3\n",
    "print(lambda1,lambda2,lambda3,lambda4)"
   ]
  },
  {
   "cell_type": "markdown",
   "id": "4f1719a9",
   "metadata": {},
   "source": [
    "Gọi X là Phối phối poision với $\\lambda_2= 2$"
   ]
  },
  {
   "cell_type": "code",
   "execution_count": 28,
   "id": "c0f23726",
   "metadata": {},
   "outputs": [
    {
     "name": "stdout",
     "output_type": "stream",
     "text": [
      "Xác suất để có 5 cuộc gọi trong 2 phút là: 0.1563\n"
     ]
    }
   ],
   "source": [
    "X =stats.poisson(lambda2)\n",
    "print('Xác suất để có 5 cuộc gọi trong 2 phút là:',X.pmf(5).round(4))"
   ]
  },
  {
   "cell_type": "markdown",
   "id": "b2d7a063",
   "metadata": {},
   "source": [
    "Gọi Y là Phối phối poision với $\\lambda_3= 1$"
   ]
  },
  {
   "cell_type": "code",
   "execution_count": 29,
   "id": "1018f3ca",
   "metadata": {},
   "outputs": [
    {
     "name": "stdout",
     "output_type": "stream",
     "text": [
      "Xác suất để không có cuộc gọi nào trong 30 giây là: 0.3679\n"
     ]
    }
   ],
   "source": [
    "Y = stats.poisson(lambda3)\n",
    "print('Xác suất để không có cuộc gọi nào trong 30 giây là:',Y.pmf(0).round(4))"
   ]
  },
  {
   "cell_type": "markdown",
   "id": "74cf2244",
   "metadata": {},
   "source": [
    "Gọi Z là Phối phối poision với $\\lambda_4= 3$"
   ]
  },
  {
   "cell_type": "markdown",
   "id": "a3e867f5",
   "metadata": {},
   "source": [
    "$X>0 == X\\geq 1$"
   ]
  },
  {
   "cell_type": "code",
   "execution_count": 30,
   "id": "28efb3bc",
   "metadata": {},
   "outputs": [
    {
     "name": "stdout",
     "output_type": "stream",
     "text": [
      "Xác suất để có ít nhất một cuộc gọi trong 90 giây là 0.9502\n"
     ]
    }
   ],
   "source": [
    "Z = stats.poisson(lambda4) \n",
    "print('Xác suất để có ít nhất một cuộc gọi trong 90 giây là',(1-Z.cdf(0)).round(4))"
   ]
  },
  {
   "cell_type": "code",
   "execution_count": null,
   "id": "f4ea8659",
   "metadata": {},
   "outputs": [],
   "source": []
  }
 ],
 "metadata": {
  "kernelspec": {
   "display_name": "Python 3 (ipykernel)",
   "language": "python",
   "name": "python3"
  },
  "language_info": {
   "codemirror_mode": {
    "name": "ipython",
    "version": 3
   },
   "file_extension": ".py",
   "mimetype": "text/x-python",
   "name": "python",
   "nbconvert_exporter": "python",
   "pygments_lexer": "ipython3",
   "version": "3.9.7"
  }
 },
 "nbformat": 4,
 "nbformat_minor": 5
}
