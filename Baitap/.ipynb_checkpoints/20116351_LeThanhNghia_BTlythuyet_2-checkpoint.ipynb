{
 "cells": [
  {
   "cell_type": "code",
   "execution_count": 6,
   "metadata": {},
   "outputs": [
    {
     "data": {
      "text/html": [
       "<style>.container { width:90% !important; }</style>"
      ],
      "text/plain": [
       "<IPython.core.display.HTML object>"
      ]
     },
     "metadata": {},
     "output_type": "display_data"
    }
   ],
   "source": [
    "from IPython.core.display import display, HTML\n",
    "display(HTML(\"<style>.container { width:90% !important; }</style>\"))"
   ]
  },
  {
   "cell_type": "code",
   "execution_count": 1,
   "metadata": {},
   "outputs": [],
   "source": [
    "from IPython.display import SVG, Math\n",
    "from fractions import Fraction as F\n",
    "import matplotlib.pyplot as plt\n",
    "import random\n",
    "from sympy import Symbol,symbols, solve\n",
    "import numpy as np\n",
    "import math"
   ]
  },
  {
   "cell_type": "markdown",
   "metadata": {},
   "source": [
    "# CÔNG THỨC BAYES. CÁC LUẬT PHÂN BỐ XÁC SUẤT\n",
    "**XÁC SUẤT TRONG KHOA HỌC DỮ LIỆU**"
   ]
  },
  {
   "cell_type": "markdown",
   "metadata": {},
   "source": [
    "## Bài 1. \n",
    "Một cặp trẻ sinh đôi có thể do cùng trứng (gọi là sinh đôi thật) hay khác trứng (gọi là\n",
    "sinh đôi giả). Các cặp thật luôn có cùng giới tính. Cặp sinh đôi giả thì giới tính của mỗi bé\n",
    "độc lập với nhau và có xác suất $0.5$ là con trai, $0.5$ là con gái. Thống kê cho thấy $34%$ cặp\n",
    "sinh đôi đều là trai, $30%$ cặp sinh đôi đều là gái và $36%$ cặp sinh đôi có giới tính khác nhau.\n",
    "1) Tìm tỷ lệ cặp thật trên tổng số các cặp sinh đôi. <br>\n",
    "2) Tìm tỷ lệ cặp thật trên tổng số cặp sinh đôi cùng giới tính."
   ]
  },
  {
   "cell_type": "markdown",
   "metadata": {},
   "source": [
    "## Lời giải"
   ]
  },
  {
   "cell_type": "markdown",
   "metadata": {},
   "source": [
    "Đặt các biến cố:\n",
    "* $A$ là \"cặp sinh đôi cùng trứng (sinh đôi thật)\"\n",
    "* $B$ là \"cặp sinh đôi cùng giới tính\""
   ]
  },
  {
   "cell_type": "markdown",
   "metadata": {},
   "source": [
    "a) Gọi $x$ là xác suất có một cặp sinh đôi thật. Khi đó $P(A)=x$ và $P(A^c) = 1-x$. <br>\n",
    "* Trong cặp sinh đôi thật: xác suất cùng giới là $1$, xác suất khác giới là $0$.\n",
    "* Trong cặp sinh đôi giả: xác suất cùng giới là $\\frac{1}{2}$, xác suất khác giới là $\\frac{1}{2}$."
   ]
  },
  {
   "cell_type": "markdown",
   "metadata": {},
   "source": [
    "Theo công thức xác suất đầy đủ thì $$P(B^c) = P(A).P(B^c|A) + P(A^c).P(B^c|A^c) = x.0 + (1-x).\\frac{1}{2}.$$"
   ]
  },
  {
   "cell_type": "markdown",
   "metadata": {},
   "source": [
    "Tổng số cặp sinh đôi là: "
   ]
  },
  {
   "cell_type": "code",
   "execution_count": 2,
   "metadata": {},
   "outputs": [
    {
     "data": {
      "text/plain": [
       "100"
      ]
     },
     "execution_count": 2,
     "metadata": {},
     "output_type": "execute_result"
    }
   ],
   "source": [
    "34+30+36"
   ]
  },
  {
   "cell_type": "markdown",
   "metadata": {},
   "source": [
    "Xác suất sinh đôi khác giới tính là:"
   ]
  },
  {
   "cell_type": "code",
   "execution_count": 3,
   "metadata": {},
   "outputs": [
    {
     "name": "stdout",
     "output_type": "stream",
     "text": [
      "9/25\n"
     ]
    }
   ],
   "source": [
    "P_Bc=F(36,100)\n",
    "print(P_Bc)"
   ]
  },
  {
   "cell_type": "code",
   "execution_count": 4,
   "metadata": {},
   "outputs": [
    {
     "data": {
      "text/plain": [
       "[0.280000000000000]"
      ]
     },
     "execution_count": 4,
     "metadata": {},
     "output_type": "execute_result"
    }
   ],
   "source": [
    "x = symbols('x')\n",
    "sol = solve((1-x)*(1/2)-P_Bc)\n",
    "sol"
   ]
  },
  {
   "cell_type": "code",
   "execution_count": 5,
   "metadata": {},
   "outputs": [
    {
     "data": {
      "text/plain": [
       "{x: 0.280000000000000}"
      ]
     },
     "execution_count": 5,
     "metadata": {},
     "output_type": "execute_result"
    }
   ],
   "source": [
    "x= Symbol('x')\n",
    "solve([(1-x)*(1/2)-P_Bc])"
   ]
  },
  {
   "cell_type": "markdown",
   "metadata": {},
   "source": [
    "Sau khi giải phương trình, ta tìm được xác suất sinh đôi thật là $P(A) = x = 0.28.$"
   ]
  },
  {
   "cell_type": "markdown",
   "metadata": {},
   "source": [
    "b) Tỷ lệ cặp sinh đôi cùng giới tính là:"
   ]
  },
  {
   "cell_type": "code",
   "execution_count": 6,
   "metadata": {},
   "outputs": [
    {
     "data": {
      "text/plain": [
       "0.64"
      ]
     },
     "execution_count": 6,
     "metadata": {},
     "output_type": "execute_result"
    }
   ],
   "source": [
    "P_B = (34+30)/100\n",
    "P_B"
   ]
  },
  {
   "cell_type": "markdown",
   "metadata": {},
   "source": [
    "Tỷ lệ cần tìm (sinh đôi thật trên tỷ lệ cùng giới tính): $$P(A|B) = \\frac{P(AB)}{P(B)}=\\frac{P(A)P(B|A)}{P(B)} = \\frac{0.28}{0.64}$$"
   ]
  },
  {
   "cell_type": "code",
   "execution_count": 7,
   "metadata": {},
   "outputs": [
    {
     "name": "stdout",
     "output_type": "stream",
     "text": [
      "0.44\n"
     ]
    }
   ],
   "source": [
    "P = 0.28/0.64\n",
    "print(f\"{P:.2f}\")"
   ]
  },
  {
   "cell_type": "markdown",
   "metadata": {},
   "source": [
    "Vậy xác suất cần tìm là $0.44$."
   ]
  },
  {
   "cell_type": "markdown",
   "metadata": {},
   "source": [
    "## Bài 2. \n",
    "Trong số bệnh nhân ở một bệnh viện có $50%$ điều trị bệnh A, $30%$ điều trị bệnh $B$ và\n",
    "$20%$ điều trị bệnh C. Xác suất để chữa khỏi các bệnh A, B và C tương ứng là $0.7$; $0.8$ và $0.9.$\n",
    "Tính tỷ lệ bệnh nhân được chữa khỏi bệnh A trong tổng số bệnh nhân đã được chữa khỏi."
   ]
  },
  {
   "cell_type": "markdown",
   "metadata": {},
   "source": [
    "Ta có Tỷ lệ bệnh nhân $A, B, C$ là: $50\\%, 30\\%, 20\\%.$ <br>\n",
    "Xác suất để khỏi bệnh $A, B, C$ là: $0.7, 0.8, 0.9.$\n",
    "\n",
    "Gọi $E$ là biến cố \"khỏi bệnh\":\n",
    "$$P(E) = P(A).P(E|A) + P(B).P(E|B) + P(C).P(E|C)$$\n",
    " $$= 0.5 * 0.7 + 0.3 * 0.8 + 0.2 * 0.9 $$"
   ]
  },
  {
   "cell_type": "code",
   "execution_count": 8,
   "metadata": {},
   "outputs": [
    {
     "data": {
      "text/plain": [
       "0.77"
      ]
     },
     "execution_count": 8,
     "metadata": {},
     "output_type": "execute_result"
    }
   ],
   "source": [
    "P_E = 0.5 * 0.7 + 0.3 * 0.8 + 0.2 * 0.9\n",
    "P_E"
   ]
  },
  {
   "cell_type": "markdown",
   "metadata": {},
   "source": [
    "Xác suất của biến cố khỏi bệnh $P(E) = 0.77.$"
   ]
  },
  {
   "cell_type": "markdown",
   "metadata": {},
   "source": [
    "Tính tỷ lệ bệnh nhân được chữa khỏi bệnh A trong tổng số bệnh nhân đã được chữa khỏi\n",
    "$$P(A|E) = \\frac{P(AE)}{P(E)}=\\frac{P(A)P(E|A))}{P(E)} = \\frac{0.5*0.7}{P(E)}.$$"
   ]
  },
  {
   "cell_type": "code",
   "execution_count": 9,
   "metadata": {},
   "outputs": [
    {
     "name": "stdout",
     "output_type": "stream",
     "text": [
      "0.45\n"
     ]
    }
   ],
   "source": [
    "P = 0.5*0.7  / P_E\n",
    "print(f\"{P:.2f}\")"
   ]
  },
  {
   "cell_type": "markdown",
   "metadata": {},
   "source": [
    "Xác suất cần tìm là $P(A|E) = 0.45.$"
   ]
  },
  {
   "cell_type": "markdown",
   "metadata": {},
   "source": [
    "## Bài 3:"
   ]
  },
  {
   "cell_type": "markdown",
   "metadata": {},
   "source": [
    "Kết quả của một xét nghiệm bệnh sốt xuất huyết trên trẻ em tại một cơ sở y tế được ghi nhận theo bảng sau (trong đó a b c d , , ,là các số nguyên dương):\n",
    "\n",
    "|    **Kết quả xét nghiệm**     | **Thực tế có bị bệnh**  | **Thực tế không bị bệnh**  | \n",
    "|-------------------------------|-------------------------|----------------------------|\n",
    "| **Dương tính**                | **a**                   |   **b**                    | \n",
    "| **Âm tính**                   | **c**                  |     **d**                  | \n",
    "\n",
    "Cho biết rằng có hai tiêu chí để đánh giá độ chính xác của dữ liệu là: “độ nhạy” (xét nghiệm \n",
    "đúng người bị bệnh) và “độ đặc hiệu” (xét nghiệm đúng người không bị bệnh) và chúng \n",
    "được tính bởi: \n",
    "$$ \\textrm{Độ nhạy} = \\frac{a}{a+c};     \\textrm{Độ đặc hiệu} = \\frac{d}{b+d}$$\n",
    "<br>\n",
    "Giả sử xét nghiệm trên có độ nhạy là 95% và độ đặc hiệu là 99%. Biết rằng tỷ lệ bệnh sốt \n",
    "xuất huyết trên trẻ em được khảo sát là 5%. Hỏi trong những người có kết quả xét nghiệm \n",
    "dương tính, có bao nhiêu phần trăm thật sự mắc bệnh sốt xuất huyết\n"
   ]
  },
  {
   "cell_type": "markdown",
   "metadata": {},
   "source": [
    "Giải: Ta có $\\textrm{Độ nhạy} = \\frac{a}{a+c} = 0,95 \\Leftrightarrow a+c=\\frac{a}{0.95}; \\textrm{Độ đặc hiệu} = \\frac{d}{b+d}=0.99\\Leftrightarrow b+d=\\frac{d}{0.99} \\Rightarrow b=\\frac{d}{0.99}-d $<br>\n",
    "a+b+c+d = 100% mà tỷ lệ bệnh sốt xuất huyết trên trẻ em được khảo sát là 5% $\\Rightarrow$ $a=0.05(a+b+c+d)$<br>\n",
    "\n"
   ]
  },
  {
   "cell_type": "markdown",
   "metadata": {},
   "source": [
    " mà: $$a=0.05(a+b+c+d)$$\n",
    " $$\\Leftrightarrow a=0.05(\\frac{a}{0.95}+\\frac{d}{0.99})$$<br>\n",
    " $$\\Leftrightarrow a = \\frac{0.0495}{0.9405}a+\\frac{0.0475}{0.9405}d$$<br>\n",
    "  $$\\Leftrightarrow a = \\frac{1}{19}a+\\frac{5}{99}d$$<br>\n",
    "    $$\\Leftrightarrow \\frac{18}{19}a=\\frac{5}{99}d$$.<br>\n",
    "      $$\\Leftrightarrow a=\\frac{95}{1782}d$$"
   ]
  },
  {
   "cell_type": "markdown",
   "metadata": {},
   "source": [
    "Tổng những người có kết quả dương tính là a+b\n",
    "vậy xác suất để người thật sự mắc bệnh là $$P = \\frac{a}{a+b}$$<br>\n",
    "            $$\\Leftrightarrow P=\\frac{\\frac{95}{1782}d}{\\frac{95}{1782}d+(\\frac{d}{0.99}-d)}$$"
   ]
  },
  {
   "cell_type": "code",
   "execution_count": 53,
   "metadata": {},
   "outputs": [
    {
     "data": {
      "text/plain": [
       "0.840707964601769"
      ]
     },
     "execution_count": 53,
     "metadata": {},
     "output_type": "execute_result"
    }
   ],
   "source": [
    "a=95/1782\n",
    "b=1/0.99-1\n",
    "P= a/(a+b)\n",
    "P"
   ]
  },
  {
   "cell_type": "markdown",
   "metadata": {},
   "source": [
    "Vậy tỷ lệ để người dương tính thực sự mắc bệnh là : $P=84,1$%"
   ]
  },
  {
   "cell_type": "markdown",
   "metadata": {},
   "source": [
    "## Bài 4."
   ]
  },
  {
   "cell_type": "markdown",
   "metadata": {},
   "source": [
    "Cho bảng phân phối xác suất sau đây ứng với biến ngẫu nhiên X:\n",
    "\n",
    "|    **X**     | -3  | -2  | -1  | 0  | 1   | 2   | 3   | 4   |\n",
    "|--------------|-----|-----|-----|----|-----|-----|-----|-----|\n",
    "| **P(X=xi)**   | 0.2 | 0.15| 0.05| 0.1| 0.1 |0.05 | 0.05| **a** |\n",
    "\n",
    "\n",
    "\n",
    "a) Xác định giá trị của a, từ đó tìm kỳ vọng, phương sai của $ X$.<br>\n",
    "b) Cho $Y = 4 – 5X$ . Không lập bảng phân bố, hãy tìm cách tính kỳ vọng và phương sai của $ Y$."
   ]
  },
  {
   "cell_type": "markdown",
   "metadata": {},
   "source": [
    "Tổng các giá trị của $P(X=xi) = 1$"
   ]
  },
  {
   "cell_type": "markdown",
   "metadata": {},
   "source": [
    "Vậy $a = 1- \\sum_{i}P(X=xi)$"
   ]
  },
  {
   "cell_type": "code",
   "execution_count": 10,
   "metadata": {},
   "outputs": [
    {
     "data": {
      "text/plain": [
       "0.3"
      ]
     },
     "execution_count": 10,
     "metadata": {},
     "output_type": "execute_result"
    }
   ],
   "source": [
    "a=1-(0.2+0.15+0.05+0.1+0.1+0.05+0.05)\n",
    "round(a,2)"
   ]
  },
  {
   "cell_type": "markdown",
   "metadata": {},
   "source": [
    "$ a=0.3$"
   ]
  },
  {
   "cell_type": "code",
   "execution_count": 11,
   "metadata": {},
   "outputs": [
    {
     "data": {
      "text/plain": [
       "array([0.2 , 0.15, 0.05, 0.1 , 0.1 , 0.05, 0.05, 0.3 ])"
      ]
     },
     "execution_count": 11,
     "metadata": {},
     "output_type": "execute_result"
    }
   ],
   "source": [
    "PX_xi =np.array([0.2 , 0.15, 0.05, 0.1 , 0.1 , 0.05, 0.05, 0.3 ])\n",
    "PX_xi"
   ]
  },
  {
   "cell_type": "code",
   "execution_count": 12,
   "metadata": {},
   "outputs": [
    {
     "data": {
      "text/plain": [
       "array([-3, -2, -1,  0,  1,  2,  3,  4])"
      ]
     },
     "execution_count": 12,
     "metadata": {},
     "output_type": "execute_result"
    }
   ],
   "source": [
    "X=np.array([-3,-2,-1,0,1,2,3,4])\n",
    "X"
   ]
  },
  {
   "cell_type": "markdown",
   "metadata": {},
   "source": [
    "Kì vọng là : $\\sum_{i}^{} P(X=xi)* xi$"
   ]
  },
  {
   "cell_type": "code",
   "execution_count": 13,
   "metadata": {},
   "outputs": [
    {
     "name": "stdout",
     "output_type": "stream",
     "text": [
      "[-0.6  -0.3  -0.05  0.    0.1   0.1   0.15  1.2 ]\n"
     ]
    },
    {
     "data": {
      "text/plain": [
       "0.6"
      ]
     },
     "execution_count": 13,
     "metadata": {},
     "output_type": "execute_result"
    }
   ],
   "source": [
    "E=PX_xi*X\n",
    "print(E)\n",
    "E_x=E.sum()\n",
    "round(E_x,2)"
   ]
  },
  {
   "cell_type": "markdown",
   "metadata": {},
   "source": [
    "Vậy :$E[x]=0.6$"
   ]
  },
  {
   "cell_type": "markdown",
   "metadata": {},
   "source": [
    "**Công thức tính phương sai từ Kỳ vọng** : $$Var[x]= E[x^2] - (E[x])^2$$"
   ]
  },
  {
   "cell_type": "code",
   "execution_count": 14,
   "metadata": {},
   "outputs": [
    {
     "data": {
      "text/plain": [
       "8.0"
      ]
     },
     "execution_count": 14,
     "metadata": {},
     "output_type": "execute_result"
    }
   ],
   "source": [
    "E_sq=PX_xi*(X*X)\n",
    "E_sq.sum()"
   ]
  },
  {
   "cell_type": "code",
   "execution_count": 15,
   "metadata": {},
   "outputs": [
    {
     "data": {
      "text/plain": [
       "0.36"
      ]
     },
     "execution_count": 15,
     "metadata": {},
     "output_type": "execute_result"
    }
   ],
   "source": [
    "round(pow(E_x,2),4)"
   ]
  },
  {
   "cell_type": "markdown",
   "metadata": {},
   "source": [
    "$E[x^2]=8,(E[x])^2=0.36$"
   ]
  },
  {
   "cell_type": "code",
   "execution_count": 16,
   "metadata": {},
   "outputs": [
    {
     "data": {
      "text/plain": [
       "7.64"
      ]
     },
     "execution_count": 16,
     "metadata": {},
     "output_type": "execute_result"
    }
   ],
   "source": [
    "var_x=E_sq.sum()-E_x**2\n",
    "round(var_x,3)"
   ]
  },
  {
   "cell_type": "markdown",
   "metadata": {},
   "source": [
    "Vậy: $Var[x]=7.64$"
   ]
  },
  {
   "cell_type": "code",
   "execution_count": 17,
   "metadata": {},
   "outputs": [
    {
     "data": {
      "text/plain": [
       "2.7641"
      ]
     },
     "execution_count": 17,
     "metadata": {},
     "output_type": "execute_result"
    }
   ],
   "source": [
    "std_x=math.sqrt(var_x)\n",
    "round(std_x,4)"
   ]
  },
  {
   "cell_type": "markdown",
   "metadata": {},
   "source": [
    "Vậy $std[x]=2.7641$"
   ]
  },
  {
   "cell_type": "markdown",
   "metadata": {},
   "source": [
    "b)Cho $ 𝑌=4–5𝑋 $ . Không lập bảng phân bố, hãy tìm cách tính kỳ vọng và phương sai của  $𝑌 $\n",
    "<br>\n",
    "**Áp dụng công thức**:\n",
    "$$E(aX + b) =aE(X) +b $$\n",
    "$$ Var(aX + b) = a^2Var(X).$$"
   ]
  },
  {
   "cell_type": "code",
   "execution_count": 18,
   "metadata": {},
   "outputs": [
    {
     "data": {
      "text/plain": [
       "1.0"
      ]
     },
     "execution_count": 18,
     "metadata": {},
     "output_type": "execute_result"
    }
   ],
   "source": [
    "E_y=-5*E_x+4\n",
    "round(E_y,4)"
   ]
  },
  {
   "cell_type": "markdown",
   "metadata": {},
   "source": [
    "**Kỳ vọng của y**: $E[y]=1$"
   ]
  },
  {
   "cell_type": "markdown",
   "metadata": {},
   "source": [
    "$$Var[x]= E[x^2] - (E[x])^2$$"
   ]
  },
  {
   "cell_type": "code",
   "execution_count": 19,
   "metadata": {},
   "outputs": [
    {
     "data": {
      "text/plain": [
       "191.0"
      ]
     },
     "execution_count": 19,
     "metadata": {},
     "output_type": "execute_result"
    }
   ],
   "source": [
    "var_y = 5**2*var_x\n",
    "var_y"
   ]
  },
  {
   "cell_type": "markdown",
   "metadata": {},
   "source": [
    "**Phương sai của y:** $Var[y]=191$"
   ]
  },
  {
   "cell_type": "code",
   "execution_count": 20,
   "metadata": {},
   "outputs": [
    {
     "data": {
      "text/plain": [
       "13.820274961085254"
      ]
     },
     "execution_count": 20,
     "metadata": {},
     "output_type": "execute_result"
    }
   ],
   "source": [
    "Std_y=np.sqrt(var_y)\n",
    "Std_y"
   ]
  },
  {
   "cell_type": "markdown",
   "metadata": {},
   "source": [
    "## Bài 5"
   ]
  },
  {
   "cell_type": "markdown",
   "metadata": {},
   "source": [
    "Hai xạ thủ A và B tập bắn, mỗi người bắn hai phát. Xác suất bắn trúng đích của A trong \n",
    "mỗi phát là $0.4$ còn của B là $0.5$. Gọi $X$ là số phát trúng của A trừ đi số phát trúng của B. Tìm \n",
    "phân bố xác suất của $X$, tìm kỳ vọng, phương sai."
   ]
  },
  {
   "cell_type": "markdown",
   "metadata": {},
   "source": [
    " Gọi $A_yB_z$ với y,z lần lượt là số lần trúng đạn của A và B:<br>\n",
    " Các trường hợp có thể xảy ra:\n",
    " $$(A_yB_z,p(A_yB_z),X):(A_2B_0=0.04=2, A_1B_0=0.12 =1, A_0B_0=0.09=0, A_2B_1=0.08=1, A_1B_1=0.24=0, A_0B_1=0.18=-1, A_2B_2=0.04=0, A_1B_2=0.12=-1, A_0B_2=0.09=-2)$$<br>\n",
    " $P(X=-2) = A_0B_2 = 0.09$<br>\n",
    " $P(X=-1) = A_0B_1+A_1B_2 = 0.18+0.12=0.3$<br>\n",
    " $P(X= 0)= A_0B_0+A_1B_1+A_2B_2= 0.09+0.24+0.04=0.37$<br>\n",
    " $P(X= 1)= A_1B_0+ A_2B_1 =0.12+0.08=0.2$<br>\n",
    " $P(X= 2) = A_2B_0 = 0.04$ <br>"
   ]
  },
  {
   "cell_type": "markdown",
   "metadata": {},
   "source": [
    "Ta có bảng phân phối xác suất như sau :\n",
    "\n",
    "|    **x**     | -2  | -1  | 0  | 1  | 2   |\n",
    "|--------------|-----|-----|----|----|-----|\n",
    "| **P(X=xi)**  | 0.09 |0.3| 0.37| 0.2| 0.04|"
   ]
  },
  {
   "cell_type": "markdown",
   "metadata": {},
   "source": [
    "Ta có :Kì vọng là : $\\sum_{i}^{} P(X=xi)* xi$"
   ]
  },
  {
   "cell_type": "code",
   "execution_count": 21,
   "metadata": {},
   "outputs": [],
   "source": [
    "PX_xi= np.array([0.09,0.3,0.37,0.2,0.04])\n",
    "x=np.array([-2,-1,0,1,2],dtype=float)"
   ]
  },
  {
   "cell_type": "code",
   "execution_count": 22,
   "metadata": {},
   "outputs": [
    {
     "data": {
      "text/plain": [
       "-0.2"
      ]
     },
     "execution_count": 22,
     "metadata": {},
     "output_type": "execute_result"
    }
   ],
   "source": [
    "E_x=sum(PX_xi*x)\n",
    "round(E_x,4)"
   ]
  },
  {
   "cell_type": "markdown",
   "metadata": {},
   "source": [
    "**Kỳ vọng**: $E[x]=-0.2$"
   ]
  },
  {
   "cell_type": "markdown",
   "metadata": {},
   "source": [
    "$$Var[x]= E[x^2] - (E[x])^2$$"
   ]
  },
  {
   "cell_type": "code",
   "execution_count": 23,
   "metadata": {},
   "outputs": [
    {
     "data": {
      "text/plain": [
       "1.02"
      ]
     },
     "execution_count": 23,
     "metadata": {},
     "output_type": "execute_result"
    }
   ],
   "source": [
    "E_xx=sum(PX_xi*(x*x))\n",
    "round(E_xx,4)"
   ]
  },
  {
   "cell_type": "markdown",
   "metadata": {},
   "source": [
    "$E[x^2] = 1.02$"
   ]
  },
  {
   "cell_type": "markdown",
   "metadata": {},
   "source": [
    "**Phương sai**: $Var[x]=1.02-(-0.2)^2$"
   ]
  },
  {
   "cell_type": "code",
   "execution_count": 24,
   "metadata": {},
   "outputs": [
    {
     "data": {
      "text/plain": [
       "0.98"
      ]
     },
     "execution_count": 24,
     "metadata": {},
     "output_type": "execute_result"
    }
   ],
   "source": [
    "Var_x= E_xx-pow(E_x,2)\n",
    "round(Var_x,3)"
   ]
  },
  {
   "cell_type": "markdown",
   "metadata": {},
   "source": [
    "Vậy $Var[x] = 0.98$"
   ]
  },
  {
   "cell_type": "markdown",
   "metadata": {},
   "source": [
    "## Bài 6"
   ]
  },
  {
   "cell_type": "markdown",
   "metadata": {},
   "source": [
    "Trong một thành phố nhỏ, trung bình một tuần có 2 em bé sinh ra. Tính xác suất để:<br>\n",
    "a) Không có em nào sinh ra trong vòng một ngày.<br>\n",
    "b) Có ít nhất 3 em bé sinh ra trong vòng hai ngày."
   ]
  },
  {
   "cell_type": "markdown",
   "metadata": {},
   "source": [
    "**Áp Dụng Phân phối Poisson** $$P(X=xi) = e^{-\\lambda} \\frac{\\lambda^x}{x!}$$"
   ]
  },
  {
   "cell_type": "markdown",
   "metadata": {},
   "source": [
    "**a) Vì 1 tuần có 2 em bé sinh ra nên 1 ngày sẽ có 2/7 em bé được sinh ra nên $\\lambda_1 = 2/7$**"
   ]
  },
  {
   "cell_type": "code",
   "execution_count": 25,
   "metadata": {},
   "outputs": [],
   "source": [
    "lambda1=2/7"
   ]
  },
  {
   "cell_type": "markdown",
   "metadata": {},
   "source": [
    "gọi $P(X_0)$ là xác suất không có em bé nào sinh ra trong 1 ngày <br>\n",
    "áp dụng phân phối poisson ta được <br>\n",
    "$P(X=xi) = e^{-\\lambda} \\frac{\\lambda^0}{0!}$"
   ]
  },
  {
   "cell_type": "code",
   "execution_count": 26,
   "metadata": {},
   "outputs": [
    {
     "data": {
      "text/plain": [
       "0.7515"
      ]
     },
     "execution_count": 26,
     "metadata": {},
     "output_type": "execute_result"
    }
   ],
   "source": [
    "PX_0 = pow(math.e,-lambda1)*(pow(lambda1,0)/math.factorial(0))\n",
    "round(PX_0,4)"
   ]
  },
  {
   "cell_type": "markdown",
   "metadata": {},
   "source": [
    "Vậy xác suất **không có em bé nào sinh ra trong 1 ngày** là : $P(X_0)$=0.7515"
   ]
  },
  {
   "cell_type": "markdown",
   "metadata": {},
   "source": [
    "**b) $\\lambda$ của 2 ngày sẽ $\\lambda_1 *2 \\rightarrow \\lambda_2 = 4/7$**"
   ]
  },
  {
   "cell_type": "code",
   "execution_count": 27,
   "metadata": {
    "scrolled": true
   },
   "outputs": [
    {
     "name": "stdout",
     "output_type": "stream",
     "text": [
      "4/7\n"
     ]
    }
   ],
   "source": [
    "lambda2=F(4,7)\n",
    "print(lambda2)"
   ]
  },
  {
   "cell_type": "markdown",
   "metadata": {},
   "source": [
    "Ta thấy $P(X>=3)= 1-(P(X=0)+P(X=1)+P(X=2))$<br>\n",
    "$ = 1 - e^{-\\lambda} \\frac{\\lambda^0}{0!}- e^{-\\lambda} \\frac{\\lambda^1}{1!}- e^{-\\lambda} \\frac{\\lambda^2}{2!}$"
   ]
  },
  {
   "cell_type": "markdown",
   "metadata": {},
   "source": [
    "gọi $P(X_2)$ là xác suất có ít nhất 3 em bé sinh ra trong vòng 2 ngày \n",
    "  "
   ]
  },
  {
   "cell_type": "code",
   "execution_count": 28,
   "metadata": {},
   "outputs": [
    {
     "data": {
      "text/plain": [
       "0.0204"
      ]
     },
     "execution_count": 28,
     "metadata": {},
     "output_type": "execute_result"
    }
   ],
   "source": [
    "PX_2= 1-pow(math.e,-lambda2)*(pow(lambda2,0)/math.factorial(0)) -pow(math.e,-lambda2)*(pow(lambda2,1)/math.factorial(1)) -pow(math.e,-lambda2)*(pow(lambda2,2)/math.factorial(2))\n",
    "round(PX_2,4)"
   ]
  },
  {
   "cell_type": "markdown",
   "metadata": {},
   "source": [
    "Vậy xác suất để có ít nhất **3 em bé sinh ra trong vòng 2 ngày** là: $P(X_2)=0.0204$"
   ]
  },
  {
   "cell_type": "markdown",
   "metadata": {},
   "source": [
    "## Bài 7"
   ]
  },
  {
   "cell_type": "markdown",
   "metadata": {},
   "source": [
    "Một bài thi trắc nghiệm có 10 câu hỏi, mỗi câu có 5 phương án chọn và chỉ có một <br>\n",
    "phương án là đúng. Mỗi câu đúng được 1 điểm, sai bị trừ 0.5 điểm. Một SV vào đánh bừa hết cả 10 câu.<br> \n",
    "a) Hãy tính xác suất để SV được đúng 8đ và xác suất để SV bị điểm âm.<br>\n",
    "b) Giả sử mỗi lần bị điểm âm, SV sẽ thi tiếp đến khi nào được điểm không âm thì thôi. Tính \n",
    "xác suất để SV dừng thi ở lần thứ 4"
   ]
  },
  {
   "cell_type": "code",
   "execution_count": 29,
   "metadata": {},
   "outputs": [
    {
     "name": "stdout",
     "output_type": "stream",
     "text": [
      "Số câu đúng: 0, Điểm: -5.0\n",
      "Số câu đúng: 1, Điểm: -3.5\n",
      "Số câu đúng: 2, Điểm: -2.0\n",
      "Số câu đúng: 3, Điểm: -0.5\n",
      "Số câu đúng: 4, Điểm: 1.0\n",
      "Số câu đúng: 5, Điểm: 2.5\n",
      "Số câu đúng: 6, Điểm: 4.0\n",
      "Số câu đúng: 7, Điểm: 5.5\n",
      "Số câu đúng: 8, Điểm: 7.0\n",
      "Số câu đúng: 9, Điểm: 8.5\n",
      "Số câu đúng: 10, Điểm: 10.0\n"
     ]
    }
   ],
   "source": [
    "for i in range(0,11):\n",
    "    print('Số câu đúng: '+str(i)+', Điểm: '+str(i-(10-i)*0.5))"
   ]
  },
  {
   "cell_type": "markdown",
   "metadata": {},
   "source": [
    "Nếu xét trường hợp thì sẽ không bao giờ có trường hợp SV được đúng 8 điểm <br>\n",
    "Vậy nên bài này em sẽ tính lại thành xác suất để SV đúng được 8 câu"
   ]
  },
  {
   "cell_type": "markdown",
   "metadata": {},
   "source": [
    "Áp dụng Phân phối nhị thức $$f (x) = P(X = x) = C_n^xp^x(1-p)^{n-x}$$"
   ]
  },
  {
   "cell_type": "markdown",
   "metadata": {},
   "source": [
    "**a1)Gọi $P(c_8)$ là xác suất SV đúng được 8 câu**<br>\n",
    "a là xác suất sinh viên làm đúng 1 câu $\\rightarrow$ a=1/5"
   ]
  },
  {
   "cell_type": "code",
   "execution_count": 30,
   "metadata": {},
   "outputs": [
    {
     "name": "stdout",
     "output_type": "stream",
     "text": [
      "1/5\n"
     ]
    }
   ],
   "source": [
    "a=F(1,5)\n",
    "print(a)"
   ]
  },
  {
   "cell_type": "code",
   "execution_count": 31,
   "metadata": {},
   "outputs": [
    {
     "name": "stdout",
     "output_type": "stream",
     "text": [
      "144/1953125\n",
      "737/10000000\n"
     ]
    }
   ],
   "source": [
    "P_8= math.comb(10,8)*pow(a,8)*pow((1-a),(10-8))\n",
    "print(P_8)\n",
    "print(round(P_8,7))"
   ]
  },
  {
   "cell_type": "code",
   "execution_count": 32,
   "metadata": {},
   "outputs": [
    {
     "data": {
      "text/plain": [
       "0.0001"
      ]
     },
     "execution_count": 32,
     "metadata": {},
     "output_type": "execute_result"
    }
   ],
   "source": [
    "round(144/1953125,4)"
   ]
  },
  {
   "cell_type": "markdown",
   "metadata": {},
   "source": [
    "**Vậy xác suất để sinh viên làm đúng 8 câu là :**$P(c_8)=144/1953125$"
   ]
  },
  {
   "cell_type": "markdown",
   "metadata": {},
   "source": [
    "a2) Gọi $P(mn)$ là xác suất để SV được điểm âm <br>\n",
    "ta có số trường hợp để SV được điểm âm lần lượt làm đúng từ [0,3] câu\n",
    "vậy: $$P(mn) = \\sum_{i=0}^{3} C_n^ip^i(1-p)^{n-i}$$"
   ]
  },
  {
   "cell_type": "code",
   "execution_count": 33,
   "metadata": {},
   "outputs": [
    {
     "data": {
      "text/plain": [
       "0.2"
      ]
     },
     "execution_count": 33,
     "metadata": {},
     "output_type": "execute_result"
    }
   ],
   "source": [
    "1/5"
   ]
  },
  {
   "cell_type": "code",
   "execution_count": 34,
   "metadata": {
    "scrolled": true
   },
   "outputs": [
    {
     "name": "stdout",
     "output_type": "stream",
     "text": [
      "8585216/9765625\n"
     ]
    }
   ],
   "source": [
    "P_mn=0\n",
    "n=10\n",
    "for i in range(0,4):\n",
    "    P_mn+= math.comb(n,i)*pow(a,i)*pow((1-a),(n-i))\n",
    "print(P_mn)"
   ]
  },
  {
   "cell_type": "code",
   "execution_count": 35,
   "metadata": {},
   "outputs": [
    {
     "data": {
      "text/plain": [
       "0.8791"
      ]
     },
     "execution_count": 35,
     "metadata": {},
     "output_type": "execute_result"
    }
   ],
   "source": [
    "round(8585216/9765625,4)"
   ]
  },
  {
   "cell_type": "markdown",
   "metadata": {},
   "source": [
    "vậy xác suất để SV được điểm âm là : $P(mn) \\approx 0.8791 $"
   ]
  },
  {
   "cell_type": "markdown",
   "metadata": {},
   "source": [
    "**b)** Áp dụng phân phối hình học : $$P(X=x) = (1-p)^{x-1}p$$"
   ]
  },
  {
   "cell_type": "code",
   "execution_count": 36,
   "metadata": {},
   "outputs": [
    {
     "data": {
      "text/plain": [
       "0.1209"
      ]
     },
     "execution_count": 36,
     "metadata": {},
     "output_type": "execute_result"
    }
   ],
   "source": [
    "round(1180409/9765625,4)"
   ]
  },
  {
   "cell_type": "markdown",
   "metadata": {},
   "source": [
    "Gọi xác suất SV được điểm dương $P(nm) = P(\\bar{m}\\bar{n}) =1-P(mn) = 1-0,8791=0.1209$"
   ]
  },
  {
   "cell_type": "code",
   "execution_count": 37,
   "metadata": {},
   "outputs": [],
   "source": [
    "P_nm=0.1209"
   ]
  },
  {
   "cell_type": "markdown",
   "metadata": {},
   "source": [
    "gọi $P(B)$ là xác suất mà sinh viên thi lần thứ 4 được điểm dương"
   ]
  },
  {
   "cell_type": "markdown",
   "metadata": {},
   "source": [
    "$$P(X=x) = (1-p)^{x-1}p$$"
   ]
  },
  {
   "cell_type": "code",
   "execution_count": 38,
   "metadata": {},
   "outputs": [
    {
     "name": "stdout",
     "output_type": "stream",
     "text": [
      "0.0821\n"
     ]
    }
   ],
   "source": [
    "P_B= pow((1-P_nm),4-1)*P_nm\n",
    "print(round(P_B,4))"
   ]
  },
  {
   "cell_type": "markdown",
   "metadata": {},
   "source": [
    "Vậy xác suất để sinh viên dừng thi ở **lần thứ 4 là** $P(B)=0.0821$"
   ]
  },
  {
   "cell_type": "code",
   "execution_count": null,
   "metadata": {},
   "outputs": [],
   "source": []
  }
 ],
 "metadata": {
  "kernelspec": {
   "display_name": "Python 3 (ipykernel)",
   "language": "python",
   "name": "python3"
  },
  "language_info": {
   "codemirror_mode": {
    "name": "ipython",
    "version": 3
   },
   "file_extension": ".py",
   "mimetype": "text/x-python",
   "name": "python",
   "nbconvert_exporter": "python",
   "pygments_lexer": "ipython3",
   "version": "3.9.7"
  }
 },
 "nbformat": 4,
 "nbformat_minor": 4
}
