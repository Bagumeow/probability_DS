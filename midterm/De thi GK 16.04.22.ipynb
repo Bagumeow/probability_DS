{
 "cells": [
  {
   "cell_type": "markdown",
   "id": "9ae044c1",
   "metadata": {},
   "source": [
    "# Đề thi Giữa kỳ Xác suất trong Khoa học dữ liệu\n",
    "## Khoa CNTT - trường ĐH Công nghiệp TPHCM.\n",
    "> Nhóm thực hành 2. Ngày 16/04/2022. Thời gian làm bài: 105 phút (SV làm bài trực tiếp trên file Notebook, đặt tên đúng quy định)."
   ]
  },
  {
   "cell_type": "markdown",
   "id": "ec621c6a",
   "metadata": {},
   "source": [
    "## Bài 1. (3.5 điểm)\n",
    "Khảo sát việc chọn ngành của sinh viên một lớp *khóa 17* $IUH$, giáo viên chủ nhiệm có bảng bên dưới\n"
   ]
  },
  {
   "cell_type": "markdown",
   "id": "b2fe4308",
   "metadata": {},
   "source": [
    "|Ngành     | Nam    | Nữ         | Tổng   |\n",
    "|----------|--------|------------|--------|\n",
    "| **Khoa học máy tính** | 18     | 12     | **30** |\n",
    "| **Kỹ thuật phần mềm** | 17     | 5      | **22** |\n",
    "| **Khoa học dữ liệu**  | 10     | 8      | **18** |\n",
    "| **Hệ thống thông tin**| 15     |   5    | **20** | "
   ]
  },
  {
   "cell_type": "markdown",
   "id": "5180a309",
   "metadata": {},
   "source": [
    "1) Chọn ngẫu nhiên một sinh viên, tính xác suất để (*kết quả ở dạng phân số hoặc ở dạng số thập phân đều được*): <br>\n",
    "   - **a)** Đó là sinh viên nữ. <br>\n",
    "   - **b)** Đó là một sinh viên theo ngành khoa học dữ liệu. <br>\n",
    "   - **c)** Đó là một sinh viên nam và theo ngành khoa học máy tính. <br>\n",
    "   - **d)** Đó là một sinh viên nữ, biết rằng sinh viên được chọn theo ngành hệ thống thông tin. <br>\n",
    "   - **e)** Đó là một sinh viên không theo ngành kỹ thuật phần mềm, biết rằng sinh viên được chọn là nam. <br>\n",
    "   \n",
    "2) Thầy $L$ muốn chọn ngẫu nhiên ra một sinh viên của lớp để thi Olympic, cô $H$ cũng muốn chọn ra ngẫu nhiên ra một sinh viên của lớp để nghiên cứu khoa học (có thể trùng với sinh viên kia). Hỏi hai biến cố tương ứng có độc lập hay không? Vì sao? <br>\n",
    "\n",
    "3) Tìm hiểu cách dùng biểu đồ trong link sau để chọn ra biểu đồ thích hợp và vẽ minh họa cho dữ liệu trên: \n",
    "https://pythonspot.com/matplotlib-bar-chart/"
   ]
  },
  {
   "cell_type": "markdown",
   "id": "4e105e1e",
   "metadata": {},
   "source": [
    "## Bài 2. (3.5 điểm)\n",
    "a) Bằng các công thức đã biết, hãy tính kỳ vọng, phương sai, độ lệch chuẩn, mốt, trung vị của đại lượng ngẫu nhiên rời rạc $X$ được cho trong bảng bên dưới. Từ đó, hãy cho biết:\n",
    "- $X$ có phải là một phân phối hình học không? Vì sao?\n",
    "- Hỏi dữ liệu này có sự biến động nhiều ít thế nào, dựa vào thông tin nào mà ta có thể ước lượng được điều đó?"
   ]
  },
  {
   "cell_type": "markdown",
   "id": "143f4ac3",
   "metadata": {},
   "source": [
    "|X         | 1    | 3    | 7    |  11   |   16  | 20    |\n",
    "|----------|------|------|------|-------|-------|-------|\n",
    "| **P(X)** | 1/25 | 4/25 | 3/25 | 5/25  | 3/25  |  9/25 |"
   ]
  },
  {
   "cell_type": "markdown",
   "id": "7507e61b",
   "metadata": {},
   "source": [
    "b) Cho bảng phân phối xác suất của đại lượng ngẫu nhiên rời rạc $X$ có $Var(X)=7.3$ như bên dưới, trong đó $a,b$ là các số thực thuộc $[0;1].$ Tính $a,b$."
   ]
  },
  {
   "cell_type": "markdown",
   "id": "c2c31d77",
   "metadata": {},
   "source": [
    "|X         | 1    | 2    | 4    | 7    |  9   |\n",
    "|----------|------|------|------|------|------|\n",
    "| **P(X)** | 0.1  | *a*  |  *b* | 0.2  |  0.2 |"
   ]
  },
  {
   "cell_type": "markdown",
   "id": "f6c12366",
   "metadata": {},
   "source": [
    "## Bài 3. (3.0 điểm)\n",
    "Hãy giải quyết các tình huống sau đây:"
   ]
  },
  {
   "cell_type": "markdown",
   "id": "11e8e8d2",
   "metadata": {},
   "source": [
    "1. Tỷ lệ sút bóng penalty thành công của cầu thủ Xuân Lâm là $0.8.$ Trong lúc luyện tập trước mùa giải của $IUH$, Lâm đã tập sút tất cả $20$ lần và ký hiệu $X$ là số lần bạn đã sút thành công. <br>\n",
    "Hãy xác định loại phân bố xác suất của $X.$ Từ đó bằng cách dùng các thư viện của Python thích hợp:\n",
    " - Hãy tính kỳ vọng, phương sai của $X$. \n",
    " - Xác suất để cầu thủ sút thành công đúng $15$ lần.\n",
    " - Xác suất để cầu thủ sút thành công hơn $10$ lần."
   ]
  },
  {
   "cell_type": "markdown",
   "id": "7745fb21",
   "metadata": {},
   "source": [
    "2. Để hoàn tất hồ sơ xin tốt nghiệp $IUH$, sinh viên Minh Trí đang muốn thi TOEIC đạt $450$ điểm. Giả sử xác suất thi đậu của Trí là $0.7$ và bạn sẽ thi đến khi nào đậu thì thôi. Gọi $X$ là số lần thi của bạn. <br>\n",
    "Hãy xác định loại phân bố xác suất của $X.$ Từ đó bằng cách dùng các thư viện của Python thích hợp:\n",
    " - Hãy tính kỳ vọng, phương sai của $X$.\n",
    " - Xác suất để Trí thi đậu ngay lần đầu tiên.\n",
    " - Xác suất để Trí thi đậu sau ít nhất $3$ lần."
   ]
  },
  {
   "cell_type": "markdown",
   "id": "0125d827",
   "metadata": {},
   "source": [
    "3. Mỗi buổi sáng, nhà xe $IUH$ bận rộn nhận các xe máy của sinh viên vào gửi và trung bình cứ $1$ phút thì có $3$ xe vào. Giả sử các xe đến gửi xuất hiện ngẫu nhiên độc lập với nhau và gọi $X$ là số xe ghi nhận được. <br>\n",
    "Hãy xác định loại phân bố xác suất của $X.$ Từ đó bằng cách dùng các thư viện của Python thích hợp:\n",
    " - Hãy tính kỳ vọng, phương sai của $X$.\n",
    " - Xác suất để trong $30$ giây, không có chiếc xe nào đến gửi.\n",
    " - Xác suất để trong $5$ phút làm việc, nhà xe nhận được từ $10$ đến $20$ xe."
   ]
  }
 ],
 "metadata": {
  "kernelspec": {
   "display_name": "Python 3",
   "language": "python",
   "name": "python3"
  },
  "language_info": {
   "codemirror_mode": {
    "name": "ipython",
    "version": 3
   },
   "file_extension": ".py",
   "mimetype": "text/x-python",
   "name": "python",
   "nbconvert_exporter": "python",
   "pygments_lexer": "ipython3",
   "version": "3.8.8"
  }
 },
 "nbformat": 4,
 "nbformat_minor": 5
}
