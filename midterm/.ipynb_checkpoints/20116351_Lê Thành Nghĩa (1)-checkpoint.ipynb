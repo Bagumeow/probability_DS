{
 "cells": [
  {
   "cell_type": "code",
   "execution_count": 1,
   "id": "f09fad90",
   "metadata": {},
   "outputs": [
    {
     "data": {
      "text/html": [
       "<style>.container { width:95% !important; }</style>"
      ],
      "text/plain": [
       "<IPython.core.display.HTML object>"
      ]
     },
     "metadata": {},
     "output_type": "display_data"
    }
   ],
   "source": [
    "from IPython.core.display import display, HTML\n",
    "display(HTML(\"<style>.container { width:95% !important; }</style>\"))"
   ]
  },
  {
   "cell_type": "code",
   "execution_count": 2,
   "id": "68ccc320",
   "metadata": {},
   "outputs": [],
   "source": [
    "from fractions import Fraction as F\n",
    "import numpy as np\n",
    "import scipy as sp\n",
    "import matplotlib.pyplot as plt\n",
    "import pandas as pd\n",
    "import math\n",
    "from sympy import *\n",
    "from scipy import stats\n",
    "pd.set_option('display.width', 500)\n",
    "pd.set_option('display.max_columns', 100)\n",
    "pd.set_option('display.notebook_repr_html', True)"
   ]
  },
  {
   "cell_type": "markdown",
   "id": "c6a1e949",
   "metadata": {},
   "source": [
    "# Đề thi Giữa kỳ Xác suất cho Khoa học dữ liệu\n",
    "## Khoa CNTT - trường ĐH Công nghiệp.\n",
    "### Nhóm thực hành 1. Ngày 30/03/2022. Thời gian làm bài: 15h30' - 17h00'."
   ]
  },
  {
   "cell_type": "markdown",
   "id": "4be19a28",
   "metadata": {},
   "source": [
    "## Bài 1. (3.5 điểm)\n",
    "Khảo sát kết quả học tập của sinh viên của khóa 16 Khoa học dữ liệu của trường $X$, người ta có bảng bên dưới\n"
   ]
  },
  {
   "cell_type": "markdown",
   "id": "fabc1cf1",
   "metadata": {},
   "source": [
    "|Học lực   | Nam    | Nữ         | Tổng   |\n",
    "|----------|--------|------------|--------|\n",
    "| **Giỏi** | 8      | 10         | **18** |\n",
    "| **Khá**  | 24     | 18         | **42** |\n",
    "| **Trung bình**  | 12     | 8          | **20**  |\n",
    "| **Chưa đạt** | 7       |    3 |    **10** | "
   ]
  },
  {
   "cell_type": "markdown",
   "id": "90fa4efe",
   "metadata": {},
   "source": [
    "* 1) Chọn ngẫu nhiên một sinh viên, tính xác suất để (kết quả ở dạng phân số hoặc ở dạng số thập phân đều được): <br>\n",
    "    - **a)** Đó là sinh viên nữ. <br>\n",
    "    - **b)** Đó là một sinh viên có kết quả học tập đạt yêu cầu. <br>\n",
    "    - **c)** Đó là một sinh viên nam và trung bình. <br>\n",
    "    - **d)** Đó là một sinh viên nữ, biết rằng sinh viên được chọn là khá. <br>\n",
    "    - **e)** Đó là một sinh viên chưa đạt, biết rằng sinh viên được chọn là nam. <br>\n",
    "* 2) Thầy $L$ muốn chọn ngẫu nhiên ra một sinh viên của lớp để báo cáo chuyên đề, cô $H$ cũng muốn chọn ra ngẫu nhiên ra một sinh viên của lớp để nghiên cứu khoa học nhưng không trùng với sinh viên kia. Hỏi hai biến cố tương ứng có độc lập hay không? Vì sao? <br>\n",
    "* 3) Tìm hiểu cách dùng biểu đồ trong link sau để chọn ra biểu đồ thích hợp và vẽ minh họa cho dữ liệu trên: \n",
    "https://pythonspot.com/matplotlib-bar-chart/"
   ]
  },
  {
   "cell_type": "markdown",
   "id": "dbb53597",
   "metadata": {},
   "source": [
    "**Bài làm**\n",
    "\n"
   ]
  },
  {
   "cell_type": "markdown",
   "id": "44a10343",
   "metadata": {},
   "source": [
    "$\\Omega = 18+42+20+10 = 90$<br>\n",
    "**1a)<br>**\n",
    "Gọi $A$ là biến cố \"Đó là sinh viên nữ\" =$ 10+18+8+3=39$ <br>\n",
    "Khi đó $P(A) = \\frac{A}{\\Omega}$:"
   ]
  },
  {
   "cell_type": "code",
   "execution_count": 3,
   "id": "c7a1c39d",
   "metadata": {},
   "outputs": [
    {
     "name": "stdout",
     "output_type": "stream",
     "text": [
      "Vậy P(A) là:  13/30 = 0.4333\n"
     ]
    }
   ],
   "source": [
    "P_A=F(39,90)\n",
    "print('Vậy P(A) là: ',P_A,'=',round(float(P_A),4))"
   ]
  },
  {
   "cell_type": "markdown",
   "id": "51fcf72d",
   "metadata": {},
   "source": [
    "**1b)**\n",
    "Gọi $B$ là biến cố \"Đó là một sinh viên có kết quả học tập đạt yêu cầu.\"$ = 18+42+20=80$<br>\n",
    "Khi đó $P(B) = \\frac{B}{\\Omega}$:"
   ]
  },
  {
   "cell_type": "code",
   "execution_count": 4,
   "id": "81bdd864",
   "metadata": {
    "scrolled": false
   },
   "outputs": [
    {
     "name": "stdout",
     "output_type": "stream",
     "text": [
      "Vậy P(B) là:  8/9 = 0.8889\n"
     ]
    }
   ],
   "source": [
    "P_B=F(80,90)\n",
    "print('Vậy P(B) là: ',P_B,'=',round(float(P_B),4))"
   ]
  },
  {
   "cell_type": "markdown",
   "id": "2f5be7e8",
   "metadata": {},
   "source": [
    "**1c)**\n",
    "Gọi $CD$ là biến cố \" Đó là một sinh viên nam và trung bình $= 12$.<br>\n",
    "Khi đó $P(CD) = \\frac{CD}{\\Omega}$:"
   ]
  },
  {
   "cell_type": "code",
   "execution_count": 5,
   "id": "627a1bec",
   "metadata": {
    "scrolled": true
   },
   "outputs": [
    {
     "name": "stdout",
     "output_type": "stream",
     "text": [
      "Vậy P(CD) là:  2/15 = 0.1333\n"
     ]
    }
   ],
   "source": [
    "P_CD=F(12,90)\n",
    "print('Vậy P(CD) là: ',P_CD,'=',round(float(P_CD),4))"
   ]
  },
  {
   "cell_type": "markdown",
   "id": "b00113b8",
   "metadata": {},
   "source": [
    "**1d)**\n",
    "Gọi $E$ là biến cố \"  sinh viên được chọn là khá. $= 42$.<br>\n",
    "Gọi $P(A|E)$ là xác suất \" Đó là một sinh viên nữ, biết rằng sinh viên được chọn là khá.\"<br>\n",
    "Khi đó $P(A|E) = \\frac{AE}{E}$:"
   ]
  },
  {
   "cell_type": "code",
   "execution_count": 6,
   "id": "2bbeccbb",
   "metadata": {
    "scrolled": true
   },
   "outputs": [
    {
     "name": "stdout",
     "output_type": "stream",
     "text": [
      "Vậy P(A|E) là:  3/7 = 0.4286\n"
     ]
    }
   ],
   "source": [
    "PA_E=F(18,42)\n",
    "print('Vậy P(A|E) là: ',PA_E,'=',round(float(PA_E),4))"
   ]
  },
  {
   "cell_type": "markdown",
   "id": "0c1d9a65",
   "metadata": {},
   "source": [
    "**1e)**\n",
    "Gọi $G,H$ lần lượt là là biến cố \" sinh viên chưa đạt\",\" sinh viên nam\".<br>\n",
    "$H=51$<br>\n",
    "Gọi $P(G|H)$ là xác suất \" Đó là một sinh viên chưa đạt, biết rằng sinh viên được chọn là nam.\"<br>\n",
    "Khi đó $P(G|H) = \\frac{GH}{H}$:"
   ]
  },
  {
   "cell_type": "code",
   "execution_count": 7,
   "id": "d88394e0",
   "metadata": {
    "scrolled": true
   },
   "outputs": [
    {
     "name": "stdout",
     "output_type": "stream",
     "text": [
      "Vậy P(G|H) là:  7/51 = 0.1373\n"
     ]
    }
   ],
   "source": [
    "PG_H=F(7,51)\n",
    "print('Vậy P(G|H) là: ',PG_H,'=',round(float(PG_H),4))"
   ]
  },
  {
   "cell_type": "markdown",
   "id": "3d23428f",
   "metadata": {},
   "source": [
    "**Câu 2**:\n",
    "Gọi $A,B$ lần lượt là biến cố \"Thầy $L$ chọn 1 sinh viên\",\"Cô $H$ chọn 1 sinh viên\"<br>\n",
    "Hai biến cố trên không độc lập với nhau vì khi biến cố A xảy ra sẽ ảnh hưởng đến biến cố B và ngược lại"
   ]
  },
  {
   "cell_type": "markdown",
   "id": "a0a26020",
   "metadata": {},
   "source": [
    "**Câu 3: trực quan dữ liệu**"
   ]
  },
  {
   "cell_type": "code",
   "execution_count": 8,
   "id": "2f5f0f7f",
   "metadata": {
    "scrolled": true
   },
   "outputs": [
    {
     "data": {
      "image/png": "[encoded data removed]",
      "text/plain": [
       "<Figure size 576x396 with 1 Axes>"
      ]
     },
     "metadata": {},
     "output_type": "display_data"
    }
   ],
   "source": [
    "plt.style.use('seaborn')\n",
    "n_groups = 4\n",
    "nam = (8,24,12,7)\n",
    "nu = (10,18,8,3)\n",
    "\n",
    "index = np.arange(n_groups)\n",
    "bar_width = 0.35\n",
    "opacity = 0.8\n",
    "\n",
    "rects1 = plt.bar(index, nam, bar_width,\n",
    "alpha=opacity,\n",
    "color='green',\n",
    "label='Nam')\n",
    "\n",
    "rects2 = plt.bar(index + bar_width, nu, bar_width,\n",
    "alpha=opacity,\n",
    "color='pink',\n",
    "label='Nữ')\n",
    "\n",
    "plt.xlabel('Xếp loại')\n",
    "plt.ylabel('Số lượng')\n",
    "plt.title('Xếp loại sinh viên trong lớp')\n",
    "plt.xticks(index + bar_width/2, ('Giỏi', 'Khá', 'Trung Bình', 'Chưa đạt'))\n",
    "plt.legend()\n",
    "\n",
    "plt.tight_layout()"
   ]
  },
  {
   "cell_type": "markdown",
   "id": "67d79713",
   "metadata": {},
   "source": [
    "## Bài 2. (2.5 điểm)\n",
    "a) Bằng các công thức đã biết, hãy tính kỳ vọng, phương sai, độ lệch chuẩn, mốt, trung vị của đại lượng ngẫu nhiên rời rạc $X$ được cho trong bảng bên dưới. Từ đó, hãy cho biết $X$ có phải là một phân phối hình học không? Vì sao?"
   ]
  },
  {
   "cell_type": "markdown",
   "id": "18515297",
   "metadata": {},
   "source": [
    "|X         | 1    | 3    | 7    | 10    | 15    | 20    |\n",
    "|----------|------|------|------|-------|-------|-------|\n",
    "| **P(X)** | 1/25 | 3/25 | 4/25 | 5/25  | 9/25  |  3/25 |"
   ]
  },
  {
   "cell_type": "markdown",
   "id": "0d12f7ad",
   "metadata": {},
   "source": [
    "b) Cho bảng phân phối xác suất của đại lượng ngẫu nhiên rời rạc $X$ có $Var(X)=3.96$ như bên dưới, trong đó $a,b$ là các số thực thuộc $[0;1].$ Tính $a,b$."
   ]
  },
  {
   "cell_type": "markdown",
   "id": "e29a5a64",
   "metadata": {},
   "source": [
    "|X         | 1    | 2    | 4    | 7    |\n",
    "|----------|------|------|------|------|\n",
    "| **P(X)** | *a*    | 0.1  |  *b*   | 0.2  |"
   ]
  },
  {
   "cell_type": "markdown",
   "id": "ef3e19fe",
   "metadata": {},
   "source": [
    "**Bài Làm**"
   ]
  },
  {
   "cell_type": "markdown",
   "id": "9dbe6152",
   "metadata": {},
   "source": [
    "Câu a)\n",
    "Kì vọng là : $\\sum_{i}^{} P(X=xi)* xi$"
   ]
  },
  {
   "cell_type": "code",
   "execution_count": 9,
   "id": "cbc81c70",
   "metadata": {},
   "outputs": [],
   "source": [
    "X= np.array([1,3,7,10,15,20],dtype=float)\n",
    "P_X = np.array([1/25,3/25,4/25,5/25,9/25,3/25])\n",
    "XX=X*X"
   ]
  },
  {
   "cell_type": "code",
   "execution_count": 10,
   "id": "4c44d7d1",
   "metadata": {},
   "outputs": [
    {
     "data": {
      "text/plain": [
       "11.32"
      ]
     },
     "execution_count": 10,
     "metadata": {},
     "output_type": "execute_result"
    }
   ],
   "source": [
    "E_x=X@P_X\n",
    "E_x"
   ]
  },
  {
   "cell_type": "code",
   "execution_count": 11,
   "id": "ef92fb4d",
   "metadata": {
    "scrolled": true
   },
   "outputs": [
    {
     "name": "stdout",
     "output_type": "stream",
     "text": [
      "Kỳ vọng là:E[x] = 11.32\n"
     ]
    }
   ],
   "source": [
    "print('Kỳ vọng là:E[x] =',E_x)"
   ]
  },
  {
   "cell_type": "markdown",
   "id": "870489a2",
   "metadata": {},
   "source": [
    "* **Công thức tính phương sai từ Kỳ vọng** : $Var[x]= E[x^2] - (E[x])^2$"
   ]
  },
  {
   "cell_type": "code",
   "execution_count": 12,
   "id": "061b0f5b",
   "metadata": {},
   "outputs": [],
   "source": [
    "E_xx=XX@P_X"
   ]
  },
  {
   "cell_type": "code",
   "execution_count": 13,
   "id": "10fef309",
   "metadata": {
    "scrolled": true
   },
   "outputs": [],
   "source": [
    "var_x=E_xx-E_x**2"
   ]
  },
  {
   "cell_type": "code",
   "execution_count": 14,
   "id": "307b533a",
   "metadata": {
    "scrolled": true
   },
   "outputs": [
    {
     "name": "stdout",
     "output_type": "stream",
     "text": [
      "Phương là:Var[x] = 29.8176\n"
     ]
    }
   ],
   "source": [
    "print('Phương là:Var[x] =',var_x)"
   ]
  },
  {
   "cell_type": "markdown",
   "id": "5298910c",
   "metadata": {},
   "source": [
    "* **Độ Lệch Chuẩn** : $Std[X] = \\sqrt{Var[X]}$"
   ]
  },
  {
   "cell_type": "code",
   "execution_count": 15,
   "id": "934bf6e6",
   "metadata": {
    "scrolled": true
   },
   "outputs": [
    {
     "name": "stdout",
     "output_type": "stream",
     "text": [
      "Độ lệch chuẩn là : Std[x] =  5.4605\n"
     ]
    }
   ],
   "source": [
    "std_x=np.sqrt(var_x)\n",
    "print('Độ lệch chuẩn là : Std[x] = ',round(std_x,4))"
   ]
  },
  {
   "cell_type": "markdown",
   "id": "fd22bc65",
   "metadata": {},
   "source": [
    "* Mốt là giá trị mà $P(X)$ lớn nhất"
   ]
  },
  {
   "cell_type": "code",
   "execution_count": 16,
   "id": "0a7435bf",
   "metadata": {},
   "outputs": [
    {
     "data": {
      "text/plain": [
       "(array([4], dtype=int64),)"
      ]
     },
     "execution_count": 16,
     "metadata": {},
     "output_type": "execute_result"
    }
   ],
   "source": [
    "np.where(P_X==P_X.max()) #P(X)lớn nhất ở idx=4"
   ]
  },
  {
   "cell_type": "code",
   "execution_count": 17,
   "id": "c5077cdd",
   "metadata": {},
   "outputs": [
    {
     "data": {
      "text/plain": [
       "15.0"
      ]
     },
     "execution_count": 17,
     "metadata": {},
     "output_type": "execute_result"
    }
   ],
   "source": [
    "X[4]"
   ]
  },
  {
   "cell_type": "markdown",
   "id": "6d814b57",
   "metadata": {},
   "source": [
    "**Vậy Mốt của X = 15**"
   ]
  },
  {
   "cell_type": "markdown",
   "id": "9bd4a9cb",
   "metadata": {},
   "source": [
    "* Trung vị của là $P(X<x_0)<\\frac{1}{2}$ và $P(X>x_0)>\\frac{1}{2}$"
   ]
  },
  {
   "cell_type": "code",
   "execution_count": 18,
   "id": "1447d8bf",
   "metadata": {
    "scrolled": true
   },
   "outputs": [
    {
     "name": "stdout",
     "output_type": "stream",
     "text": [
      "index =0, prob=0.04\n",
      "index =1, prob=0.16\n",
      "index =2, prob=0.32\n",
      "index =3, prob=0.52\n",
      "index =4, prob=0.88\n",
      "index =5, prob=1.0\n"
     ]
    }
   ],
   "source": [
    "sump=0\n",
    "idx=-1\n",
    "for i in P_X:\n",
    "    idx+=1\n",
    "    sump+=i\n",
    "    print('index ='+str(idx)+', prob='+str(sump.round(2)))"
   ]
  },
  {
   "cell_type": "code",
   "execution_count": 19,
   "id": "768d14b2",
   "metadata": {
    "scrolled": true
   },
   "outputs": [
    {
     "data": {
      "text/plain": [
       "10.0"
      ]
     },
     "execution_count": 19,
     "metadata": {},
     "output_type": "execute_result"
    }
   ],
   "source": [
    "X[3]"
   ]
  },
  {
   "cell_type": "markdown",
   "id": "86986902",
   "metadata": {},
   "source": [
    "* Ta thấy tại $index = 3$ thì xác suất vừa mới lớn hơn $\\frac{1}{2}$<br>\n",
    "Vậy Trung vị của $ X =10$"
   ]
  },
  {
   "cell_type": "markdown",
   "id": "1b8f8ee3",
   "metadata": {},
   "source": [
    "* Kiêm tra phân phối hình học $$P(X=x)=(1-p)^{x-1}p$$"
   ]
  },
  {
   "cell_type": "code",
   "execution_count": 20,
   "id": "a4880e7c",
   "metadata": {
    "scrolled": true
   },
   "outputs": [
    {
     "data": {
      "text/latex": [
       "$\\displaystyle \\frac{1}{25}$"
      ],
      "text/plain": [
       "1/25"
      ]
     },
     "execution_count": 20,
     "metadata": {},
     "output_type": "execute_result"
    }
   ],
   "source": [
    "x= Symbol('x')\n",
    "p =solve('(1-x)**0*x-1/25')\n",
    "p[0]"
   ]
  },
  {
   "cell_type": "code",
   "execution_count": 21,
   "id": "051e446e",
   "metadata": {
    "scrolled": true
   },
   "outputs": [
    {
     "data": {
      "text/latex": [
       "$\\displaystyle \\frac{2}{3} + \\left(- \\frac{1}{2} - \\frac{\\sqrt{3} i}{2}\\right) \\sqrt[3]{\\frac{31}{1350} + \\frac{\\sqrt{19} i}{150}} + \\frac{1}{9 \\left(- \\frac{1}{2} - \\frac{\\sqrt{3} i}{2}\\right) \\sqrt[3]{\\frac{31}{1350} + \\frac{\\sqrt{19} i}{150}}}$"
      ],
      "text/plain": [
       "2/3 + (-1/2 - sqrt(3)*I/2)*(31/1350 + sqrt(19)*I/150)**(1/3) + 1/(9*(-1/2 - sqrt(3)*I/2)*(31/1350 + sqrt(19)*I/150)**(1/3))"
      ]
     },
     "execution_count": 21,
     "metadata": {},
     "output_type": "execute_result"
    }
   ],
   "source": [
    "x= Symbol('x')\n",
    "p =solve('(1-x)**2*x-3/25')\n",
    "p[0]"
   ]
  },
  {
   "cell_type": "markdown",
   "id": "9509ab1a",
   "metadata": {},
   "source": [
    "Đây không phải phân phối hình học vì:<br>\n",
    "Ta có công thức tính xác suất của phân phối hình học là :$P(X=x) = (1-p)^{x-1}p$"
   ]
  },
  {
   "cell_type": "markdown",
   "id": "07375e54",
   "metadata": {},
   "source": [
    "Áp dụng công thức vào giải p ta thấy các giá trị của p khác nhau vậy nên đây không phải là phân phối hình học"
   ]
  },
  {
   "cell_type": "markdown",
   "id": "41e0fe69",
   "metadata": {},
   "source": [
    "2b)"
   ]
  },
  {
   "cell_type": "markdown",
   "id": "1207768e",
   "metadata": {},
   "source": [
    "## Bài 3. (4.0 điểm)\n",
    "Hãy giải quyết các tình huống sau đây:"
   ]
  },
  {
   "cell_type": "markdown",
   "id": "77490073",
   "metadata": {},
   "source": [
    "1. Tỷ lệ bắn trúng đích của xạ thủ Thanh Long là $0.7.$ Xạ thủ đã bắn tất cả $25$ lần và ký hiệu $X$ là số lần xạ thủ đã bắn trúng đích. <br>\n",
    "Hãy xác định loại phân bố xác suất của $X.$ Từ đó bằng cách dùng các thư viện của Python thích hợp:\n",
    " - Hãy tính kỳ vọng, phương sai của $X$. \n",
    " - Xác suất để xạ thủ bắn trúng $22$ lần.\n",
    " - Xác suất để xạ thủ bắn trúng từ $10$ đến $20$ lần."
   ]
  },
  {
   "cell_type": "markdown",
   "id": "89c3bb31",
   "metadata": {},
   "source": [
    "**Bài làm**<br>\n",
    "Phân phối xác xuất của X là phân phối nhị thức.<br>\n",
    "với $n = 25 , p=0.7$"
   ]
  },
  {
   "cell_type": "code",
   "execution_count": 22,
   "id": "082a71f9",
   "metadata": {},
   "outputs": [],
   "source": [
    "n=25\n",
    "p=0.7"
   ]
  },
  {
   "cell_type": "code",
   "execution_count": 23,
   "id": "2ed14b2f",
   "metadata": {},
   "outputs": [],
   "source": [
    "X=stats.binom(n,p)"
   ]
  },
  {
   "cell_type": "markdown",
   "id": "5e155c06",
   "metadata": {},
   "source": [
    "* Kỳ vọng và Phương sai của X:"
   ]
  },
  {
   "cell_type": "code",
   "execution_count": 24,
   "id": "31769181",
   "metadata": {
    "scrolled": true
   },
   "outputs": [
    {
     "name": "stdout",
     "output_type": "stream",
     "text": [
      "Kỳ vọng là E[x]= 17.5\n",
      "Phương sai là Var[x]= 5.25\n"
     ]
    }
   ],
   "source": [
    "print('Kỳ vọng là E[x]=',X.mean())\n",
    "print('Phương sai là Var[x]=',X.var().round(4))"
   ]
  },
  {
   "cell_type": "markdown",
   "id": "77368493",
   "metadata": {},
   "source": [
    "* Xác suất để xạ thủ bắn trúng 22 lần."
   ]
  },
  {
   "cell_type": "code",
   "execution_count": 25,
   "id": "13b169d7",
   "metadata": {},
   "outputs": [
    {
     "name": "stdout",
     "output_type": "stream",
     "text": [
      "Xác suất để xạ thủ bắn trúng 22 lần là: 0.0243\n"
     ]
    }
   ],
   "source": [
    "print('Xác suất để xạ thủ bắn trúng 22 lần là:',X.pmf(22).round(4))"
   ]
  },
  {
   "cell_type": "markdown",
   "id": "81ce3775",
   "metadata": {},
   "source": [
    "* Xác suất để xạ thủ bắn trúng từ 10 đến 20 lần."
   ]
  },
  {
   "cell_type": "code",
   "execution_count": 26,
   "id": "b6d4b811",
   "metadata": {},
   "outputs": [
    {
     "name": "stdout",
     "output_type": "stream",
     "text": [
      "Xác suất để xạ thủ bắn trúng từ 10 đến 20 lần. 0.806058050465827\n"
     ]
    }
   ],
   "source": [
    "print('Xác suất để xạ thủ bắn trúng từ 10 đến 20 lần.',(1-X.cdf(9))-(1-X.cdf(19)))"
   ]
  },
  {
   "cell_type": "markdown",
   "id": "d845f3e9",
   "metadata": {},
   "source": [
    "2. Coder chuyên nghiệp Xuân Thảo cứ $1$ tiếng thì code ra $2$ bugs. Giả sử các bug là xuất hiện ngẫu nhiên độc lập với nhau và gọi $X$ là số bugs mà coder đã gây ra. <br>\n",
    "Hãy xác định loại phân bố xác suất của $X.$ Từ đó bằng cách dùng các thư viện của Python thích hợp:\n",
    " - Hãy tính kỳ vọng, phương sai của $X$.\n",
    " - Xác suất để trong $30$ phút, coder không có bug nào.\n",
    " - Xác suất để trong 1 ngày làm việc $8$ giờ, coder có nhiều hơn $10$ bug."
   ]
  },
  {
   "cell_type": "markdown",
   "id": "9876e4a6",
   "metadata": {},
   "source": [
    "Đây là phân phối poision với $\\lambda = 2$<br>\n",
    "vậy $\\lambda_1$ của 30 phút =$\\lambda / 2 = 1$<br>\n",
    "$\\lambda_2$ của 8 giờ = $\\lambda *8 =16$<br>"
   ]
  },
  {
   "cell_type": "code",
   "execution_count": 27,
   "id": "d18c9ee5",
   "metadata": {
    "scrolled": true
   },
   "outputs": [
    {
     "name": "stdout",
     "output_type": "stream",
     "text": [
      "1.0 16\n"
     ]
    }
   ],
   "source": [
    "lambdam=2\n",
    "lambda1=lambdam/2\n",
    "lambda2=lambdam*8\n",
    "print(lambda1,lambda2)"
   ]
  },
  {
   "cell_type": "markdown",
   "id": "57cccec9",
   "metadata": {},
   "source": [
    "Gọi X là Phối phối poisson với $\\lambda= 2$"
   ]
  },
  {
   "cell_type": "markdown",
   "id": "3a19b96d",
   "metadata": {},
   "source": [
    "* Kỳ vọng, phương sai của 𝑋."
   ]
  },
  {
   "cell_type": "code",
   "execution_count": 28,
   "id": "5da4bda3",
   "metadata": {},
   "outputs": [],
   "source": [
    "X=stats.poisson(lambdam)"
   ]
  },
  {
   "cell_type": "code",
   "execution_count": 29,
   "id": "df3c74bd",
   "metadata": {
    "scrolled": true
   },
   "outputs": [
    {
     "name": "stdout",
     "output_type": "stream",
     "text": [
      "Kỳ vọng là E[x]= 2.0\n",
      "Phương sai là Var[x]= 2.0\n"
     ]
    }
   ],
   "source": [
    "print('Kỳ vọng là E[x]=',X.mean())\n",
    "print('Phương sai là Var[x]=',X.var().round(4))"
   ]
  },
  {
   "cell_type": "markdown",
   "id": "1ca4c21a",
   "metadata": {},
   "source": [
    "* Xác suất để trong 30 phút, coder không có bug nào."
   ]
  },
  {
   "cell_type": "markdown",
   "id": "358b9261",
   "metadata": {},
   "source": [
    "Gọi Y là Phối phối poisson với $\\lambda_1= 1$"
   ]
  },
  {
   "cell_type": "code",
   "execution_count": 30,
   "id": "e7fdd570",
   "metadata": {
    "scrolled": true
   },
   "outputs": [
    {
     "name": "stdout",
     "output_type": "stream",
     "text": [
      "Xác suất để trong 30 phút, coder không có bug nào là: 0.3679\n"
     ]
    }
   ],
   "source": [
    "Y=stats.poisson(lambda1)\n",
    "print('Xác suất để trong 30 phút, coder không có bug nào là:',Y.pmf(0).round(4))"
   ]
  },
  {
   "cell_type": "markdown",
   "id": "73711cfb",
   "metadata": {},
   "source": [
    "* Xác suất để trong 1 ngày làm việc 8 giờ, coder có nhiều hơn 10 bug."
   ]
  },
  {
   "cell_type": "markdown",
   "id": "a1aa6d79",
   "metadata": {},
   "source": [
    "Gọi Z là Phối phối poisson với $\\lambda_2= 16$"
   ]
  },
  {
   "cell_type": "code",
   "execution_count": 31,
   "id": "1d618fb7",
   "metadata": {},
   "outputs": [
    {
     "name": "stdout",
     "output_type": "stream",
     "text": [
      "Xác suất để trong 1 ngày làm việc 8 giờ, coder có nhiều hơn 10 bug là: 0.9226\n"
     ]
    }
   ],
   "source": [
    "Z = stats.poisson(lambda2)\n",
    "print('Xác suất để trong 1 ngày làm việc 8 giờ, coder có nhiều hơn 10 bug là:',(1-Z.cdf(10)).round(4))"
   ]
  },
  {
   "cell_type": "markdown",
   "id": "4b264697",
   "metadata": {},
   "source": [
    "3. Trong thời gian rảnh, sinh viên Minh Nghĩa đang muốn đầu tư mua xe máy để chạy Grab, tuy nhiên hiện tại bạn vẫn chưa có bằng lái. Giả sử xác suất thi đậu bằng lái của Nghĩa là $0.8$ và bạn sẽ thi đến khi nào đậu thì thôi. Gọi $X$ là số lần thi của bạn. <br>\n",
    "Hãy xác định loại phân bố xác suất của $X.$ Từ đó bằng cách dùng các thư viện của Python thích hợp:\n",
    " - Hãy tính kỳ vọng, phương sai của $X$.\n",
    " - Xác suất để Nghĩa thi đậu ngay lần đầu tiên.\n",
    " - Xác suất để Nghĩa thi đậu sau ít nhất $3$ lần."
   ]
  },
  {
   "cell_type": "markdown",
   "id": "f3d1a013",
   "metadata": {},
   "source": [
    "Đây là phân phối hình học với p = 0.8"
   ]
  },
  {
   "cell_type": "markdown",
   "id": "25572f51",
   "metadata": {},
   "source": [
    "Gọi X là phân phối hình học với p =0.8"
   ]
  },
  {
   "cell_type": "code",
   "execution_count": 32,
   "id": "e9af994d",
   "metadata": {},
   "outputs": [],
   "source": [
    "p=0.8"
   ]
  },
  {
   "cell_type": "code",
   "execution_count": 33,
   "id": "79411908",
   "metadata": {},
   "outputs": [],
   "source": [
    "X = stats.geom(p)"
   ]
  },
  {
   "cell_type": "markdown",
   "id": "e921a892",
   "metadata": {},
   "source": [
    "* kỳ vọng, phương sai của 𝑋."
   ]
  },
  {
   "cell_type": "code",
   "execution_count": 34,
   "id": "527a2d62",
   "metadata": {},
   "outputs": [
    {
     "name": "stdout",
     "output_type": "stream",
     "text": [
      "Kỳ vọng là E[x]= 1.25\n",
      "Phương sai là Var[x]= 0.3125\n"
     ]
    }
   ],
   "source": [
    "print('Kỳ vọng là E[x]=',X.mean())\n",
    "print('Phương sai là Var[x]=',X.var().round(4))"
   ]
  },
  {
   "cell_type": "markdown",
   "id": "ac8d8042",
   "metadata": {},
   "source": [
    "* Xác suất để Nghĩa thi đậu ngay lần đầu tiên."
   ]
  },
  {
   "cell_type": "code",
   "execution_count": 35,
   "id": "9001b790",
   "metadata": {},
   "outputs": [
    {
     "name": "stdout",
     "output_type": "stream",
     "text": [
      "Xác suất để Nghĩa thi đậu ngay lần đầu tiên là 0.8\n"
     ]
    }
   ],
   "source": [
    "print('Xác suất để Nghĩa thi đậu ngay lần đầu tiên là',X.pmf(1))"
   ]
  },
  {
   "cell_type": "markdown",
   "id": "09e0e22f",
   "metadata": {},
   "source": [
    "* Xác suất để Nghĩa thi đậu sau ít nhất 3 lần."
   ]
  },
  {
   "cell_type": "code",
   "execution_count": 36,
   "id": "a1398e20",
   "metadata": {},
   "outputs": [
    {
     "name": "stdout",
     "output_type": "stream",
     "text": [
      "Xác suất để Nghĩa thi đậu sau ít nhất 3 lần là 0.04\n"
     ]
    }
   ],
   "source": [
    "print('Xác suất để Nghĩa thi đậu sau ít nhất 3 lần là',(1-X.cdf(2)).round(4))"
   ]
  },
  {
   "cell_type": "code",
   "execution_count": null,
   "id": "323ad76f",
   "metadata": {},
   "outputs": [],
   "source": []
  }
 ],
 "metadata": {
  "kernelspec": {
   "display_name": "Python 3 (ipykernel)",
   "language": "python",
   "name": "python3"
  },
  "language_info": {
   "codemirror_mode": {
    "name": "ipython",
    "version": 3
   },
   "file_extension": ".py",
   "mimetype": "text/x-python",
   "name": "python",
   "nbconvert_exporter": "python",
   "pygments_lexer": "ipython3",
   "version": "3.9.7"
  }
 },
 "nbformat": 4,
 "nbformat_minor": 5
}
