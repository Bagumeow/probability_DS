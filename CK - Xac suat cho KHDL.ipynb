{
 "cells": [
  {
   "cell_type": "code",
   "execution_count": 72,
   "id": "5a116f6d",
   "metadata": {},
   "outputs": [
    {
     "data": {
      "text/html": [
       "<style>.container { width:95% !important; }</style>"
      ],
      "text/plain": [
       "<IPython.core.display.HTML object>"
      ]
     },
     "metadata": {},
     "output_type": "display_data"
    }
   ],
   "source": [
    "from IPython.core.display import display, HTML\n",
    "display(HTML(\"<style>.container { width:95% !important; }</style>\"))"
   ]
  },
  {
   "cell_type": "code",
   "execution_count": 1,
   "id": "8719928c",
   "metadata": {},
   "outputs": [],
   "source": [
    "import matplotlib.pyplot as plt\n",
    "import seaborn as sns\n",
    "import numpy as np\n",
    "from sympy import *\n",
    "import math\n",
    "from sympy.abc import x,y,z\n",
    "plt.style.use('seaborn')\n",
    "from fractions import Fraction as F\n",
    "import pandas as pd\n",
    "from scipy import stats\n",
    "pd.set_option('display.width', 500)\n",
    "pd.set_option('display.max_columns', 100)\n",
    "pd.set_option('display.notebook_repr_html', True)"
   ]
  },
  {
   "cell_type": "markdown",
   "id": "9ae044c1",
   "metadata": {},
   "source": [
    "# Bài tập ôn thi Cuối kỳ Xác suất trong Khoa học dữ liệu\n",
    "## Khoa CNTT - trường ĐH Công nghiệp TPHCM.\n",
    "### Thời gian làm bài: 120 phút, SV được dùng tài liệu."
   ]
  },
  {
   "cell_type": "markdown",
   "id": "ec621c6a",
   "metadata": {},
   "source": [
    "### Bài 1. (phân bố kết hợp rời rạc)\n",
    "Cho vector ngẫu nhiên liên tục $(X,Y)$ như bảng bên dưới. Hãy trả lời các câu hỏi sau"
   ]
  },
  {
   "cell_type": "markdown",
   "id": "b2fe4308",
   "metadata": {},
   "source": [
    "|X \\ Y     | 2    | 3      | \n",
    "|----------|------|--------|\n",
    "| 1        | 0.1  | 0.1    |\n",
    "| 2        | 0.25 | 0.05   |\n",
    "| 4        | 0.15 | 0.35   |"
   ]
  },
  {
   "cell_type": "markdown",
   "id": "5180a309",
   "metadata": {},
   "source": [
    "- **a)** Tính các phân phối lề theo từng biến. <br>\n",
    "- **b)** Tính xác suất có điều kiện $P(0.5 < X < 3.5)$, $P(Y = 2 | X = 1)$ và $P(X \\le 2 | Y \\ge 1).$ <br>\n",
    "- **c)** Tìm bảng phân bố xác suất của $Z = X-Y.$\n",
    "- **d)** Tính kỳ vọng $E(X), E(Y), E(XY).$\n",
    "- **e)** Tính $cov(X,Y)$ và hệ số tương quan giữa $X,Y$. Từ đó cho biết $X,Y$ có độc lập không? <br>\n",
    "- **f)** Tính kỳ vọng có điều kiện $E(X|Y=3)$ và $E(Y|X=4)$. <br>"
   ]
  },
  {
   "cell_type": "markdown",
   "id": "21a0e34c",
   "metadata": {},
   "source": [
    "- **a)** Để tính phân phối lề theo từng biến ta có :. <br>\n",
    "\\begin{align}\\label{Eq:marginals}\n",
    "\\nonumber P_X(x)&=\\sum_{y_j \\in R_Y} P_{XY}(x,y_j), \\hspace{20pt} \\forall x \\in R_X \\\\\n",
    "P_Y(y)&=\\sum_{x_i \\in R_X} P_{XY}(x_i,y), \\hspace{20pt} \\forall y \\in R_Y \\hspace{40pt} \n",
    "\\end{align}\n",
    "\n",
    "$\\Leftrightarrow $\n",
    "\\begin{equation}\n",
    "\\nonumber P_X(x) = \\left\\{\n",
    "\\begin{array}{l l}\n",
    "0.2 & \\quad x=1 \\\\\n",
    "& \\quad \\\\\n",
    "0.3 & \\quad x=2 \\\\\n",
    "& \\quad \\\\\n",
    "0.5 & \\quad x=4 \\\\\n",
    "& \\quad \\\\\n",
    "0 & \\quad \\text{Trường hợp còn lại}\n",
    "\\end{array} \\right.\n",
    "\\end{equation}\n",
    "<br>\n",
    "\\begin{equation}\n",
    "\\nonumber P_Y(y) = \\left\\{\n",
    "\\begin{array}{l l}\n",
    "0.5 & \\quad y=2 \\\\\n",
    "& \\quad \\\\\n",
    "0.5 & \\quad y=3 \\\\\n",
    "& \\quad \\\\\n",
    "0 & \\quad \\text{Trường hợp còn lại}\n",
    "\\end{array} \\right.\n",
    "\\end{equation}"
   ]
  },
  {
   "cell_type": "markdown",
   "id": "8e8aede2",
   "metadata": {},
   "source": [
    "- **b)** Tính xác suất có điều kiện $P(0.5 < X < 3.5)$, $P(Y = 2 | X = 1)$ và $P(X \\le 2 | Y \\ge 1).$ <br>"
   ]
  },
  {
   "cell_type": "markdown",
   "id": "212b64ee",
   "metadata": {},
   "source": [
    "Ta có $P(0.5 < X < 3.5) = P_X(X=1)+ P_X(X=2) = 0.2+0.3 =0.5 $<br>\n",
    "Vậy $P(0.5 < X < 3.5) = 0.5$"
   ]
  },
  {
   "cell_type": "markdown",
   "id": "1ee1577e",
   "metadata": {},
   "source": [
    "Ta có $P(Y = 2 | X = 1) = \\frac{P(X=1,Y=2)}{P(X=1)} = \\frac{0.1}{0.2}=0.5$<br>\n",
    "Vậy $P(Y = 2 | X = 1)=0.5$"
   ]
  },
  {
   "cell_type": "markdown",
   "id": "892d3eb8",
   "metadata": {},
   "source": [
    "Ta có : $P(X\\le 2 ,Y \\ge 1) =P(X=1,Y=2)+P(X=1,Y=3),+P(X=2,Y=2)+P(X=2,Y=3)=0.5$<br>\n",
    "và $P(Y\\ge1)=1$<br>\n",
    "Vậy$P(X \\le 2 | Y \\ge 1)=\\frac{P(X\\le 2 ,Y \\ge 1)}{P(Y\\ge1)}=\\frac{0.5}{1}=0.5$"
   ]
  },
  {
   "cell_type": "markdown",
   "id": "7d42e930",
   "metadata": {},
   "source": [
    "|X \\ Y     | 2    | 3      | \n",
    "|----------|------|--------|\n",
    "| 1        | 0.1  | 0.1    |\n",
    "| 2        | 0.25 | 0.05   |\n",
    "| 4        | 0.15 | 0.35   |"
   ]
  },
  {
   "cell_type": "markdown",
   "id": "37b71dec",
   "metadata": {},
   "source": [
    "- **c)** Tìm bảng phân bố xác suất của $Z = X-Y.$<br>\n",
    "Các giá trị có thể có của Z là -2,-1,0,1,2<br>\n",
    "Tương ứng với các xác suất lần lượt là \n",
    "\\begin{equation}\n",
    "\\nonumber P_Z(z) = \\left\\{\n",
    "\\begin{array}{l l}\n",
    "z=-2 & \\quad P(X=1,Y=3) &\\quad 0.1\\\\\n",
    "& \\quad \\\\\n",
    "z=-1 & \\quad P(X=1,Y=2)+P(X=2,Y=3) &\\quad 0.1+0.05=0.15\\\\\n",
    "& \\quad \\\\\n",
    "z=0 & \\quad P(X=2,Y=2) &\\quad 0.25\\\\\n",
    "& \\quad \\\\\n",
    "z=1 & \\quad P(X=4,Y=3) &\\quad 0.35\\\\\n",
    "& \\quad \\\\\n",
    "z=2 & \\quad P(X=4,Y=2) &\\quad 0.15\\\\\n",
    "& \\quad \\\\\n",
    "\\text{Trường hợp còn lại} & \\quad 0\n",
    "\\end{array} \\right.\n",
    "\\end{equation}\n",
    "<br>\n",
    "\n",
    "**Bảng phân phối xác suất của Z là:**\n",
    "\n",
    "|Z    | -2   | -1      | 0   | 1   |2  |\n",
    "|-----|------|--------|------|-----|---|\n",
    "|P_Z    | 0.1   | 0.15      | 0.25   | 0.35   |0.15  |\n"
   ]
  },
  {
   "cell_type": "markdown",
   "id": "1fdee432",
   "metadata": {},
   "source": [
    "- **d)** Tính kỳ vọng $E(X), E(Y), E(XY).$<br>\n",
    "Dựa vào phân phối theo lề X ta tính được $E[X] = 1\\cdot 0.2+2\\cdot 0.3+4\\cdot 0.5 = 2.8$"
   ]
  },
  {
   "cell_type": "code",
   "execution_count": 2,
   "id": "81496633",
   "metadata": {},
   "outputs": [
    {
     "name": "stdout",
     "output_type": "stream",
     "text": [
      "E[X]= 2.8\n"
     ]
    }
   ],
   "source": [
    "E_X=1*0.2+2*0.3+4*0.5\n",
    "print('E[X]=',E_X)"
   ]
  },
  {
   "cell_type": "markdown",
   "id": "17e41af5",
   "metadata": {},
   "source": [
    "Tương tự dựa vào phân phối lề Y ta có $E[Y]=2\\cdot 0.5 + 3\\cdot0.5 = 2.5$"
   ]
  },
  {
   "cell_type": "code",
   "execution_count": 3,
   "id": "17e98d16",
   "metadata": {},
   "outputs": [
    {
     "name": "stdout",
     "output_type": "stream",
     "text": [
      "E[Y]= 2.5\n"
     ]
    }
   ],
   "source": [
    "E_Y = 2*0.5+3*0.5\n",
    "print('E[Y]=',E_Y)"
   ]
  },
  {
   "cell_type": "markdown",
   "id": "a3ccbb1f",
   "metadata": {},
   "source": [
    "Cuối cùng Ta có $E(XY) = \\sum_{i\\epsilon X} \\sum_{j\\epsilon Y} P_{X_iY_j} \\cdot x_i \\cdot y_j $<br>\n",
    "$E[XY] = 0.1\\cdot 1\\cdot2 + 0.1 \\cdot 1 \\cdot3 +0.25 \\cdot2 \\cdot 2 + 0.05 \\cdot2 \\cdot 3+ 0.15 \\cdot 4 \\cdot 2 + 0.35 \\cdot 4 \\cdot 3 = 7.2$"
   ]
  },
  {
   "cell_type": "code",
   "execution_count": 4,
   "id": "a8f52cb5",
   "metadata": {
    "scrolled": true
   },
   "outputs": [
    {
     "name": "stdout",
     "output_type": "stream",
     "text": [
      "E[XY]= 7.2\n"
     ]
    }
   ],
   "source": [
    "E_XY=0.1*2+0.1*3 + 0.25*2*2 + 0.05*2*3 + 0.15*4*2 + 0.35 *4*3\n",
    "\n",
    "print('E[XY]=',round(E_XY,4))"
   ]
  },
  {
   "cell_type": "markdown",
   "id": "5c3f8320",
   "metadata": {},
   "source": [
    "- **e)** Tính $cov(X,Y)$ và hệ số tương quan giữa $X,Y$. Từ đó cho biết $X,Y$ có độc lập không? <br>\n",
    "Công thức tính covarian là :$$\\operatorname{cov}(X,Y)=E(XY)-E(X)\\cdot E(Y).$$\n",
    "<br>\n",
    "$= 7.2- 2.8 \\cdot 2.5 =0.2 >0$ nên X và Y tương quan cùng chiều<br>\n",
    "Và $Cov \\neq 0$ nên X và Y không độc lập với nhau\n"
   ]
  },
  {
   "cell_type": "code",
   "execution_count": 5,
   "id": "8b06f2bd",
   "metadata": {
    "scrolled": false
   },
   "outputs": [
    {
     "name": "stdout",
     "output_type": "stream",
     "text": [
      "Cov(X,Y)= 0.2\n"
     ]
    }
   ],
   "source": [
    "cov=E_XY - E_X*E_Y\n",
    "print('Cov(X,Y)=',round(cov,4))"
   ]
  },
  {
   "attachments": {
    "image_2022-05-14_113954711.png": {
     "image/png": "[encoded data removed]"
    }
   },
   "cell_type": "markdown",
   "id": "89915c7d",
   "metadata": {},
   "source": [
    "![image_2022-05-14_113954711.png](attachment:image_2022-05-14_113954711.png)"
   ]
  },
  {
   "cell_type": "markdown",
   "id": "9202304d",
   "metadata": {},
   "source": [
    "Hệ số tương quan: $$\\rho (X,Y)=\\frac{\\operatorname{cov}(X,Y)}{\\sqrt{D(X) \\cdot D(Y)}}.$$"
   ]
  },
  {
   "cell_type": "code",
   "execution_count": 6,
   "id": "b50e46e1",
   "metadata": {
    "scrolled": true
   },
   "outputs": [
    {
     "name": "stdout",
     "output_type": "stream",
     "text": [
      "𝜌(𝑋,𝑌) = 0.0756\n"
     ]
    }
   ],
   "source": [
    "ro=cov/np.sqrt(E_X*E_Y)\n",
    "print('𝜌(𝑋,𝑌) =',round(ro,4))"
   ]
  },
  {
   "cell_type": "markdown",
   "id": "b262013f",
   "metadata": {},
   "source": [
    "Vì $|\\rho (X,Y)|= 0.075$ nên X và Y tương quan lỏng lẻo, phụ thuộc yếu"
   ]
  },
  {
   "cell_type": "markdown",
   "id": "1c2f4abe",
   "metadata": {},
   "source": [
    "- **f)** Tính kỳ vọng có điều kiện $E(X|Y=3)$ và $E(Y|X=4)$. <br>\n",
    "Để tìm $E(X|Y=3)$ ta sẽ tìm phân phối xác suất của lề X khi biết Y=3 :\n",
    "\\begin{equation}\n",
    "\\nonumber P_{X|Y=3}(x) = \\left\\{\n",
    "\\begin{array}{l l}\n",
    "x=1 & \\quad P(X=1|Y=3) &\\quad \\frac{0.1}{0.5}=0.2\\\\\n",
    "& \\quad \\\\\n",
    "x=2 & \\quad P(X=2|Y=3) &\\quad \\frac{0.05}{0.5}=0.1\\\\\n",
    "& \\quad \\\\\n",
    "x=4 & \\quad P(X=4|Y=3) &\\quad \\frac{0.35}{0.5}=0.7\\\\\n",
    "& \\quad \\\\\n",
    "\\text{Trường hợp còn lại} & \\quad 0\n",
    "\\end{array} \\right.\n",
    "\\end{equation}\n",
    "Vậy $E(X|Y=3)= 0.2 \\cdot 1+0.1 \\cdot 2 + 0.7 \\cdot 4 =3.2$<br>\n",
    "Tương tự với $E(Y|X=4)$ ta sẽ tìm phân phối xác suất của lề Y khi biết X=4\n",
    "\\begin{equation}\n",
    "\\nonumber P_{Y|X=4}(y) = \\left\\{\n",
    "\\begin{array}{l l}\n",
    "y=2 & \\quad P(Y=2|X=4) &\\quad \\frac{0.15}{0.5}=0.3\\\\\n",
    "& \\quad \\\\\n",
    "y=3 & \\quad P(Y=3|X=4) &\\quad \\frac{0.35}{0.5}=0.7\\\\\n",
    "& \\quad \\\\\n",
    "\\text{Trường hợp còn lại} & \\quad 0\n",
    "\\end{array} \\right.\n",
    "\\end{equation}\n",
    "Vậy $E(Y|X=4)= 0.3 \\cdot 2 + 0.7 \\cdot 3 =2.7$<br>\n",
    "Kết luận : $E(X|Y=3)=3.2$, $E(Y|X=4)=2.7$"
   ]
  },
  {
   "cell_type": "markdown",
   "id": "4e105e1e",
   "metadata": {},
   "source": [
    "### Bài 2. (phân bố chuẩn)\n",
    "Cân nặng của sinh viên trong lớp là đại lượng ngẫu nhiên có phân bố chuẩn với kỳ vọng $60kg$ và độ lệch chuẩn $15kg$. <br>\n",
    "- **a)** Hãy sinh ra một bảng dữ liệu của $X$ với kích thước $100.$ \n",
    "- **b)** Dùng thư viện thích hợp, trực quan dữ liệu trên. <br>\n",
    "- **c)** Tính xác suất để sinh viên được chọn trong lớp nặng hơn $70kg$, xác suất để nhẹ hơn $40kg$. <br>\n",
    "- **d)** Tìm $a$ sao cho xác suất để cân nặng của sinh viên không vượt quá $a$ thì bằng $0.75.$"
   ]
  },
  {
   "cell_type": "markdown",
   "id": "58332b0b",
   "metadata": {},
   "source": [
    "- **a)** $\\text{Hãy sinh ra một bảng dữ liệu của X với kích thước 100. }$<br>\n",
    "\n",
    "*Để sinh ra một bảng dữ liệu ta dùng lệnh np.random.normal(size,loc='mean',scale='std')*"
   ]
  },
  {
   "cell_type": "code",
   "execution_count": 7,
   "id": "ec479e9b",
   "metadata": {
    "scrolled": true
   },
   "outputs": [
    {
     "data": {
      "text/plain": [
       "array([47.51232596, 60.70990391, 63.64277843, 56.59282531, 47.21019653,\n",
       "       79.06043402, 76.80770298, 65.05224128, 61.32919388, 53.85731546,\n",
       "       22.6079306 , 61.19898071, 70.6448263 , 77.10697408, 60.12835079,\n",
       "       48.93120403, 56.56414344, 56.25179811, 49.84277273, 29.70859836,\n",
       "       79.92146683, 31.2284192 , 59.44251347, 65.46359742, 68.58632144,\n",
       "       41.08807962, 64.07198241, 64.46384543, 80.00164165, 56.50788259,\n",
       "       47.68373482, 76.83107986, 51.02483912, 53.85751467, 63.8037949 ,\n",
       "       43.88060776, 65.97509987, 85.17665993, 30.63409012, 64.34876869,\n",
       "       65.26213742, 55.02035728, 52.21672438, 76.31103838, 61.69636491,\n",
       "       68.59918215, 29.20934236, 68.90768143, 62.17080154, 44.82070795,\n",
       "       80.78863317, 53.94246792, 65.52769802, 82.15904625, 60.69361043,\n",
       "       76.8752316 , 61.12695953, 65.30453739, 75.8870478 , 72.98987479,\n",
       "       53.20569418, 97.08299684, 37.13985797, 46.00676888, 74.94261396,\n",
       "       67.83021978, 73.48939144, 85.63669368, 85.83031227, 75.35323789,\n",
       "       44.62426005, 47.23336389, 79.69218563, 60.1800733 , 73.91053745,\n",
       "       35.87691327, 63.4221943 , 79.01395858, 87.46640097, 51.27008957,\n",
       "       42.08380184, 56.47795927, 82.98783281, 42.32003958, 49.53549012,\n",
       "       68.44668117, 52.12225528, 84.25459513, 41.62017336, 86.82210197,\n",
       "       70.83300007, 64.88902211, 70.86120133, 62.43601649, 69.11253753,\n",
       "       49.46594311, 79.92222636, 72.34579869, 58.91506265, 47.66368448])"
      ]
     },
     "execution_count": 7,
     "metadata": {},
     "output_type": "execute_result"
    }
   ],
   "source": [
    "data = np.random.normal(size=100,loc=60,scale=15)\n",
    "data"
   ]
  },
  {
   "cell_type": "markdown",
   "id": "304598a0",
   "metadata": {},
   "source": [
    "- **b)** $\\text{Dùng thư viện thích hợp, trực quan dữ liệu trên. }$<br>\n",
    "\n",
    "*Ta sẽ dùng seaborn để trực quan hóa dữ liệu trên*"
   ]
  },
  {
   "cell_type": "code",
   "execution_count": 8,
   "id": "88accce7",
   "metadata": {},
   "outputs": [
    {
     "data": {
      "image/png": "[encoded data removed]",
      "text/plain": [
       "<Figure size 576x396 with 1 Axes>"
      ]
     },
     "metadata": {},
     "output_type": "display_data"
    }
   ],
   "source": [
    "sns.histplot(data, color=\"purple\", kde=True, stat=\"density\", linewidth=0);"
   ]
  },
  {
   "cell_type": "markdown",
   "id": "64ab7352",
   "metadata": {},
   "source": [
    "- **c)** $\\text{Tính xác suất để sinh viên được chọn trong lớp nặng hơn 70kg xác suất để nhẹ hơn 40kg}$.<br>\n",
    "\n",
    "*Gọi X là phân phối chuẩn với $Mean = 60, Std = 15$*"
   ]
  },
  {
   "cell_type": "code",
   "execution_count": 9,
   "id": "267eccd8",
   "metadata": {},
   "outputs": [],
   "source": [
    "X= stats.norm(loc=60,scale=15)"
   ]
  },
  {
   "cell_type": "markdown",
   "id": "dbcabcb2",
   "metadata": {},
   "source": [
    "* Xác suất để chọn được sinh viên trong lớp năng hơn 70kg là $P(X>70) = 1-P(X\\leq70)$ "
   ]
  },
  {
   "cell_type": "code",
   "execution_count": 10,
   "id": "0a09ff60",
   "metadata": {},
   "outputs": [
    {
     "name": "stdout",
     "output_type": "stream",
     "text": [
      "0.2524925375469229 0.2524925375469229\n"
     ]
    }
   ],
   "source": [
    "print(X.sf(70),1-X.cdf(70))"
   ]
  },
  {
   "cell_type": "code",
   "execution_count": 11,
   "id": "a4d4ef02",
   "metadata": {},
   "outputs": [
    {
     "name": "stdout",
     "output_type": "stream",
     "text": [
      "Xác suất để chọn được sinh viên trong lớp nặng hơn 70kg là: 0.2525\n"
     ]
    }
   ],
   "source": [
    "print('Xác suất để chọn được sinh viên trong lớp nặng hơn 70kg là:',X.sf(70).round(4))"
   ]
  },
  {
   "cell_type": "markdown",
   "id": "db964052",
   "metadata": {},
   "source": [
    "* Xác suất để chọn được sinh viên trong lớp nhẹ hơn 40kg là $P(X<40) = P(X\\leq39)$"
   ]
  },
  {
   "cell_type": "code",
   "execution_count": 12,
   "id": "cb19bec8",
   "metadata": {},
   "outputs": [
    {
     "name": "stdout",
     "output_type": "stream",
     "text": [
      "Xác suất để chọn được sinh viên trong lớp nhẹ hơn 40kg là: 0.0808\n"
     ]
    }
   ],
   "source": [
    "print('Xác suất để chọn được sinh viên trong lớp nhẹ hơn 40kg là:',X.cdf(39).round(4))"
   ]
  },
  {
   "cell_type": "markdown",
   "id": "5278b358",
   "metadata": {},
   "source": [
    "- **d)** $\\text{Tìm a sao cho xác suất để cân nặng của sinh viên không vượt quá a thì bằng }0.75.$<br>\n",
    "\n",
    "Nghĩa là $P(X\\leq a )=0.75$"
   ]
  },
  {
   "cell_type": "code",
   "execution_count": 13,
   "id": "e8870926",
   "metadata": {},
   "outputs": [
    {
     "data": {
      "text/plain": [
       "(70.1173, 0.75)"
      ]
     },
     "execution_count": 13,
     "metadata": {},
     "output_type": "execute_result"
    }
   ],
   "source": [
    "a= X.ppf(0.75)\n",
    "a.round(4),X.cdf(a).round(4)"
   ]
  },
  {
   "cell_type": "code",
   "execution_count": 14,
   "id": "32500025",
   "metadata": {},
   "outputs": [
    {
     "name": "stdout",
     "output_type": "stream",
     "text": [
      "Vậy a = 70.1173\n"
     ]
    }
   ],
   "source": [
    "print('Vậy a =',a.round(4))"
   ]
  },
  {
   "cell_type": "markdown",
   "id": "064626cd",
   "metadata": {},
   "source": [
    "### Bài 3. (xấp xỉ phân bố bằng luật số lớn, định lý giới hạn trung tâm)\n",
    "- **a)** Xí nghiệp sản xuất máy tính có xác suất làm ra phế phẩm là $0.02$. Chọn ngẫu nhiên $250$ máy tính để kiểm tra. Hãy dùng xấp xỉ thành phân phối Poisson, tính xác suất để có không quá 3 máy phế phẩm.\n",
    "- **b)** Khu nhà có $160$ hộ gia đình. Xác suất để mỗi hộ có sự cố về điện vào mỗi buổi tối là $0.02.$ Hãy dùng xấp xỉ thành phân phối Poisson, tính xác sất để trong một buổi tối số gia đình gặp sự cố về điện là từ $2$ đến $5.$\n",
    "- **c)** Gieo một con xúc sắc có các mặt là $(1,1,3,4,5,7)$ đồng chất, tổng cộng $50$ lần. Tính xác suất để **tổng** số nút thu được là không vượt quá $200$? Là lớn hơn $120?$\n",
    "- **d)** Trong khu phố có: $180$ hộ dân có $2$ người có lượng nước sinh hoạt là đại lượng ngẫu nhiên có trung bình $0.6m^3$, độ lệch chuẩn $0.04m^3$ và $50$ hộ có hơn $2$ người có lượng nước sinh hoạt là đại lượng ngẫu nhiên có trung bình $1.9m^3$, độ lệch chuẩn $0.14m^3$. Tính xác suất để trong một ngày, khu phố đó dùng **tổng cộng** hơn $205m^3$ nước, cho biết tính chất của kỳ vọng và phương sai tổng hai biến ngẫu nhiên độc lập $$E(X+Y) = E(X)+E(Y) \\text{ và } Var(X+Y) = Var(X)+Var(Y).$$"
   ]
  },
  {
   "cell_type": "markdown",
   "id": "de2ddb99",
   "metadata": {},
   "source": [
    "**a)** $\\text{Khi xấp xỉ thành phân phối Poisson ta sẽ có } \\lambda = 0.02 \\cdot 250 = 5$"
   ]
  },
  {
   "cell_type": "code",
   "execution_count": 15,
   "id": "5a40b67e",
   "metadata": {},
   "outputs": [
    {
     "data": {
      "text/plain": [
       "5.0"
      ]
     },
     "execution_count": 15,
     "metadata": {},
     "output_type": "execute_result"
    }
   ],
   "source": [
    "Lambda = 0.02 * 250\n",
    "Lambda"
   ]
  },
  {
   "cell_type": "markdown",
   "id": "5a6e233a",
   "metadata": {},
   "source": [
    "Gọi X là phân phối Poisson với $\\lambda = 5$<br>\n",
    "Xác suất để có không quá 3 máy phế phẩm là $P(X<=3)$"
   ]
  },
  {
   "cell_type": "code",
   "execution_count": 16,
   "id": "85b73dcb",
   "metadata": {},
   "outputs": [
    {
     "name": "stdout",
     "output_type": "stream",
     "text": [
      "Xác suất để không có quá 3 máy phế phẩm là :  0.265\n"
     ]
    }
   ],
   "source": [
    "X = stats.poisson(Lambda)\n",
    "print('Xác suất để không có quá 3 máy phế phẩm là : ',X.cdf(3).round(4))"
   ]
  },
  {
   "cell_type": "markdown",
   "id": "cf236bdc",
   "metadata": {},
   "source": [
    "**b)** $\\text{Khi xấp xỉ thành phân phối Poisson ta có }\\lambda = 160*0.02 = 3.2 $"
   ]
  },
  {
   "cell_type": "code",
   "execution_count": 17,
   "id": "2a5fcacc",
   "metadata": {
    "scrolled": true
   },
   "outputs": [
    {
     "data": {
      "text/plain": [
       "3.2"
      ]
     },
     "execution_count": 17,
     "metadata": {},
     "output_type": "execute_result"
    }
   ],
   "source": [
    "Lambda2=160*0.02\n",
    "Lambda2"
   ]
  },
  {
   "cell_type": "markdown",
   "id": "652f869b",
   "metadata": {},
   "source": [
    "Gọi Y là phân phối Poisson với $\\lambda = 3.2$<br>\n",
    "Xác sất để trong một buổi tối số gia đình gặp sự cố về điện là từ 2 đến 5 là : $P(2\\leq Y \\leq 5) = P( Y \\leq 5) - P(Y < 2)=P( Y \\leq 5) - P(Y \\leq 1)$"
   ]
  },
  {
   "cell_type": "code",
   "execution_count": 18,
   "id": "9953bbc6",
   "metadata": {},
   "outputs": [
    {
     "data": {
      "text/plain": [
       "0.7233906378216846"
      ]
     },
     "execution_count": 18,
     "metadata": {},
     "output_type": "execute_result"
    }
   ],
   "source": [
    "Y = stats.poisson(Lambda2)\n",
    "py=Y.cdf(5)-Y.cdf(1)\n",
    "py"
   ]
  },
  {
   "cell_type": "code",
   "execution_count": 19,
   "id": "f23e218a",
   "metadata": {},
   "outputs": [
    {
     "name": "stdout",
     "output_type": "stream",
     "text": [
      "Xác sất để trong một buổi tối số gia đình gặp sự cố về điện là từ 2 đến 5 là:  0.7234\n"
     ]
    }
   ],
   "source": [
    "print('Xác sất để trong một buổi tối số gia đình gặp sự cố về điện là từ 2 đến 5 là: ',py.round(4))"
   ]
  },
  {
   "cell_type": "markdown",
   "id": "41d95788",
   "metadata": {},
   "source": [
    "- **c)** $\\text{Gieo một con xúc sắc có các mặt là (1,1,3,4,5,7) đồng chất, tổng cộng 50 lần. Tính xác suất để}$ **tổng** $\\text{số nút thu được là không vượt quá 200?}$ Là lớn hơn $120?$"
   ]
  },
  {
   "cell_type": "markdown",
   "id": "945c3ee7",
   "metadata": {},
   "source": [
    "$\\text{Đầu tiên ta sẽ tính Mean và Var của các biến này }$"
   ]
  },
  {
   "cell_type": "code",
   "execution_count": 20,
   "id": "36e32962",
   "metadata": {
    "scrolled": false
   },
   "outputs": [
    {
     "name": "stdout",
     "output_type": "stream",
     "text": [
      "Mean = 3.5 , Var = 4.5833\n"
     ]
    }
   ],
   "source": [
    "dice = np.array([1,1,3,4,5,7])\n",
    "mean_dice = dice.mean()\n",
    "var_dice = dice.var()\n",
    "print('Mean =',mean_dice,', Var =',var_dice.round(4))"
   ]
  },
  {
   "cell_type": "markdown",
   "id": "be836ade",
   "metadata": {},
   "source": [
    "Khi gieo xúc sắc 50 lần, ta sẽ được 50 phân bố xác suất độc lập, nên theo định lý giới hạn trung tâm, ta có tổng $X = (X_1 + X_2 + X_3 +...  +X_{50})$ Theo phân bố chuẩn ta có $Mean = 3.5 \\cdot 50 , Variance=4.5833 \\cdot 50$"
   ]
  },
  {
   "cell_type": "code",
   "execution_count": 21,
   "id": "dd428343",
   "metadata": {},
   "outputs": [
    {
     "data": {
      "text/plain": [
       "15.138251770487459"
      ]
     },
     "execution_count": 21,
     "metadata": {},
     "output_type": "execute_result"
    }
   ],
   "source": [
    "dice.std()*np.sqrt(50)"
   ]
  },
  {
   "cell_type": "code",
   "execution_count": 22,
   "id": "913f4085",
   "metadata": {},
   "outputs": [
    {
     "data": {
      "text/plain": [
       "(175.0, 229.1667, 15.138251770487457)"
      ]
     },
     "execution_count": 22,
     "metadata": {},
     "output_type": "execute_result"
    }
   ],
   "source": [
    "muy = 50*mean_dice\n",
    "var_norm = 50*var_dice\n",
    "muy,var_norm.round(4),np.sqrt(var_norm)"
   ]
  },
  {
   "cell_type": "markdown",
   "id": "c1e9fb98",
   "metadata": {},
   "source": [
    "Gọi L là Phân phối chuẩn với $\\mu = 175$ và $\\sigma = \\sqrt{229.1667}$"
   ]
  },
  {
   "cell_type": "code",
   "execution_count": 23,
   "id": "983b074c",
   "metadata": {},
   "outputs": [
    {
     "data": {
      "text/plain": [
       "(0.9506761947853504, 0.99986002544106, 0.99986002544106)"
      ]
     },
     "execution_count": 23,
     "metadata": {},
     "output_type": "execute_result"
    }
   ],
   "source": [
    "L=stats.norm(loc=muy,scale = np.sqrt(var_norm))\n",
    "L.cdf(200),L.sf(120),1-L.cdf(120)"
   ]
  },
  {
   "cell_type": "code",
   "execution_count": 24,
   "id": "8abe99f0",
   "metadata": {
    "scrolled": true
   },
   "outputs": [
    {
     "name": "stdout",
     "output_type": "stream",
     "text": [
      "Xác suất để tổng số nút thu được là không vượt quá 200 là : 0.9507\n"
     ]
    }
   ],
   "source": [
    "print('Xác suất để tổng số nút thu được là không vượt quá 200 là :',L.cdf(200).round(4))"
   ]
  },
  {
   "cell_type": "code",
   "execution_count": 25,
   "id": "d19a7f3b",
   "metadata": {},
   "outputs": [
    {
     "name": "stdout",
     "output_type": "stream",
     "text": [
      "Xác suất để tổng số nút thu được là lớn hơn 120 là 0.9999\n"
     ]
    }
   ],
   "source": [
    "print('Xác suất để tổng số nút thu được là lớn hơn 120 là',L.sf(120).round(4))"
   ]
  },
  {
   "cell_type": "code",
   "execution_count": 26,
   "id": "e228566f",
   "metadata": {},
   "outputs": [
    {
     "name": "stdout",
     "output_type": "stream",
     "text": [
      "185\n"
     ]
    }
   ],
   "source": [
    "# mô phỏng tổng số nút sau 50 lần pick\n",
    "import random\n",
    "s=0\n",
    "for i in range(50):\n",
    "    i=random.choice(dice)\n",
    "    s+=i\n",
    "print(s)"
   ]
  },
  {
   "cell_type": "markdown",
   "id": "b7517554",
   "metadata": {},
   "source": [
    "- **d)** Trong khu phố có: $180$ hộ dân có $2$ người có lượng nước sinh hoạt là đại lượng ngẫu nhiên có trung bình $0.6m^3$, độ lệch chuẩn $0.04m^3$ và $50$ hộ có hơn $2$ người có lượng nước sinh hoạt là đại lượng ngẫu nhiên có trung bình $1.9m^3$, độ lệch chuẩn $0.14m^3$. Tính xác suất để trong một ngày, khu phố đó dùng **tổng cộng** hơn $205m^3$ nước, cho biết tính chất của kỳ vọng và phương sai tổng hai biến ngẫu nhiên độc lập $$E(X+Y) = E(X)+E(Y) \\text{ và } Var(X+Y) = Var(X)+Var(Y).$$"
   ]
  },
  {
   "cell_type": "markdown",
   "id": "bd3a9eb6",
   "metadata": {},
   "source": [
    "Gọi khu phố có 180 hộ là khu A, Khu phố 50 hộ là khu B, khi đó :<br>\n",
    "$E_A = 0.6\\cdot 180 = 108$ <br>\n",
    "$E_B = 1.9\\cdot 50 = 95$ <br>\n",
    "Và $E$ của khu phố sẽ bằng $E[A+B]= E_A + E_B = 203$\n",
    "Tương tự với phương sai:\n",
    "$Var[A+B] = Var_A + Var_B = 180\\cdot (0.04)^2 + 50\\cdot (0.14)^2 = 1.268$<br>\n",
    "$\\Rightarrow  Std = \\sqrt{Var} = \\sqrt{1.268}$"
   ]
  },
  {
   "cell_type": "code",
   "execution_count": 27,
   "id": "88ce9032",
   "metadata": {},
   "outputs": [
    {
     "data": {
      "text/plain": [
       "1.2680000000000002"
      ]
     },
     "execution_count": 27,
     "metadata": {},
     "output_type": "execute_result"
    }
   ],
   "source": [
    "VarAB= 180*0.04**2+50*0.14**2\n",
    "VarAB"
   ]
  },
  {
   "cell_type": "code",
   "execution_count": 28,
   "id": "12abb521",
   "metadata": {
    "scrolled": true
   },
   "outputs": [
    {
     "data": {
      "text/plain": [
       "(203, 1.1260550608207398)"
      ]
     },
     "execution_count": 28,
     "metadata": {},
     "output_type": "execute_result"
    }
   ],
   "source": [
    "muy=203\n",
    "sigma=np.sqrt(1.268)\n",
    "muy,sigma"
   ]
  },
  {
   "cell_type": "markdown",
   "id": "0ab08398",
   "metadata": {},
   "source": [
    "Gọi X là phân phối chuẩn với $\\mu = 203, \\sigma = \\sqrt{1.268}$"
   ]
  },
  {
   "cell_type": "code",
   "execution_count": 29,
   "id": "1faa806b",
   "metadata": {},
   "outputs": [],
   "source": [
    "X=stats.norm(loc=muy,scale=sigma)"
   ]
  },
  {
   "cell_type": "code",
   "execution_count": 30,
   "id": "c62061c4",
   "metadata": {},
   "outputs": [
    {
     "name": "stdout",
     "output_type": "stream",
     "text": [
      "Xác suất để trong một ngày, khu phố đó dùng hơn 205 khối nước là: 0.0379\n"
     ]
    }
   ],
   "source": [
    "print('Xác suất để trong một ngày, khu phố đó dùng hơn 205 khối nước là:',X.sf(205).round(4))"
   ]
  },
  {
   "cell_type": "markdown",
   "id": "f6c12366",
   "metadata": {},
   "source": [
    "### Bài 4. (biến ngẫu nhiên liên tục)\n",
    "Cho biến ngẫu nhiên liên tục $X$ có hàm phân bố xác suất PMF sau đây\n",
    "$$f_X(x)=\\left\\{ \\begin{aligned}\n",
    "  & k(x^2-4x) , \\text{ khi } 1 \\le x \\le 4 \\\\ \n",
    " & 0, \\text{ khác}. \\\\ \n",
    "\\end{aligned} \\right..$$\n",
    "- **a)** Tìm $k$.\n",
    "- **b)** Tìm hàm phân bố tích lũy CDF của $X$.\n",
    "- **c)** Tính $E(X)$, $E(X^4)$ và $Std(X).$\n",
    "- **d)** Tính $Var(\\frac{2}{X}+3).$\n",
    "- **e)** Tính $P(X \\ge 1)$ và $P(X \\ge 2 | X \\le 3).$\n",
    "- **f)** Tính $mode(X)$ và $median(X).$"
   ]
  },
  {
   "cell_type": "markdown",
   "id": "51f654be",
   "metadata": {},
   "source": [
    "$\\text{a) Tìm k}$"
   ]
  },
  {
   "cell_type": "markdown",
   "id": "f689c45e",
   "metadata": {},
   "source": [
    "Để tìm k ta tính $\\int_{-\\infty}^{\\infty} f_X(x)dx=1$:\n",
    "$$1=\\int_{1}^{4} k(x^2-4x)dx$$"
   ]
  },
  {
   "cell_type": "code",
   "execution_count": 31,
   "id": "f2785b8f",
   "metadata": {
    "scrolled": false
   },
   "outputs": [
    {
     "data": {
      "text/latex": [
       "$\\displaystyle - 9 k$"
      ],
      "text/plain": [
       "-9*k"
      ]
     },
     "execution_count": 31,
     "metadata": {},
     "output_type": "execute_result"
    }
   ],
   "source": [
    "from sympy.abc import x,y,z,k\n",
    "f=k*(x**2-4*x)\n",
    "tp=integrate(f,(x,1,4))\n",
    "tp"
   ]
  },
  {
   "cell_type": "markdown",
   "id": "eae48dcb",
   "metadata": {},
   "source": [
    "$-9k=1$"
   ]
  },
  {
   "cell_type": "code",
   "execution_count": 32,
   "id": "34db7aa8",
   "metadata": {
    "scrolled": true
   },
   "outputs": [
    {
     "data": {
      "text/plain": [
       "{k: -1/9}"
      ]
     },
     "execution_count": 32,
     "metadata": {},
     "output_type": "execute_result"
    }
   ],
   "source": [
    "solve([-9*k-1],k)"
   ]
  },
  {
   "cell_type": "markdown",
   "id": "45fc6c59",
   "metadata": {},
   "source": [
    "$\\text{Vậy k = }-\\frac{1}{9}$"
   ]
  },
  {
   "cell_type": "markdown",
   "id": "86a82f5f",
   "metadata": {},
   "source": [
    "\n",
    "$\\text{b) Tìm hàm phân bố tích lũy CDF của X}$."
   ]
  },
  {
   "cell_type": "markdown",
   "id": "654762dd",
   "metadata": {},
   "source": [
    "Để tìm hàm CDF của X ta tính Nguyên hàm của $f(x)$"
   ]
  },
  {
   "cell_type": "code",
   "execution_count": 33,
   "id": "60be1a21",
   "metadata": {
    "scrolled": true
   },
   "outputs": [
    {
     "data": {
      "text/latex": [
       "$\\displaystyle - \\frac{x^{3}}{27} + \\frac{2 x^{2}}{9}$"
      ],
      "text/plain": [
       "-x**3/27 + 2*x**2/9"
      ]
     },
     "execution_count": 33,
     "metadata": {},
     "output_type": "execute_result"
    }
   ],
   "source": [
    "f=(x**2-4*x)*-1/9\n",
    "nh=integrate(f)\n",
    "nh"
   ]
  },
  {
   "cell_type": "markdown",
   "id": "a32e71db",
   "metadata": {},
   "source": [
    "$\\text{Vậy}$ $$F_X(x)=\\left\\{ \\begin{aligned}\n",
    "  & -\\frac{x^3}{27}+\\frac{2x^2}{9} , \\text{ khi } 1 \\le x \\le 4 \\\\ \n",
    " & 0, \\text{ khác}. \\\\ \n",
    "\\end{aligned} \\right..$$"
   ]
  },
  {
   "cell_type": "markdown",
   "id": "88cd0c67",
   "metadata": {},
   "source": [
    "**c)** Tính $E(X)$, $E(X^4)$ và $Std(X).$"
   ]
  },
  {
   "cell_type": "markdown",
   "id": "252c1ae0",
   "metadata": {},
   "source": [
    "*  Ta có  $E[X]= \\int_{-\\infty}^{\\infty} xf_X(x)dx = \\int_{1}^{4} x(-\\frac{x^3}{27}+\\frac{2x^2}{9})dx$"
   ]
  },
  {
   "cell_type": "code",
   "execution_count": 34,
   "id": "8f702020",
   "metadata": {},
   "outputs": [
    {
     "data": {
      "text/latex": [
       "$\\displaystyle \\frac{9}{4}$"
      ],
      "text/plain": [
       "9/4"
      ]
     },
     "execution_count": 34,
     "metadata": {},
     "output_type": "execute_result"
    }
   ],
   "source": [
    "E_X=integrate(x*f,(x,1,4))\n",
    "E_X"
   ]
  },
  {
   "cell_type": "markdown",
   "id": "ebb6faf3",
   "metadata": {},
   "source": [
    "$\\text{Vậy E[X] = }\\frac{9}{4}$"
   ]
  },
  {
   "cell_type": "markdown",
   "id": "1143a2bb",
   "metadata": {},
   "source": [
    "* Sử dụng LOTOS ta có $E[X^4] =\\int_{-\\infty}^{\\infty} x^4 f_X(x) dx = \\int_{1}^{4} x^4(-\\frac{x^3}{27}+\\frac{2x^2}{9})dx$"
   ]
  },
  {
   "cell_type": "code",
   "execution_count": 35,
   "id": "b154896d",
   "metadata": {
    "scrolled": true
   },
   "outputs": [
    {
     "data": {
      "text/latex": [
       "$\\displaystyle \\frac{303}{7}$"
      ],
      "text/plain": [
       "303/7"
      ]
     },
     "execution_count": 35,
     "metadata": {},
     "output_type": "execute_result"
    }
   ],
   "source": [
    "E_X4=integrate(x**4*f,(x,1,4))\n",
    "E_X4"
   ]
  },
  {
   "cell_type": "markdown",
   "id": "32863008",
   "metadata": {},
   "source": [
    "$\\text{Vậy }E[X^4] = \\frac{303}{7}$"
   ]
  },
  {
   "cell_type": "markdown",
   "id": "1b67544c",
   "metadata": {},
   "source": [
    "* $\\text{Vì Std(X) = } \\sqrt{Var(X)} \\text{ nên đầu tiên ta sẽ tính Var(X)}$<br>\n",
    "$Var(X)=\\int_{-\\infty }^{+\\infty }{{{(x-E(X))}^{2}f(x)}dx}=\\int_{-\\infty }^{+\\infty }{{{x}^{2}}f(x)dx}-{{(E(X))}^{2}}$;<br>"
   ]
  },
  {
   "cell_type": "code",
   "execution_count": 36,
   "id": "ca5c0f49",
   "metadata": {},
   "outputs": [
    {
     "data": {
      "text/latex": [
       "$\\displaystyle \\frac{43}{80}$"
      ],
      "text/plain": [
       "43/80"
      ]
     },
     "execution_count": 36,
     "metadata": {},
     "output_type": "execute_result"
    }
   ],
   "source": [
    "#cach 1\n",
    "var_X = integrate((x-E_X)**2*f,(x,1,4))\n",
    "var_X"
   ]
  },
  {
   "cell_type": "code",
   "execution_count": 37,
   "id": "3f0bf18a",
   "metadata": {},
   "outputs": [
    {
     "data": {
      "text/latex": [
       "$\\displaystyle \\frac{43}{80}$"
      ],
      "text/plain": [
       "43/80"
      ]
     },
     "execution_count": 37,
     "metadata": {},
     "output_type": "execute_result"
    }
   ],
   "source": [
    "#cach 2 \n",
    "var_x = integrate(x**2*f,(x,1,4))-E_X**2\n",
    "var_x"
   ]
  },
  {
   "cell_type": "code",
   "execution_count": 38,
   "id": "e7b939e5",
   "metadata": {
    "scrolled": true
   },
   "outputs": [
    {
     "data": {
      "text/latex": [
       "$\\displaystyle \\frac{\\sqrt{215}}{20}$"
      ],
      "text/plain": [
       "sqrt(215)/20"
      ]
     },
     "execution_count": 38,
     "metadata": {},
     "output_type": "execute_result"
    }
   ],
   "source": [
    "std_x=sqrt(var_X)\n",
    "std_x"
   ]
  },
  {
   "cell_type": "markdown",
   "id": "c6710d6f",
   "metadata": {},
   "source": [
    "$\\text{Vậy }Std[X] = \\frac{\\sqrt{215}}{20}$"
   ]
  },
  {
   "cell_type": "markdown",
   "id": "594e5bd1",
   "metadata": {},
   "source": [
    "- **d)** Tính $Var(\\frac{2}{X}+3).$\n"
   ]
  },
  {
   "cell_type": "markdown",
   "id": "01aac207",
   "metadata": {},
   "source": [
    "Ta có :  $\\textrm{Var}(aX+b)=a^2 \\textrm{Var}(X).\\hspace{70pt}$ <br>\n",
    "$\\textrm{nên Var}\\left(\\frac{2}{X}+3\\right)=4\\textrm{Var}\\left(\\frac{1}{X}\\right)$<br>\n",
    "$\\text{Vậy chỉ cần tìm Var} (\\frac{1}{X})=E[\\frac{1}{X^2}]-(E[\\frac{1}{X}])^2$\n"
   ]
  },
  {
   "cell_type": "code",
   "execution_count": 39,
   "id": "f41be5ce",
   "metadata": {
    "scrolled": true
   },
   "outputs": [
    {
     "data": {
      "text/latex": [
       "$\\displaystyle \\frac{1}{2}$"
      ],
      "text/plain": [
       "1/2"
      ]
     },
     "execution_count": 39,
     "metadata": {},
     "output_type": "execute_result"
    }
   ],
   "source": [
    "E_1x=integrate(1/x*f,(x,1,4))\n",
    "E_1x"
   ]
  },
  {
   "cell_type": "code",
   "execution_count": 40,
   "id": "9593463d",
   "metadata": {
    "scrolled": true
   },
   "outputs": [
    {
     "data": {
      "text/latex": [
       "$\\displaystyle - \\frac{1}{3} + \\frac{4 \\log{\\left(4 \\right)}}{9}$"
      ],
      "text/plain": [
       "-1/3 + 4*log(4)/9"
      ]
     },
     "execution_count": 40,
     "metadata": {},
     "output_type": "execute_result"
    }
   ],
   "source": [
    "E_1x2= integrate(1/x**2*f,(x,1,4))\n",
    "E_1x2"
   ]
  },
  {
   "cell_type": "markdown",
   "id": "a48f5602",
   "metadata": {},
   "source": [
    "Sử dụng LOTUS ta có $E[\\frac{1}{X}]=\\frac{1}{2},E[\\frac{1}{X^2}]=-\\frac{1}{3}+\\frac{4log(4)}{9}\\approx0.2828$\n"
   ]
  },
  {
   "cell_type": "code",
   "execution_count": 41,
   "id": "25541107",
   "metadata": {
    "scrolled": true
   },
   "outputs": [
    {
     "data": {
      "text/latex": [
       "$\\displaystyle - \\frac{7}{12} + \\frac{4 \\log{\\left(4 \\right)}}{9}$"
      ],
      "text/plain": [
       "-7/12 + 4*log(4)/9"
      ]
     },
     "execution_count": 41,
     "metadata": {},
     "output_type": "execute_result"
    }
   ],
   "source": [
    "var_1x = E_1x2-E_1x**2\n",
    "var_1x"
   ]
  },
  {
   "cell_type": "markdown",
   "id": "46c775fa",
   "metadata": {},
   "source": [
    "$\\text{Từ đó Var}\\left(\\frac{1}{X}\\right)=E[\\frac{1}{X^2}]-(E[\\frac{1}{X}])^2=\\displaystyle - \\frac{7}{12} + \\frac{4 \\log{\\left(4 \\right)}}{9}\\approx0.0328 \\text{. Từ đây ta kết luận}$<br>\n",
    "   $$\\textrm{Var}(\\frac{2}{X}+3)=4\\textrm{Var}\\left(\\frac{1}{X}\\right) \\approx 0.1312.$$\n",
    "    \n"
   ]
  },
  {
   "cell_type": "markdown",
   "id": "ff62f915",
   "metadata": {},
   "source": [
    "- **e)** Tính $P(X \\ge 1)$ và $P(X \\ge 2 | X \\le 3).$\n"
   ]
  },
  {
   "cell_type": "markdown",
   "id": "95af42b8",
   "metadata": {},
   "source": [
    "Ta có $P(X\\geq 1) = \\int_{1}^{+\\infty} f_X(x) dx = \\int_{1}^{4} f_X(x) dx$"
   ]
  },
  {
   "cell_type": "code",
   "execution_count": 42,
   "id": "483fa5be",
   "metadata": {
    "scrolled": true
   },
   "outputs": [
    {
     "data": {
      "text/latex": [
       "$\\displaystyle 1$"
      ],
      "text/plain": [
       "1"
      ]
     },
     "execution_count": 42,
     "metadata": {},
     "output_type": "execute_result"
    }
   ],
   "source": [
    "tp1 = integrate(f,(x,1,4))\n",
    "tp1"
   ]
  },
  {
   "cell_type": "markdown",
   "id": "15428f96",
   "metadata": {},
   "source": [
    "$\\text{Vậy }P(X\\geq1) = 1$"
   ]
  },
  {
   "cell_type": "markdown",
   "id": "4f87d73f",
   "metadata": {},
   "source": [
    "Ta có $P(X \\ge 2 | X \\le 3) = \\frac{P(2\\le x \\le 3)}{P(x \\le 3)} $"
   ]
  },
  {
   "cell_type": "markdown",
   "id": "93cb4f88",
   "metadata": {},
   "source": [
    "Gọi tp2,tp3 lần lượt  là Xác suất của $P(2\\le x \\le 3)$ và $P(X\\le3)$\n"
   ]
  },
  {
   "cell_type": "code",
   "execution_count": 43,
   "id": "4c7c7787",
   "metadata": {
    "scrolled": true
   },
   "outputs": [
    {
     "data": {
      "text/plain": [
       "(11/27, 22/27)"
      ]
     },
     "execution_count": 43,
     "metadata": {},
     "output_type": "execute_result"
    }
   ],
   "source": [
    "tp2=integrate(f,(x,2,3))\n",
    "tp3=integrate(f,(x,1,3))\n",
    "tp2,tp3"
   ]
  },
  {
   "cell_type": "code",
   "execution_count": 44,
   "id": "61c6941e",
   "metadata": {},
   "outputs": [
    {
     "data": {
      "text/latex": [
       "$\\displaystyle \\frac{1}{2}$"
      ],
      "text/plain": [
       "1/2"
      ]
     },
     "execution_count": 44,
     "metadata": {},
     "output_type": "execute_result"
    }
   ],
   "source": [
    "tp2/tp3"
   ]
  },
  {
   "cell_type": "markdown",
   "id": "2b1f9c4c",
   "metadata": {},
   "source": [
    "Vậy $P(X \\ge 2 | X \\le 3) = \\frac{tp2}{tp3} = \\frac{1}{2}$"
   ]
  },
  {
   "cell_type": "markdown",
   "id": "3232f45c",
   "metadata": {},
   "source": [
    "- **f)** Tính $mode(X)$ và $median(X).$"
   ]
  },
  {
   "cell_type": "code",
   "execution_count": 45,
   "id": "0c556ba7",
   "metadata": {
    "scrolled": true
   },
   "outputs": [
    {
     "data": {
      "text/latex": [
       "$\\displaystyle - \\frac{x^{2}}{9} + \\frac{4 x}{9}$"
      ],
      "text/plain": [
       "-x**2/9 + 4*x/9"
      ]
     },
     "execution_count": 45,
     "metadata": {},
     "output_type": "execute_result"
    }
   ],
   "source": [
    "f"
   ]
  },
  {
   "cell_type": "code",
   "execution_count": 46,
   "id": "90f035c8",
   "metadata": {
    "scrolled": false
   },
   "outputs": [
    {
     "data": {
      "text/latex": [
       "$\\displaystyle \\frac{4}{9} - \\frac{2 x}{9}$"
      ],
      "text/plain": [
       "4/9 - 2*x/9"
      ]
     },
     "execution_count": 46,
     "metadata": {},
     "output_type": "execute_result"
    }
   ],
   "source": [
    "diff(f)"
   ]
  },
  {
   "cell_type": "code",
   "execution_count": 47,
   "id": "7a18dafb",
   "metadata": {
    "scrolled": true
   },
   "outputs": [
    {
     "data": {
      "text/plain": [
       "{x: 2}"
      ]
     },
     "execution_count": 47,
     "metadata": {},
     "output_type": "execute_result"
    }
   ],
   "source": [
    "solve([diff(f)],x)"
   ]
  },
  {
   "cell_type": "markdown",
   "id": "13963777",
   "metadata": {},
   "source": [
    "* $\\text{vì mode(x) là giá trị ${{x}_{0}}$ sao cho $f(x)$ đạt max tại đó.}$<br>\n",
    "Nên ta có $f(x) = \\displaystyle - \\frac{x^{2}}{9} + \\frac{4 x}{9}$<br>\n",
    "$\\Rightarrow f'(x) = \\displaystyle \\frac{4}{9} - \\frac{2 x}{9}$ ; $f'(x) = 0 \\Leftrightarrow x=2$"
   ]
  },
  {
   "cell_type": "code",
   "execution_count": 48,
   "id": "65048c92",
   "metadata": {
    "scrolled": true
   },
   "outputs": [
    {
     "data": {
      "text/plain": [
       "(1/3, 0, 4/9)"
      ]
     },
     "execution_count": 48,
     "metadata": {},
     "output_type": "execute_result"
    }
   ],
   "source": [
    "f.subs(x,1),f.subs(x,4),f.subs(x,2)"
   ]
  },
  {
   "cell_type": "markdown",
   "id": "ad788df0",
   "metadata": {},
   "source": [
    "$\\text{Và khi thế giá trị x lần lượt là 1,4,2 ta thấy Giá trị tại x=2 là lớn nhất }$<br>\n",
    "$\\text{Vậy mode(x) = 2}$"
   ]
  },
  {
   "cell_type": "markdown",
   "id": "3b685b60",
   "metadata": {},
   "source": [
    "* $\\text{median(X) là tìm a sao cho} \\int_{-\\infty}^{a} f_X(x) dx =\\frac{1}{2}$"
   ]
  },
  {
   "cell_type": "code",
   "execution_count": 49,
   "id": "0cc3e109",
   "metadata": {
    "scrolled": false
   },
   "outputs": [
    {
     "data": {
      "text/latex": [
       "$\\displaystyle - \\frac{a^{3}}{27} + \\frac{2 a^{2}}{9} - \\frac{5}{27}$"
      ],
      "text/plain": [
       "-a**3/27 + 2*a**2/9 - 5/27"
      ]
     },
     "execution_count": 49,
     "metadata": {},
     "output_type": "execute_result"
    }
   ],
   "source": [
    "from sympy.abc import a\n",
    "med=integrate(f,(x,1,a))\n",
    "med"
   ]
  },
  {
   "cell_type": "markdown",
   "id": "b4eb30d7",
   "metadata": {},
   "source": [
    "Từ đây ta giải phương trình med-1/2 = 0 để tìm nghiệm của a"
   ]
  },
  {
   "cell_type": "code",
   "execution_count": 50,
   "id": "4b8a1cb7",
   "metadata": {
    "scrolled": false
   },
   "outputs": [
    {
     "data": {
      "text/plain": [
       "[-1.56391303915538 + 0.e-20*I,\n",
       " 2.20909515028805 + 0.e-22*I,\n",
       " 5.35481788886733 - 0.e-22*I]"
      ]
     },
     "execution_count": 50,
     "metadata": {},
     "output_type": "execute_result"
    }
   ],
   "source": [
    "ans=solve(med-1/2,a)\n",
    "ans"
   ]
  },
  {
   "cell_type": "markdown",
   "id": "862eb838",
   "metadata": {},
   "source": [
    "$\\text{Ta thấy phương trình có 3 nghiệm riêng biệt là }  x_1=-1.563,x_2=2.209,x_3=5.5348$\n",
    "$\\text{Mà x chỉ nhận giá trị trong khoảng [1,4] nên ta chỉ nhận nghiệm }x_2=2.209 $"
   ]
  },
  {
   "cell_type": "code",
   "execution_count": 51,
   "id": "c55e7183",
   "metadata": {
    "scrolled": true
   },
   "outputs": [
    {
     "data": {
      "text/latex": [
       "$\\displaystyle 0.499999999999998$"
      ],
      "text/plain": [
       "0.499999999999998"
      ]
     },
     "execution_count": 51,
     "metadata": {},
     "output_type": "execute_result"
    }
   ],
   "source": [
    "#kiem chung lai ket qua\n",
    "integrate(f,(x,1,2.20909515028805))"
   ]
  },
  {
   "cell_type": "markdown",
   "id": "2b4f3d2e",
   "metadata": {},
   "source": [
    "$\\text{Vậy median(X) }\\approx 2.209$"
   ]
  },
  {
   "cell_type": "markdown",
   "id": "aa74372e",
   "metadata": {},
   "source": [
    "### Bài 5. (phân phối kết hợp liên tục)\n",
    "Cho vector ngẫu nhiên $(X,Y)$ có hàm mật độ sau \n",
    "$$f(x,y)=\\left\\{ \\begin{aligned}\n",
    "  & C \\cdot e^{-2x-3y} \\text{  khi  } x, y \\ge 0 \\\\ \n",
    " & 0\\text{ otherwise} \\\\ \n",
    "\\end{aligned} \\right.$$\n",
    "- **a)** Xác định $C$.\n",
    "- **b)** Tìm hàm mật độ lề $f_X(x), f_Y(y).$ Từ đó kiểm tra tính độc lập của $X,Y.$\n",
    "- **c)** Viết biểu thức cho các xác suất có điều kiện $f_{X|Y=2},$ $f_{Y|X = 3}.$\n",
    "- **d)** Hãy viết biểu thức cho hàm phân phối tích lũy $F(x,y).$\n",
    "- **e)** Tính các giá trị $P(-2 < Y < 2)$ và $P(-2 < X < 1| -2 < Y < 2).$\n",
    "- **f)** Tính giá trị $P(X < Y)$ và $E(X|Y>1).$"
   ]
  },
  {
   "cell_type": "markdown",
   "id": "7a823b41",
   "metadata": {},
   "source": [
    "- **a)** $\\text{Xác định C.}$<br>\n",
    "a) Để tìm k ta có: \n",
    "\\begin{align}%\\label{}\n",
    "\\nonumber 1&=\\int_{-\\infty}^{+\\infty} \\int_{-\\infty}^{+\\infty} f_{XY}(x,y)dxdy\\\\\n",
    "\\nonumber &=\\int_{0}^{+\\infty} \\int_{0}^{+\\infty} C\\cdot e^{-(2x+3y)} \\hspace{5pt} dxdy\\\\\n",
    "\\end{align}"
   ]
  },
  {
   "cell_type": "code",
   "execution_count": 52,
   "id": "47089f7e",
   "metadata": {},
   "outputs": [
    {
     "data": {
      "text/latex": [
       "$\\displaystyle \\frac{c}{6}$"
      ],
      "text/plain": [
       "c/6"
      ]
     },
     "execution_count": 52,
     "metadata": {},
     "output_type": "execute_result"
    }
   ],
   "source": [
    "from sympy.abc import c \n",
    "f = c*E**-(2*x+3*y)\n",
    "tp = integrate(f,(x,0,+oo),(y,0,+oo))\n",
    "tp"
   ]
  },
  {
   "cell_type": "code",
   "execution_count": 53,
   "id": "7ce4042f",
   "metadata": {},
   "outputs": [
    {
     "data": {
      "text/plain": [
       "{c: 6}"
      ]
     },
     "execution_count": 53,
     "metadata": {},
     "output_type": "execute_result"
    }
   ],
   "source": [
    "solve([c/6-1],c)"
   ]
  },
  {
   "cell_type": "markdown",
   "id": "c114f3d5",
   "metadata": {},
   "source": [
    "$\\text{Vậy c = 6}$"
   ]
  },
  {
   "cell_type": "markdown",
   "id": "6b1d9e1a",
   "metadata": {},
   "source": [
    "b) Tìm phân phối lề x $f_x(x)$ ta tính tích phân theo biến y :\n",
    "\\begin{align}%\\label{}\n",
    "\\nonumber f_X(x)&=\\int_{-\\infty}^{+\\infty} f_{XY}(x,y)dy\\\\\n",
    "\\nonumber &=\\int_{0}^{+\\infty} 6e^{-(2x+3y)} \\hspace{5pt} dy\\\\\n",
    "\\end{align}"
   ]
  },
  {
   "cell_type": "code",
   "execution_count": 54,
   "id": "84c7ddbc",
   "metadata": {},
   "outputs": [
    {
     "data": {
      "text/latex": [
       "$\\displaystyle 2 e^{- 2 x}$"
      ],
      "text/plain": [
       "2*exp(-2*x)"
      ]
     },
     "execution_count": 54,
     "metadata": {},
     "output_type": "execute_result"
    }
   ],
   "source": [
    "f=6*E**-(2*x+3*y)\n",
    "tplx= integrate(f,(y,0,+oo))\n",
    "tplx"
   ]
  },
  {
   "cell_type": "markdown",
   "id": "f1cb552b",
   "metadata": {},
   "source": [
    "Vậy ta có : \n",
    "\\begin{equation}\n",
    "\\nonumber f_X(x) = \\left\\{\n",
    "\\begin{array}{l l}\n",
    "2e^{-2x} & \\quad  x \\geq o \\\\\n",
    "& \\quad \\\\\n",
    "0 & \\quad \\text{otherwise}\n",
    "\\end{array} \\right.\n",
    "\\end{equation}"
   ]
  },
  {
   "cell_type": "markdown",
   "id": "b058cdd1",
   "metadata": {},
   "source": [
    "Tương tự để tìm phân phối lề y $f_y(y)$ ta sẽ tính tích phân theo biến x:\n",
    "\\begin{align}%\\label{}\n",
    "\\nonumber f_Y(y)&=\\int_{-\\infty}^{+\\infty} f_{XY}(x,y)dx\\\\\n",
    "\\nonumber &=\\int_{0}^{+\\infty} 6e^{-(2x+3y)} \\hspace{5pt} dx\\\\\n",
    "\\end{align}"
   ]
  },
  {
   "cell_type": "code",
   "execution_count": 55,
   "id": "0d1087c4",
   "metadata": {},
   "outputs": [
    {
     "data": {
      "text/latex": [
       "$\\displaystyle 3 e^{- 3 y}$"
      ],
      "text/plain": [
       "3*exp(-3*y)"
      ]
     },
     "execution_count": 55,
     "metadata": {},
     "output_type": "execute_result"
    }
   ],
   "source": [
    "tply = integrate(f,(x,0,+oo))\n",
    "tply"
   ]
  },
  {
   "cell_type": "markdown",
   "id": "f418dcc8",
   "metadata": {},
   "source": [
    "Vậy ta có : \n",
    "\\begin{equation}\n",
    "\\nonumber f_Y(y) = \\left\\{\n",
    "\\begin{array}{l l}\n",
    "3e^{-3y} & \\quad  y \\geq o \\\\\n",
    "& \\quad \\\\\n",
    "0 & \\quad \\text{otherwise}\n",
    "\\end{array} \\right.\n",
    "\\end{equation}"
   ]
  },
  {
   "cell_type": "code",
   "execution_count": 56,
   "id": "b61db95c",
   "metadata": {},
   "outputs": [
    {
     "data": {
      "text/latex": [
       "$\\displaystyle 6 e^{- 2 x} e^{- 3 y}$"
      ],
      "text/plain": [
       "6*exp(-2*x)*exp(-3*y)"
      ]
     },
     "execution_count": 56,
     "metadata": {},
     "output_type": "execute_result"
    }
   ],
   "source": [
    "tplx*tply"
   ]
  },
  {
   "cell_type": "code",
   "execution_count": 57,
   "id": "3aab15c0",
   "metadata": {},
   "outputs": [
    {
     "data": {
      "text/latex": [
       "$\\displaystyle 6 e^{- 2 x - 3 y}$"
      ],
      "text/plain": [
       "6*exp(-2*x - 3*y)"
      ]
     },
     "execution_count": 57,
     "metadata": {},
     "output_type": "execute_result"
    }
   ],
   "source": [
    "f"
   ]
  },
  {
   "cell_type": "markdown",
   "id": "9468fb7f",
   "metadata": {},
   "source": [
    "$\\text{Ta thấy }f_X(x).f_Y(y) = f(x,y)\\text{ nên hai biến ngẫu nhiên này độc lập.}$"
   ]
  },
  {
   "cell_type": "markdown",
   "id": "30dff7ec",
   "metadata": {},
   "source": [
    "- **c)** Viết biểu thức cho các xác suất có điều kiện $f_{X|Y=2},$ $f_{Y|X = 3}.$\n"
   ]
  },
  {
   "cell_type": "markdown",
   "id": "583c1549",
   "metadata": {},
   "source": [
    "Để tính $f_{X|Y=2}$, ta tính $\\frac{f(x,y)}{f_{Y(2)}}=\\frac{ 6 e^{- 2 x - 3 y}}{3/{e^{6}}}=2 e^{6} e^{- 2 x - 3 y}$"
   ]
  },
  {
   "cell_type": "code",
   "execution_count": 58,
   "id": "f7cd076e",
   "metadata": {},
   "outputs": [
    {
     "data": {
      "text/latex": [
       "$\\displaystyle \\frac{3}{e^{6}}$"
      ],
      "text/plain": [
       "3*exp(-6)"
      ]
     },
     "execution_count": 58,
     "metadata": {},
     "output_type": "execute_result"
    }
   ],
   "source": [
    "tply.subs(y,2)"
   ]
  },
  {
   "cell_type": "code",
   "execution_count": 59,
   "id": "f0d57c12",
   "metadata": {},
   "outputs": [
    {
     "data": {
      "text/latex": [
       "$\\displaystyle 2 e^{6} e^{- 2 x - 3 y}$"
      ],
      "text/plain": [
       "2*exp(6)*exp(-2*x - 3*y)"
      ]
     },
     "execution_count": 59,
     "metadata": {},
     "output_type": "execute_result"
    }
   ],
   "source": [
    "f_y2 = f/tply.subs(y,2)\n",
    "f_y2"
   ]
  },
  {
   "cell_type": "markdown",
   "id": "1dc9cf64",
   "metadata": {},
   "source": [
    "$$\\text{Vậy } \\quad f_{X|Y=2}=\\left\\{ \\begin{aligned}\n",
    "  & \\displaystyle 2 e^{6} e^{- 2 x - 3 y}\\quad \\text{  khi  } x, y \\ge 0 \\\\ \n",
    " & 0\\text{ otherwise} \\\\ \n",
    "\\end{aligned} \\right.$$"
   ]
  },
  {
   "cell_type": "markdown",
   "id": "3bf5b598",
   "metadata": {},
   "source": [
    "Tương tự với $f_{Y|X=3}$, ta tính $\\frac{f(x,y)}{f_X(3)}=\\frac{ 6 e^{- 2 x - 3 y}}{2/{e^{6}}}=3 e^{6} e^{- 2 x - 3 y}$"
   ]
  },
  {
   "cell_type": "code",
   "execution_count": 60,
   "id": "b66bc554",
   "metadata": {},
   "outputs": [
    {
     "data": {
      "text/latex": [
       "$\\displaystyle \\frac{2}{e^{6}}$"
      ],
      "text/plain": [
       "2*exp(-6)"
      ]
     },
     "execution_count": 60,
     "metadata": {},
     "output_type": "execute_result"
    }
   ],
   "source": [
    "tplx.subs(x,3)"
   ]
  },
  {
   "cell_type": "code",
   "execution_count": 61,
   "id": "cdf5c06a",
   "metadata": {},
   "outputs": [
    {
     "data": {
      "text/latex": [
       "$\\displaystyle 3 e^{6} e^{- 2 x - 3 y}$"
      ],
      "text/plain": [
       "3*exp(6)*exp(-2*x - 3*y)"
      ]
     },
     "execution_count": 61,
     "metadata": {},
     "output_type": "execute_result"
    }
   ],
   "source": [
    "f_x3 = f/tplx.subs(x,3)\n",
    "f_x3"
   ]
  },
  {
   "cell_type": "markdown",
   "id": "879d1ae7",
   "metadata": {},
   "source": [
    "$$\\text{Vậy } \\quad f_{Y|X=3}=\\left\\{ \\begin{aligned}\n",
    "  & 3 e^{6} e^{- 2 x - 3 y}\\quad \\text{  khi  } x, y \\ge 0 \\\\ \n",
    " & 0\\text{ otherwise} \\\\ \n",
    "\\end{aligned} \\right.$$"
   ]
  },
  {
   "cell_type": "markdown",
   "id": "e77b2c61",
   "metadata": {},
   "source": [
    "- **d)** Hãy viết biểu thức cho hàm phân phối tích lũy $F(x,y).$"
   ]
  },
  {
   "cell_type": "markdown",
   "id": "857bcda6",
   "metadata": {},
   "source": [
    "$\\text{Ta có:}f(x,y)=\\frac{{{d}^{2}}}{dxdy}F(x,y)$<br>\n",
    "$\\text{Vậy để tìm F(x,y) ta sẽ tìm nguyên hàm theo x và y của f(x,y)}$"
   ]
  },
  {
   "cell_type": "code",
   "execution_count": 62,
   "id": "77bf208e",
   "metadata": {},
   "outputs": [
    {
     "data": {
      "text/latex": [
       "$\\displaystyle 6 e^{- 2 x - 3 y}$"
      ],
      "text/plain": [
       "6*exp(-2*x - 3*y)"
      ]
     },
     "execution_count": 62,
     "metadata": {},
     "output_type": "execute_result"
    }
   ],
   "source": [
    "f"
   ]
  },
  {
   "cell_type": "code",
   "execution_count": 63,
   "id": "ad51f9e8",
   "metadata": {},
   "outputs": [
    {
     "data": {
      "text/latex": [
       "$\\displaystyle - \\left(1 - e^{2 x}\\right) e^{- 2 x} + \\left(1 - e^{2 x}\\right) e^{- 2 x} e^{- 3 y}$"
      ],
      "text/plain": [
       "-(1 - exp(2*x))*exp(-2*x) + (1 - exp(2*x))*exp(-2*x)*exp(-3*y)"
      ]
     },
     "execution_count": 63,
     "metadata": {},
     "output_type": "execute_result"
    }
   ],
   "source": [
    "F=integrate(f,(x,0,x),(y,0,y))\n",
    "F"
   ]
  },
  {
   "cell_type": "markdown",
   "id": "b8b26246",
   "metadata": {},
   "source": [
    "$$\\text{Vậy } \\quad F(x,y)=\\left\\{ \\begin{aligned}\n",
    "  & - \\left(1 - e^{2 x}\\right) e^{- 2 x} + \\left(1 - e^{2 x}\\right) e^{- 2 x} e^{- 3 y} \\quad \\text{  khi  } x, y \\ge 0 \\\\ \n",
    " & 0\\quad\\text{ otherwise} \\\\ \n",
    "\\end{aligned} \\right.$$"
   ]
  },
  {
   "cell_type": "markdown",
   "id": "d90fc4c0",
   "metadata": {},
   "source": [
    "- **e)** Tính các giá trị $P(-2 < Y < 2)$ và $P(-2 < X < 1| -2 < Y < 2).$"
   ]
  },
  {
   "cell_type": "markdown",
   "id": "c3942a32",
   "metadata": {},
   "source": [
    "* * Tính $P(-2 < Y < 2)$: cho x chạy từ 0 đến +$\\infty$ và y chạy từ -2 đến 2, nhưng miền của y >= 0 nên lấy từ 0 đến 2<br>\n",
    "$\\text{Gọi F1 là P(-2<Y<2)}$"
   ]
  },
  {
   "cell_type": "code",
   "execution_count": 64,
   "id": "95749af3",
   "metadata": {},
   "outputs": [
    {
     "data": {
      "text/plain": [
       "0.9975212478233336"
      ]
     },
     "execution_count": 64,
     "metadata": {},
     "output_type": "execute_result"
    }
   ],
   "source": [
    "F1 = integrate(f, (x, 0, +oo), (y,0, 2))\n",
    "float(F1)"
   ]
  },
  {
   "cell_type": "markdown",
   "id": "01da6ca7",
   "metadata": {},
   "source": [
    "* * Tính $P(-2 < X < 1)$: cho x chạy từ 0 đến 1 và y chạy từ 0 đến +$\\infty$<br>\n",
    "$\\text{Gọi F2 là P(-2 < X < 1)}$\n"
   ]
  },
  {
   "cell_type": "code",
   "execution_count": 65,
   "id": "be5a7fe4",
   "metadata": {},
   "outputs": [
    {
     "data": {
      "text/plain": [
       "0.8646647167633873"
      ]
     },
     "execution_count": 65,
     "metadata": {},
     "output_type": "execute_result"
    }
   ],
   "source": [
    "F2 = integrate(f, (x, 0, 1), (y,0, +oo))\n",
    "float(F2)"
   ]
  },
  {
   "cell_type": "markdown",
   "id": "453f9143",
   "metadata": {},
   "source": [
    "* * Tính $P{(-2<X<1|-2<Y<2)} = \\frac{P{(-2<X<1, -2<Y<2)}}{P(-2<Y<2)}$<br>\n",
    "$\\text{Gọi F3 là P(-2<X<1, -2<Y<2)}$"
   ]
  },
  {
   "cell_type": "code",
   "execution_count": 66,
   "id": "777f83ff",
   "metadata": {
    "scrolled": true
   },
   "outputs": [
    {
     "data": {
      "text/plain": [
       "0.8625214272146234"
      ]
     },
     "execution_count": 66,
     "metadata": {},
     "output_type": "execute_result"
    }
   ],
   "source": [
    "F3 = integrate(f,(x,0,1),(y,0,2))\n",
    "float(F3)"
   ]
  },
  {
   "cell_type": "markdown",
   "id": "f74de96e",
   "metadata": {},
   "source": [
    "$\\text{Từ đó, ta có được xác suất có điều kiện cần tìm là P(-2<X<1|-2<Y<2) =}\\frac{F3}{F1}$"
   ]
  },
  {
   "cell_type": "code",
   "execution_count": 67,
   "id": "aafa64ef",
   "metadata": {},
   "outputs": [
    {
     "data": {
      "text/plain": [
       "0.8646647167633873"
      ]
     },
     "execution_count": 67,
     "metadata": {},
     "output_type": "execute_result"
    }
   ],
   "source": [
    "float(F3/F1)"
   ]
  },
  {
   "cell_type": "markdown",
   "id": "97e3d9c1",
   "metadata": {},
   "source": [
    "- **f)** Tính giá trị $P(X < Y)$ và $E(X|Y>1).$\n"
   ]
  },
  {
   "cell_type": "markdown",
   "id": "be8ca8c6",
   "metadata": {},
   "source": [
    "\\begin{align}\n",
    "\\nonumber P(X<Y)&=\\int_{0}^{+\\infty} \\int_{0}^{y} 6e^{-(2x+3y)} dx dy \\\\\n",
    "\\end{align}"
   ]
  },
  {
   "cell_type": "code",
   "execution_count": 73,
   "id": "d9613306",
   "metadata": {},
   "outputs": [
    {
     "data": {
      "text/latex": [
       "$\\displaystyle 6 e^{- 2 x - 3 y}$"
      ],
      "text/plain": [
       "6*exp(-2*x - 3*y)"
      ]
     },
     "execution_count": 73,
     "metadata": {},
     "output_type": "execute_result"
    }
   ],
   "source": [
    "f"
   ]
  },
  {
   "cell_type": "code",
   "execution_count": 69,
   "id": "0ac7e06a",
   "metadata": {
    "scrolled": true
   },
   "outputs": [
    {
     "data": {
      "text/latex": [
       "$\\displaystyle \\frac{2}{5}$"
      ],
      "text/plain": [
       "2/5"
      ]
     },
     "execution_count": 69,
     "metadata": {},
     "output_type": "execute_result"
    }
   ],
   "source": [
    "integrate(f, (x, 0, y), (y, 0, +oo))"
   ]
  },
  {
   "cell_type": "markdown",
   "id": "f52b82a0",
   "metadata": {},
   "source": [
    "$\\text{Vậy P(X<Y) = }\\frac{2}{5}$"
   ]
  },
  {
   "cell_type": "markdown",
   "id": "9e22268b",
   "metadata": {},
   "source": [
    "* $\\text{Tính P(X>Y)}$"
   ]
  },
  {
   "cell_type": "markdown",
   "id": "a3e1e9aa",
   "metadata": {},
   "source": [
    "\\begin{align}\n",
    "\\nonumber P(X>Y)&=\\int_{0}^{\\infty} \\int_{y}^{\\infty} 6e^{-(2x+3y)} dx dy \\\\\n",
    "\\nonumber &=\\int_{0}^{\\infty} 3e^{-5y} dy \\\\\n",
    "\\nonumber &=\\frac{3}{5}.\n",
    "\\end{align}"
   ]
  },
  {
   "cell_type": "code",
   "execution_count": 74,
   "id": "2e0373d0",
   "metadata": {},
   "outputs": [
    {
     "data": {
      "text/latex": [
       "$\\displaystyle \\frac{3}{5}$"
      ],
      "text/plain": [
       "3/5"
      ]
     },
     "execution_count": 74,
     "metadata": {},
     "output_type": "execute_result"
    }
   ],
   "source": [
    "integrate(f, (x, y, +oo), (y, 0, +oo))"
   ]
  },
  {
   "cell_type": "code",
   "execution_count": 83,
   "id": "11d9f765",
   "metadata": {},
   "outputs": [
    {
     "data": {
      "text/latex": [
       "$\\displaystyle \\frac{3}{5}$"
      ],
      "text/plain": [
       "3/5"
      ]
     },
     "execution_count": 83,
     "metadata": {},
     "output_type": "execute_result"
    }
   ],
   "source": [
    "integrate(f, (y,0, x), (x, 0, +oo))"
   ]
  },
  {
   "cell_type": "markdown",
   "id": "a9c617db",
   "metadata": {},
   "source": [
    "$\\text{Vì x và y độc lập nền E[X|Y>1] = E[X]}$"
   ]
  },
  {
   "cell_type": "code",
   "execution_count": 70,
   "id": "cba328c0",
   "metadata": {},
   "outputs": [
    {
     "data": {
      "text/latex": [
       "$\\displaystyle 2 e^{- 2 x}$"
      ],
      "text/plain": [
       "2*exp(-2*x)"
      ]
     },
     "execution_count": 70,
     "metadata": {},
     "output_type": "execute_result"
    }
   ],
   "source": [
    "tplx"
   ]
  },
  {
   "cell_type": "code",
   "execution_count": 71,
   "id": "8c0f6fc4",
   "metadata": {},
   "outputs": [
    {
     "data": {
      "text/latex": [
       "$\\displaystyle \\frac{1}{2}$"
      ],
      "text/plain": [
       "1/2"
      ]
     },
     "execution_count": 71,
     "metadata": {},
     "output_type": "execute_result"
    }
   ],
   "source": [
    "Ex = integrate(x*tplx,(x,0,+oo))\n",
    "Ex"
   ]
  },
  {
   "cell_type": "markdown",
   "id": "521b0a0f",
   "metadata": {},
   "source": [
    "$\\text{Vậy E[X|Y>1] = }\\frac{1}{2}$"
   ]
  },
  {
   "cell_type": "code",
   "execution_count": null,
   "id": "6dc6fa34",
   "metadata": {},
   "outputs": [],
   "source": []
  }
 ],
 "metadata": {
  "kernelspec": {
   "display_name": "Python 3 (ipykernel)",
   "language": "python",
   "name": "python3"
  },
  "language_info": {
   "codemirror_mode": {
    "name": "ipython",
    "version": 3
   },
   "file_extension": ".py",
   "mimetype": "text/x-python",
   "name": "python",
   "nbconvert_exporter": "python",
   "pygments_lexer": "ipython3",
   "version": "3.9.7"
  }
 },
 "nbformat": 4,
 "nbformat_minor": 5
}
