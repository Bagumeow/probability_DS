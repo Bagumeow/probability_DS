{
 "cells": [
  {
   "cell_type": "markdown",
   "id": "9ae044c1",
   "metadata": {},
   "source": [
    "# Bài tập ôn thi Cuối kỳ Xác suất trong Khoa học dữ liệu\n",
    "## Khoa CNTT - trường ĐH Công nghiệp TPHCM.\n",
    "### Thời gian làm bài: 120 phút, SV được dùng tài liệu."
   ]
  },
  {
   "cell_type": "markdown",
   "id": "ec621c6a",
   "metadata": {},
   "source": [
    "### Bài 1. (phân bố kết hợp rời rạc)\n",
    "Cho vector ngẫu nhiên liên tục $(X,Y)$ như bảng bên dưới. Hãy trả lời các câu hỏi sau"
   ]
  },
  {
   "cell_type": "markdown",
   "id": "b2fe4308",
   "metadata": {},
   "source": [
    "|X \\ Y     | 2    | 3      | \n",
    "|----------|------|--------|\n",
    "| 1        | 0.1  | 0.1    |\n",
    "| 2        | 0.25 | 0.05   |\n",
    "| 4        | 0.15 | 0.35   |"
   ]
  },
  {
   "cell_type": "markdown",
   "id": "5180a309",
   "metadata": {},
   "source": [
    "- **a)** Tính các phân phối lề theo từng biến. <br>\n",
    "- **b)** Tính xác suất có điều kiện $P(0.5 < X < 3.5)$, $P(Y = 2 | X = 1)$ và $P(X \\le 2 | Y \\ge 1).$ <br>\n",
    "- **c)** Tìm bảng phân bố xác suất của $Z = X-Y.$\n",
    "- **d)** Tính kỳ vọng $E(X), E(Y), E(XY).$\n",
    "- **e)** Tính $cov(X,Y)$ và hệ số tương quan giữa $X,Y$. Từ đó cho biết $X,Y$ có độc lập không? <br>\n",
    "- **f)** Tính kỳ vọng có điều kiện $E(X|Y=3)$ và $E(Y|X=4)$. <br>"
   ]
  },
  {
   "cell_type": "markdown",
   "id": "4e105e1e",
   "metadata": {},
   "source": [
    "### Bài 2. (phân bố chuẩn)\n",
    "Cân nặng của sinh viên trong lớp là đại lượng ngẫu nhiên có phân bố chuẩn với kỳ vọng $60kg$ và độ lệch chuẩn $15kg$. <br>\n",
    "- **a)** Hãy sinh ra một bảng dữ liệu của $X$ với kích thước $100.$ \n",
    "- **b)** Dùng thư viện thích hợp, trực quan dữ liệu trên. <br>\n",
    "- **b)** Tính xác suất để sinh viên được chọn trong lớp nặng hơn $70kg$, xác suất để nhẹ hơn $40kg$. <br>\n",
    "- **c)** Tìm $a$ sao cho xác suất để cân nặng của sinh viên không vượt quá $a$ thì bằng $0.75.$"
   ]
  },
  {
   "cell_type": "markdown",
   "id": "064626cd",
   "metadata": {},
   "source": [
    "### Bài 3. (xấp xỉ phân bố bằng luật số lớn, định lý giới hạn trung tâm)\n",
    "- **a)** Xí nghiệp sản xuất máy tính có xác suất làm ra phế phẩm là $0.02$. Chọn ngẫu nhiên $250$ máy tính để kiểm tra. Hãy dùng xấp xỉ thành phân phối Poisson, tính xác suất để có không quá 3 máy phế phẩm.\n",
    "- **b)** Khu nhà có $160$ hộ gia đình. Xác suất để mỗi hộ có sự cố về điện vào mỗi buổi tối là $0.02.$ Hãy dùng xấp xỉ thành phân phối Poisson, tính xác sất để trong một buổi tối số gia đình gặp sự cố về điện là từ $2$ đến $5.$\n",
    "- **c)** Gieo một con xúc sắc có các mặt là $(1,1,3,4,5,7)$ đồng chất, tổng cộng $50$ lần. Tính xác suất để **tổng** số nút thu được là không vượt quá $200$? Là lớn hơn $120?$\n",
    "- **d)** Trong khu phố có: $180$ hộ dân có $2$ người có lượng nước sinh hoạt là đại lượng ngẫu nhiên có trung bình $0.6m^3$, độ lệch chuẩn $0.04m^3$ và $50$ hộ có hơn $2$ người có lượng nước sinh hoạt là đại lượng ngẫu nhiên có trung bình $1.9m^3$, độ lệch chuẩn $0.14m^3$. Tính xác suất để trong một ngày, khu phố đó dùng **tổng cộng** hơn $205m^3$ nước, cho biết tính chất của kỳ vọng và phương sai tổng hai biến ngẫu nhiên độc lập $$E(X+Y) = E(X)+E(Y) \\text{ và } Var(X+Y) = Var(X)+Var(Y).$$"
   ]
  },
  {
   "cell_type": "markdown",
   "id": "f6c12366",
   "metadata": {},
   "source": [
    "### Bài 4. (biến ngẫu nhiên liên tục)\n",
    "Cho biến ngẫu nhiên liên tục $X$ có hàm phân bố xác suất PMF sau đây\n",
    "$$f_X(x)=\\left\\{ \\begin{aligned}\n",
    "  & k(x^2-4x) , \\text{ khi } 1 \\le x \\le 4 \\\\ \n",
    " & 0, \\text{ khác}. \\\\ \n",
    "\\end{aligned} \\right..$$\n",
    "- **a)** Tìm $k$.\n",
    "- **b)** Tìm hàm phân bố tích lũy CDF của $X$.\n",
    "- **c)** Tính $E(X)$, $E(X^4)$ và $Std(X).$\n",
    "- **d)** Tính $Var(\\frac{2}{X}+3).$\n",
    "- **e)** Tính $P(X \\ge 1)$ và $P(X \\ge 2 | X \\le 3).$\n",
    "- **f)** Tính $mode(X)$ và $median(X).$"
   ]
  },
  {
   "cell_type": "markdown",
   "id": "aa74372e",
   "metadata": {},
   "source": [
    "### Bài 5. (phân phối kết hợp liên tục)\n",
    "Cho vector ngẫu nhiên $(X,Y)$ có hàm mật độ sau \n",
    "$$f(x,y)=\\left\\{ \\begin{aligned}\n",
    "  & C \\cdot e^{-2x-3y} \\text{  khi  } x, y \\ge 0 \\\\ \n",
    " & 0\\text{ otherwise} \\\\ \n",
    "\\end{aligned} \\right.$$\n",
    "- **a)** Xác định $C$.\n",
    "- **b)** Tìm hàm mật độ lề $f_X(x), f_Y(y).$ Từ đó kiểm tra tính độc lập của $X,Y.$\n",
    "- **c)** Viết biểu thức cho các xác suất có điều kiện $f_{X|Y=2},$ $f_{Y|X = 3}.$\n",
    "- **d)** Hãy viết biểu thức cho hàm phân phối tích lũy $F(x,y).$\n",
    "- **e)** Tính các giá trị $P(-2 < Y < 2)$ và $P(-2 < X < 1| -2 < Y < 2).$\n",
    "- **f)** Tính giá trị $P(X < Y)$ và $E(X|Y>1).$"
   ]
  }
 ],
 "metadata": {
  "kernelspec": {
   "display_name": "Python 3",
   "language": "python",
   "name": "python3"
  },
  "language_info": {
   "codemirror_mode": {
    "name": "ipython",
    "version": 3
   },
   "file_extension": ".py",
   "mimetype": "text/x-python",
   "name": "python",
   "nbconvert_exporter": "python",
   "pygments_lexer": "ipython3",
   "version": "3.8.8"
  }
 },
 "nbformat": 4,
 "nbformat_minor": 5
}
