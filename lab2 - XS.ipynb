{
 "cells": [
  {
   "cell_type": "code",
   "execution_count": 46,
   "id": "7c8a0b12",
   "metadata": {},
   "outputs": [
    {
     "data": {
      "text/html": [
       "<style>.container { width:95% !important; }</style>"
      ],
      "text/plain": [
       "<IPython.core.display.HTML object>"
      ]
     },
     "metadata": {},
     "output_type": "display_data"
    }
   ],
   "source": [
    "from IPython.core.display import display, HTML\n",
    "display(HTML(\"<style>.container { width:95% !important; }</style>\"))"
   ]
  },
  {
   "cell_type": "markdown",
   "id": "9ae044c1",
   "metadata": {},
   "source": [
    "# LAB 2. ÔN TẬP VIỆC DÙNG CÁC THƯ VIỆN\n",
    "### Xác suất cho Khoa học dữ liệu. Ngày 09/03/2022."
   ]
  },
  {
   "cell_type": "markdown",
   "id": "ec621c6a",
   "metadata": {},
   "source": [
    "## 1. CÔNG THỨC CƠ BẢN"
   ]
  },
  {
   "cell_type": "code",
   "execution_count": 21,
   "id": "517db055",
   "metadata": {},
   "outputs": [],
   "source": [
    "from scipy import *\n",
    "import numpy as np"
   ]
  },
  {
   "cell_type": "code",
   "execution_count": 1,
   "id": "0b390b83",
   "metadata": {},
   "outputs": [
    {
     "data": {
      "text/plain": [
       "720"
      ]
     },
     "execution_count": 1,
     "metadata": {},
     "output_type": "execute_result"
    }
   ],
   "source": [
    "import math\n",
    "math.factorial(6) #tính giai thừa"
   ]
  },
  {
   "cell_type": "code",
   "execution_count": 8,
   "id": "95d0539b",
   "metadata": {
    "scrolled": true
   },
   "outputs": [
    {
     "data": {
      "text/plain": [
       "535983370403809682970"
      ]
     },
     "execution_count": 8,
     "metadata": {},
     "output_type": "execute_result"
    }
   ],
   "source": [
    "from scipy import special\n",
    "special.binom(5, 4) # tính tổ hợp chập k của n\n",
    "special.comb(5, 4)  # vẫn là tính tổ hợp chập k của n\n",
    "special.comb(100, 20, exact=True) # làm tròn"
   ]
  },
  {
   "cell_type": "code",
   "execution_count": 6,
   "id": "373b59ff",
   "metadata": {},
   "outputs": [],
   "source": [
    "def combination(n,k):\n",
    "    return math.factorial(n)/(math.factorial(k)*math.factorial(n-k))"
   ]
  },
  {
   "cell_type": "code",
   "execution_count": 9,
   "id": "c246af87",
   "metadata": {},
   "outputs": [
    {
     "data": {
      "text/plain": [
       "5.3598337040380966e+20"
      ]
     },
     "execution_count": 9,
     "metadata": {},
     "output_type": "execute_result"
    }
   ],
   "source": [
    "combination(100,20)"
   ]
  },
  {
   "cell_type": "code",
   "execution_count": 10,
   "id": "b4f08593",
   "metadata": {},
   "outputs": [
    {
     "data": {
      "text/plain": [
       "535983370403809682970"
      ]
     },
     "execution_count": 10,
     "metadata": {},
     "output_type": "execute_result"
    }
   ],
   "source": [
    "math.comb(100,20)"
   ]
  },
  {
   "cell_type": "markdown",
   "id": "0cc56c34",
   "metadata": {},
   "source": [
    "**Yêu cầu:**\n",
    "Hãy nhớ lại công thức tính $C(n,k)$ theo $n!, k!$ và viết đoạn code tính $C(100,20)$ theo 2 cách."
   ]
  },
  {
   "cell_type": "markdown",
   "id": "4e105e1e",
   "metadata": {},
   "source": [
    "## 2. CÁC THƯ VIỆN CHO PHÂN PHỐI"
   ]
  },
  {
   "cell_type": "markdown",
   "id": "4c8c50e8",
   "metadata": {},
   "source": [
    "**Yêu cầu:** Cho các đoạn code bên dưới của thư viện spipy dùng cho các phân phối đã biết. Hãy chạy từng dòng code và ghi chú lại ý nghĩa của từng hàm."
   ]
  },
  {
   "cell_type": "markdown",
   "id": "9cc91ce2",
   "metadata": {},
   "source": [
    "* **Phân phối nhị thức**<br>\n",
    "$$P(X=x)=C^x_np^x(1-p)^{n-x}$$"
   ]
  },
  {
   "cell_type": "code",
   "execution_count": 2,
   "id": "e8e8830b",
   "metadata": {},
   "outputs": [
    {
     "name": "stdout",
     "output_type": "stream",
     "text": [
      "0.20132659199999992\n",
      "0.9672065024\n",
      "2.0\n",
      "1.6\n",
      "1.2649110640673518\n",
      "3\n",
      "[1 2 2 2 2 1 0 3 2 2]\n"
     ]
    }
   ],
   "source": [
    "from scipy import stats #phân phối nhị thức\n",
    "X = stats.binom(10, 0.2) # Khai báo X là một phân phối nhị thức có n=10 và p=0.2 input=(n,p)\n",
    "#Hãy chạy từng đoạn code bên dưới và cho biết ý nghĩa từng hàm\n",
    "print(X.pmf(3))           # P(X = 3) \n",
    "print(X.cdf(4))           # P(X <= 4) \n",
    "print(X.mean())           # E[X] n*p\n",
    "print(X.var())            # Var(X) n*p*(1-p)\n",
    "print(X.std())            # Std(X) sqrt(Var[X])\n",
    "print(X.rvs())            # Get 1 random sample from X\n",
    "print(X.rvs(10))          # Get 10 random samples form X"
   ]
  },
  {
   "cell_type": "markdown",
   "id": "d0e0a76a",
   "metadata": {},
   "source": [
    "* **Phân phối poisson** \n",
    "$$P(X=x)=e^{-\\lambda}\\frac{\\lambda^x}{x!}$$"
   ]
  },
  {
   "cell_type": "code",
   "execution_count": 17,
   "id": "aa0e1e95",
   "metadata": {
    "scrolled": true
   },
   "outputs": [
    {
     "name": "stdout",
     "output_type": "stream",
     "text": [
      "0.18044704431548356\n",
      "0.9473469826562889\n",
      "2.0\n",
      "2.0\n",
      "1.4142135623730951\n",
      "3\n",
      "[3 1 4 2 2 2 4 5 1 1]\n"
     ]
    }
   ],
   "source": [
    "from scipy import stats #phân phối poisson \n",
    "Y = stats.poisson(2) # Declare Y to be a poisson random variable input=lambda\n",
    "print(Y.pmf(3))           # P(X = 3) \n",
    "print(Y.cdf(4))           # P(X <= 4) \n",
    "print(Y.mean())           # E[X] = lambda\n",
    "print(Y.var())            # Var(X) lambda\n",
    "print(Y.std())            # Std(X) sqrt(Var[X])\n",
    "print(Y.rvs())            # Get 1 random sample from X\n",
    "print(Y.rvs(10))          # Get 10 random samples form X        # Get a random sample from Y"
   ]
  },
  {
   "cell_type": "markdown",
   "id": "bf65e182",
   "metadata": {},
   "source": [
    "* **Phân phối hình học**\n",
    "$$P(X=x)=(1-p)^{x-1}p$$"
   ]
  },
  {
   "cell_type": "code",
   "execution_count": 133,
   "id": "eda4b29c",
   "metadata": {},
   "outputs": [
    {
     "name": "stdout",
     "output_type": "stream",
     "text": [
      "0.046875\n",
      "0.99609375\n",
      "1.3333333333333333\n",
      "0.4444444444444444\n",
      "0.6666666666666666\n",
      "1\n",
      "[1 1 2 2 1 2 1 2 2 3]\n"
     ]
    }
   ],
   "source": [
    "from scipy import stats #phân phối hình học\n",
    "Z = stats.geom(0.75) # Declare Z to be a geometric random variable input= p\n",
    "print(Z.pmf(3))           # P(X = 3) \n",
    "print(Z.cdf(4))           # P(X <= 4) \n",
    "print(Z.mean())           # E[X] 1/p\n",
    "print(Z.var())            # Var(X) (1-p)/p*p\n",
    "print(Z.std())            # Std(X) sqrt(Var[X])\n",
    "print(Z.rvs())            # Get 1 random sample from X\n",
    "print(Z.rvs(10))          # Get 10 random samples form X"
   ]
  },
  {
   "cell_type": "markdown",
   "id": "5a77ad02",
   "metadata": {},
   "source": [
    "## 3. BÀI TOÁN SIMULATION ĐƠN GIẢN"
   ]
  },
  {
   "cell_type": "markdown",
   "id": "0a20feca",
   "metadata": {},
   "source": [
    "Hãy đọc hiểu code bên dưới về việc tung một đồng xu đồng chất nhiều lần và tính kỳ vọng số mặt sấp - ngửa."
   ]
  },
  {
   "cell_type": "code",
   "execution_count": 84,
   "id": "4e703101",
   "metadata": {},
   "outputs": [
    {
     "data": {
      "text/plain": [
       "0.5036"
      ]
     },
     "execution_count": 84,
     "metadata": {},
     "output_type": "execute_result"
    }
   ],
   "source": [
    "import random\n",
    "def coin_trial():\n",
    "    return random.random() <= 0.5\n",
    "def simulate(n):\n",
    "    trials = []\n",
    "    for i in range(n):\n",
    "        trials.append(coin_trial())\n",
    "    return(np.sum(trials)/n)\n",
    "simulate(10000)"
   ]
  },
  {
   "cell_type": "markdown",
   "id": "861a3950",
   "metadata": {},
   "source": [
    "**Yêu cầu:**\n",
    "1) Hãy viết lại đoạn code khi thêm tham số p là xác suất để thu được mặt sấp (ở trên mặc định p = 0.5). <br>\n",
    "2) Viết lại đoạn code tính kỳ vọng tung xúc sắc 6 mặt."
   ]
  },
  {
   "cell_type": "code",
   "execution_count": 41,
   "id": "d4d20c44",
   "metadata": {},
   "outputs": [
    {
     "data": {
      "text/plain": [
       "0.445"
      ]
     },
     "execution_count": 41,
     "metadata": {},
     "output_type": "execute_result"
    }
   ],
   "source": [
    "#Yeu cau 1\n",
    "import random\n",
    "def coin_trial(p):\n",
    "    return random.random() <= p\n",
    "def simulate(n,p):\n",
    "    trials = []\n",
    "    for i in range(n):\n",
    "        trials.append(coin_trial(p))\n",
    "    return(np.sum(trials)/n)\n",
    "simulate(10000,0.45)"
   ]
  },
  {
   "cell_type": "code",
   "execution_count": 44,
   "id": "fbe334b1",
   "metadata": {},
   "outputs": [
    {
     "data": {
      "text/plain": [
       "3.519"
      ]
     },
     "execution_count": 44,
     "metadata": {},
     "output_type": "execute_result"
    }
   ],
   "source": [
    "def dice_trial():  # BÀI 2\n",
    "    return random.randint(1,6)\n",
    "def simulate_2(n):\n",
    "    trials = []\n",
    "    for i in range(n):\n",
    "        trials.append(dice_trial())\n",
    "    #return trials\n",
    "    return np.sum(trials) / n\n",
    "simulate_2(1000)"
   ]
  },
  {
   "cell_type": "markdown",
   "id": "57583896",
   "metadata": {},
   "source": [
    "## 4. VẼ ĐỒ THỊ VÀ CÁC SƠ ĐỒ ĐOẠN THẲNG"
   ]
  },
  {
   "cell_type": "code",
   "execution_count": 1,
   "id": "027e3780",
   "metadata": {},
   "outputs": [
    {
     "data": {
      "image/png": "[encoded data removed]",
      "text/plain": [
       "<Figure size 432x288 with 1 Axes>"
      ]
     },
     "metadata": {
      "needs_background": "light"
     },
     "output_type": "display_data"
    }
   ],
   "source": [
    "import numpy as np\n",
    "import matplotlib.pyplot as plt\n",
    "x = np.arange(0, 3*np.pi, 0.1)\n",
    "y = np.cos(x)\n",
    "plt.xlabel('x axis label')\n",
    "plt.ylabel('y axis label')\n",
    "plt.title('Cos graph')\n",
    "plt.plot(x, y, label='cos')\n",
    "plt.legend();"
   ]
  },
  {
   "cell_type": "markdown",
   "id": "36661fac",
   "metadata": {},
   "source": [
    "**Yêu cầu.** Hãy đọc cách vẽ đồ thị trên và thử thay đổi giá trị của các biến trong dòng $x=np.arange(?, ?, ?)$ để hiểu ý nghĩa của từng tham số. Từ đó, hãy tự code tiếp:\n",
    "1. Vẽ đồ thị của hàm số $y = x^3-2x-3$ trên miền $[-1;3]$, bước nhảy là $0.05.$\n",
    "2. Vẽ đồ thị của ba hàm số $y=sinx, y=1/x, y=x^2$ trên cùng một hệ trục tọa độ (khoảng giá trị và bước nhảy tùy chọn).\n",
    "3. Vẽ giá trị của hàm $simulate(n)$ ở trên với n trong miền từ $[1;1000].$"
   ]
  },
  {
   "cell_type": "code",
   "execution_count": 116,
   "id": "f6948131",
   "metadata": {
    "scrolled": true
   },
   "outputs": [
    {
     "data": {
      "text/plain": [
       "<matplotlib.legend.Legend at 0x2dddf8dadf0>"
      ]
     },
     "execution_count": 116,
     "metadata": {},
     "output_type": "execute_result"
    },
    {
     "data": {
      "image/png": "[encoded data removed]",
      "text/plain": [
       "<Figure size 432x288 with 1 Axes>"
      ]
     },
     "metadata": {
      "needs_background": "light"
     },
     "output_type": "display_data"
    }
   ],
   "source": [
    "x = np.arange(-1, 3,0.0001)\n",
    "y = pow(x,3)-2*x-3\n",
    "plt.xlabel('x axis label')\n",
    "plt.ylabel('y axis label')\n",
    "plt.title('cube')\n",
    "plt.plot(x, y, label='cube', color = 'red')\n",
    "plt.legend()"
   ]
  },
  {
   "cell_type": "code",
   "execution_count": 127,
   "id": "2917db20",
   "metadata": {},
   "outputs": [
    {
     "data": {
      "text/plain": [
       "<matplotlib.legend.Legend at 0x2dde13166a0>"
      ]
     },
     "execution_count": 127,
     "metadata": {},
     "output_type": "execute_result"
    },
    {
     "data": {
      "image/png": "[encoded data removed]",
      "text/plain": [
       "<Figure size 432x288 with 1 Axes>"
      ]
     },
     "metadata": {
      "needs_background": "light"
     },
     "output_type": "display_data"
    }
   ],
   "source": [
    "x= np.arange(1,5,0.05)\n",
    "y1= np.sin(x)\n",
    "y2= 1/x\n",
    "y3 = x*x\n",
    "plt.xlabel('x axis label')\n",
    "plt.ylabel('y axis label')\n",
    "plt.title('Three grap')\n",
    "plt.plot(x,y1, label='sin', color ='red')\n",
    "plt.plot(x,y2, label='frac', color ='green')\n",
    "plt.plot(x,y3, label ='square',color = 'blue')\n",
    "plt.legend()"
   ]
  },
  {
   "cell_type": "code",
   "execution_count": 112,
   "id": "5a11c5f0",
   "metadata": {},
   "outputs": [
    {
     "data": {
      "image/png": "[encoded data removed]",
      "text/plain": [
       "<Figure size 432x288 with 1 Axes>"
      ]
     },
     "metadata": {
      "needs_background": "light"
     },
     "output_type": "display_data"
    }
   ],
   "source": [
    "result = []\n",
    "for i in range(1,100):\n",
    "    result.append(simulate(i))\n",
    "x = np.arange(1,100)\n",
    "plt.plot(x, result,color='green')\n",
    "plt.show()"
   ]
  },
  {
   "cell_type": "markdown",
   "id": "fd4234f0",
   "metadata": {},
   "source": [
    "## 5. GIỚI THIỆU VỀ BIẾN NGẪU NHIÊN LIÊN TỤC"
   ]
  },
  {
   "cell_type": "markdown",
   "id": "09c16b5b",
   "metadata": {},
   "source": [
    "Trên thực tế, ta thường gặp các đại lượng ngẫu nhiên nhận giá trị trong một phạm vi nào đó và nó lấp đầy một khoảng hoặc toàn bộ trục số. Khi đó, với mọi số thực $a$, ta đều có $P(X=a)=0.$ <br>\n",
    "*VD: lượng mưa vào tháng này là một đại lượng ngẫu nhiên liên tục trên miền $(0;+\\infty)$, trọng lượng của một đứa trẻ sơ sinh,...*"
   ]
  },
  {
   "cell_type": "markdown",
   "id": "c5856ca3",
   "metadata": {},
   "source": [
    "Hàm số $f(x)$ xác định trên $\\mathbb{R}$ được gọi là hàm mật độ của đại lượng ngẫu nhiên liên tục $X$ nếu như $f(x) \\ge 0, \\forall x \\in \\mathbb{R}$, đồng thời $$P(a < X < b) = \\int_{a}^{b} f(x)dx \\text{ và } \\int_{-\\infty}^{+\\infty} f(x)dx = 1.$$"
   ]
  },
  {
   "cell_type": "markdown",
   "id": "11e8e8d2",
   "metadata": {},
   "source": [
    "**Ví dụ.** Tuổi thọ của một loài côn trùng (đơn vị tháng) là một đại lượng ngẫu nhiên liên tục $X$ có hàm mật độ $f(x)$ là \n",
    "$$f(x)=\\left\\{ \\begin{align}\n",
    "  & k{{x}^{2}}(4-x),\\text{   }0 \\le x \\le 4 \\\\ \n",
    " & 0,\\text{                 }x > 4 \\vee x < 0 \\\\ \n",
    "\\end{align} \\right..$$\n",
    "1. Tìm $k$ và vẽ đồ thị của $f(x).$\n",
    "2. Tính xác suất để tuổi thọ của côn trùng trong khoảng $2$ đến $3$ tháng.\n",
    "3. Tìm $mod(X).$"
   ]
  },
  {
   "cell_type": "markdown",
   "id": "5929b315",
   "metadata": {},
   "source": [
    "Tính tích phân của $f(x)$ từ $-\\infty$ đến $+\\infty$, theo tham số k => cho tích phân bằng 1 => tìm k.<br>\n",
    "Với k đó, ta vẽ đồ thị => 3 nhánh: $(-\\infty; 0)$ và $(0;4)$ và $(4;+\\infty)$"
   ]
  },
  {
   "cell_type": "markdown",
   "id": "c7542767",
   "metadata": {},
   "source": [
    "*Ta có* $$\\begin{align}\n",
    "  & \\int_{-\\infty }^{+\\infty }{f(x)dx}=\\int_{-\\infty }^{0}{f(x)dx}+\\int_{0}^{4}{f(x)dx}+\\int_{4}^{+\\infty }{f(x)dx} \\\\ \n",
    " & =0+\\int_{0}^{4}k{{{x}^{2}}(4-x)dx}+0 = k \\int_{0}^{4}{{{x}^{2}}(4-x)dx}.\\\\ \n",
    "\\end{align}$$"
   ]
  },
  {
   "cell_type": "markdown",
   "id": "c08e1099",
   "metadata": {},
   "source": [
    "Ta tính tích phân bằng thư viện Sympy như bên dưới:"
   ]
  },
  {
   "cell_type": "code",
   "execution_count": 94,
   "id": "89d62b95",
   "metadata": {},
   "outputs": [
    {
     "data": {
      "text/latex": [
       "$\\displaystyle \\frac{64}{3}$"
      ],
      "text/plain": [
       "64/3"
      ]
     },
     "execution_count": 94,
     "metadata": {},
     "output_type": "execute_result"
    }
   ],
   "source": [
    "import sympy as sym\n",
    "x = sym.symbols('x')\n",
    "sym.integrate(x*x*(4-x), (x, 0, 4))"
   ]
  },
  {
   "cell_type": "markdown",
   "id": "0b9230bc",
   "metadata": {},
   "source": [
    "Do đây là hàm phân bố xác suất nên phải có :\n",
    "$$\\frac{64k}{3}=1\\Leftrightarrow k=\\frac{3}{64}.$$"
   ]
  },
  {
   "cell_type": "markdown",
   "id": "81ff60d0",
   "metadata": {},
   "source": [
    "Ta có đồ thị như sau"
   ]
  },
  {
   "cell_type": "code",
   "execution_count": 126,
   "id": "8668e97f",
   "metadata": {},
   "outputs": [
    {
     "data": {
      "image/png": "[encoded data removed]",
      "text/plain": [
       "<Figure size 432x288 with 1 Axes>"
      ]
     },
     "metadata": {
      "needs_background": "light"
     },
     "output_type": "display_data"
    }
   ],
   "source": [
    "import matplotlib.pyplot as plt\n",
    "x1 = np.linspace(-5,0,100)\n",
    "x2 = np.linspace(0,4,107)\n",
    "x3 = np.linspace(4,6,100)\n",
    "y1 = 0*x1\n",
    "y2 = 3/64*x2*x2*(4-x2)\n",
    "y3 = 0*x3\n",
    "plt.xlabel('x axis')\n",
    "plt.ylabel('y axis')\n",
    "plt.title('Graph')\n",
    "plt.plot(x1, y1)\n",
    "plt.plot(x2, y2)\n",
    "plt.plot(x3, y3)\n",
    "plt.show()"
   ]
  },
  {
   "cell_type": "markdown",
   "id": "f56c14b6",
   "metadata": {},
   "source": [
    "Để tìm *mod* ta xét :\n",
    "$${f}'(x)={{\\left( \\frac{3}{64}{{x}^{2}}(4-x) \\right)}^{\\prime }}=\\frac{3}{64}(8x-3{{x}^{2}})$$"
   ]
  },
  {
   "cell_type": "markdown",
   "id": "e892797d",
   "metadata": {},
   "source": [
    "$$f'(x)=0$$"
   ]
  },
  {
   "cell_type": "code",
   "execution_count": 103,
   "id": "14cc9b11",
   "metadata": {},
   "outputs": [
    {
     "data": {
      "text/plain": [
       "[(0.0,), (2.66666666666667,)]"
      ]
     },
     "execution_count": 103,
     "metadata": {},
     "output_type": "execute_result"
    }
   ],
   "source": [
    "x = sym.Symbol('x')\n",
    "sym.solve([(3/64)*(8*x-3*pow(x,2))],[x])"
   ]
  },
  {
   "cell_type": "markdown",
   "id": "08dfcb3b",
   "metadata": {},
   "source": [
    "$${f}'(x)=0\\Leftrightarrow x_1=0,x_2=\\frac{8}{3}.$$\n"
   ]
  },
  {
   "cell_type": "markdown",
   "id": "33d9f916",
   "metadata": {},
   "source": [
    "Ta có : $${{f}''}(x)=\\frac{3}{64}(8-6x)$$"
   ]
  },
  {
   "cell_type": "markdown",
   "id": "7b6202e3",
   "metadata": {},
   "source": [
    "có đạo hàm cấp hai  ${{f}''}\\left( \\frac{8}{3} \\right)<0$ nên $f(x)$ đạt giá trị lớn nhất tại $x=\\frac{8}{3}$ , điều này chứng tỏ $mod=8/3$."
   ]
  },
  {
   "cell_type": "code",
   "execution_count": null,
   "id": "570b5c92",
   "metadata": {},
   "outputs": [],
   "source": []
  }
 ],
 "metadata": {
  "kernelspec": {
   "display_name": "Python 3 (ipykernel)",
   "language": "python",
   "name": "python3"
  },
  "language_info": {
   "codemirror_mode": {
    "name": "ipython",
    "version": 3
   },
   "file_extension": ".py",
   "mimetype": "text/x-python",
   "name": "python",
   "nbconvert_exporter": "python",
   "pygments_lexer": "ipython3",
   "version": "3.9.7"
  }
 },
 "nbformat": 4,
 "nbformat_minor": 5
}
