{
 "cells": [
  {
   "cell_type": "markdown",
   "id": "5e303550",
   "metadata": {},
   "source": [
    "# LAB 4. BIẾN NGẪU NHIÊN LIÊN TỤC (tiếp)\n",
    "### Xác suất cho Khoa học dữ liệu. Ngày 13/04/2022."
   ]
  },
  {
   "cell_type": "markdown",
   "id": "33272e07",
   "metadata": {},
   "source": [
    "## 1. PHÂN BỐ CHUẨN (GAUSS)."
   ]
  },
  {
   "attachments": {
    "Capture.PNG": {
     "image/png": "[encoded data removed]"
    }
   },
   "cell_type": "markdown",
   "id": "1d5caaf0",
   "metadata": {},
   "source": [
    "Đại lượng ngẫu nhiên $Z$ có phân bố chuẩn tắc (standard normal distribution) nếu hàm mật độ xác suất của nó là $$f(x) = \\frac{1}{\\sqrt{2 \\pi}} e^{-\\frac{x^2}{2}}.$$\n",
    "Đồ thị của nó có dạng hình chuông, đối xứng qua trục tung và đạt cực đại tại $x=0$ như bên dưới\n",
    "![Capture.PNG](attachment:Capture.PNG)\n",
    "Ta chứng minh được kỳ vọng, mod và median của $Z$ đều là $0$, còn phương sai là $1$. Đây là một phân bố đẹp, mang tính tổng quát cho nhiều tình huống trong thực tế. Nó còn giúp ta xấp xỉ được nhiều phân phối khác. <br>\n",
    "Bên cạnh đó, nếu ký hiệu $\\Phi (x)$ là hàm phân bố xác suất của $f(x)$, cũng chính là nguyên hàm của $\\Phi(x)$ thì hàm này có tính chất là $$\\Phi (-x) = 1 - \\Phi (x).$$\n",
    "Tuy nhiên, ta không biểu diễn được biểu thức tường minh của hàm này mà thông thường, ta phải tra bảng công thức. "
   ]
  },
  {
   "cell_type": "markdown",
   "id": "daab5af0",
   "metadata": {},
   "source": [
    "Phân bố chuẩn (normal distribution): đại lượng ngẫu nhiên $X$ có phân bố chuẩn với tham số kỳ vọng, phương sai lần lượt là $\\mu$ và $\\sigma^2 > 0$ nếu đại lượng tương ứng $Z = \\frac{X - \\mu}{\\sigma}$ là một phân bố chuẩn tắc. Ký hiệu là $X \\sim N(\\mu, \\sigma^2).$ "
   ]
  },
  {
   "cell_type": "code",
   "execution_count": 62,
   "id": "8aa53983",
   "metadata": {},
   "outputs": [
    {
     "data": {
      "text/plain": [
       "array([[-0.43995552,  0.9586679 ,  1.3914133 ,  1.26987577],\n",
       "       [-0.19453589,  0.87441223, -0.99935411, -0.02749655],\n",
       "       [-1.02405903, -1.24882787,  0.004034  ,  1.60793383]])"
      ]
     },
     "execution_count": 62,
     "metadata": {},
     "output_type": "execute_result"
    }
   ],
   "source": [
    "#Sinh ngẫu nhiên một phân phối chuẩn, trong đó loc = kỳ vọng, scale = độ lệch chuẩn, size = shape của dữ liệu muốn sinh ra\n",
    "a =random.normal(loc=0, scale=1.0, size= (3,4))\n",
    "a"
   ]
  },
  {
   "cell_type": "code",
   "execution_count": 1,
   "id": "d3ce7f04",
   "metadata": {},
   "outputs": [
    {
     "data": {
      "image/png": "[encoded data removed]",
      "text/plain": [
       "<Figure size 576x396 with 1 Axes>"
      ]
     },
     "metadata": {},
     "output_type": "display_data"
    }
   ],
   "source": [
    "#Dưới đây là code để trực quan một dữ liệu sinh ngẫu nhiên theo phân phối chuẩn tắc\n",
    "import numpy as np\n",
    "from numpy import random\n",
    "import matplotlib.pyplot as plt\n",
    "plt.style.use('seaborn')\n",
    "import seaborn as sns\n",
    "a = random.normal(size=100)\n",
    "sns.histplot(a, color=\"blue\", kde=True, stat=\"density\", linewidth=0);\n"
   ]
  },
  {
   "cell_type": "code",
   "execution_count": 6,
   "id": "27cd8f29",
   "metadata": {},
   "outputs": [
    {
     "name": "stdout",
     "output_type": "stream",
     "text": [
      "Given x, find y = P(X <= x)\n",
      "0.9494974165258963\n",
      "Given y, find x such that P(X <= x) = y\n",
      "1.6448536269514722\n",
      "Given x, find y = P(X > x)\n",
      "0.05050258347410371\n",
      "Given y, find x such that P(X > x) = y\n",
      "-1.6448536269514722\n",
      "Given x, find y = P(X = x)\n",
      "0.36052696246164795\n"
     ]
    }
   ],
   "source": [
    "#Để tính toán xác suất liên quan đến phân phối chuẩn, ta dùng thư viện scipy như sau\n",
    "import scipy.stats as st\n",
    "print(\"Given x, find y = P(X <= x)\")\n",
    "print(st.norm.cdf(1.64))\n",
    "print(\"Given y, find x such that P(X <= x) = y\")\n",
    "print(st.norm.ppf(.95))\n",
    "print(\"Given x, find y = P(X > x)\")\n",
    "print(st.norm.sf(1.64))\n",
    "print(\"Given y, find x such that P(X > x) = y\")\n",
    "print(st.norm.isf(.95))\n",
    "print(\"Given x, find y = P(X = x)\")\n",
    "print(st.norm.pdf(0.45))"
   ]
  },
  {
   "cell_type": "markdown",
   "id": "4190c0dc",
   "metadata": {},
   "source": [
    "**Yêu cầu:** (thực hiện trong 1.5 tiết) <br>\n",
    "*Từ các nội dung trên, hãy thực hiện các yêu cầu sau:* <br>\n",
    "1. Giả sử $X$ là đại lượng ngẫu nhiên có phân bố chuẩn với kỳ vọng là $\\mu = 2100$ và độ lệch chuẩn $\\sigma = 200$. <br>\n",
    "a) Hãy sinh ra dãy dữ liệu của $X$ với kích thước $100.$ <br>\n",
    "b) Hãy dùng thư viện Seaborn, trực quan dữ liệu trên. <br>\n",
    "c) Tính $P(X > 2400), P(1700 < X < 2200)$. <br>\n",
    "d) Xác định $a, b$ sao cho $P(X <= a) = 0.56$ và $P(X > b) = 0.03$. <br>\n",
    "<br>\n",
    "2. Trọng lượng một con bò được nuôi trong trang trại là đại lượng ngẫu nhiên có phân bố chuẩn với kỳ vọng $250kg$ và độ lệch chuẩn $40kg$. <br>\n",
    "a) Hãy sinh ra một bảng dữ liệu của $X$ với kích thước $10 \\times 10.$ <br>\n",
    "b) Hãy dùng thư viện Seaborn, trực quan dữ liệu trên. <br>\n",
    "c) Tính xác suất để con bò nặng hơn $300kg$, nhẹ hơn $150kg$. <br>\n",
    "d) Tính xác suất để khối lượng con bò trong khoảng $(250,270)kg.$ <br>\n",
    "<br>\n",
    "3. Thời gian từ nhà đi đến trường trong học kỳ vừa rồi của sinh viên Bình là một đại lượng ngẫu nhiên $X$ có phân bố chuẩn. Biết rằng $65\\%$ số ngày thì Bình tốn hơn $20$ phút, còn $8 \\%$ số ngày thì Bình tốn hơn $30.$ <br>\n",
    "a) Tìm thời gian trung bình và độ lệch chuẩn của thời gian đi học của Bình. <br>\n",
    "b) Nếu Bình xuất phát từ nhà vào $6h15$ sáng thì xác suất Bình trễ tiết $1$ của IUH là bao nhiêu? <br>\n",
    "c) Bình cần xuất phát vào lúc nào để xác suất kịp học tiết $10$ của IUH là $0.98$? <br>"
   ]
  },
  {
   "cell_type": "markdown",
   "id": "12191202",
   "metadata": {},
   "source": [
    "**Bài làm**"
   ]
  },
  {
   "cell_type": "markdown",
   "id": "aa7ac3d5",
   "metadata": {},
   "source": [
    "1. Giả sử $X$ là đại lượng ngẫu nhiên có phân bố chuẩn với kỳ vọng là $\\mu = 2100$ và độ lệch chuẩn $\\sigma = 200$. <br>\n",
    "a) Hãy sinh ra dãy dữ liệu của $X$ với kích thước $100.$ <br>\n",
    "b) Hãy dùng thư viện Seaborn, trực quan dữ liệu trên. <br>\n",
    "c) Tính $P(X > 2400), P(1700 < X < 2200)$. <br>\n",
    "d) Xác định $a, b$ sao cho $P(X <= a) = 0.56$ và $P(X > b) = 0.03$. <br>\n",
    "<br>"
   ]
  },
  {
   "cell_type": "markdown",
   "id": "77edac66",
   "metadata": {},
   "source": [
    "*a)Sinh ra dãy dữ liệu của $X$ với kích thước $100.$* <br>"
   ]
  },
  {
   "cell_type": "code",
   "execution_count": 7,
   "id": "4a1bbae9",
   "metadata": {
    "scrolled": true
   },
   "outputs": [
    {
     "data": {
      "text/plain": [
       "array([2139.23889059, 2006.364903  , 2153.17778802, 2043.28275338,\n",
       "       2062.84169387])"
      ]
     },
     "execution_count": 7,
     "metadata": {},
     "output_type": "execute_result"
    }
   ],
   "source": [
    "a = random.normal(loc=2100, scale=200, size= 100)\n",
    "a[:5]"
   ]
  },
  {
   "cell_type": "markdown",
   "id": "f35aed80",
   "metadata": {},
   "source": [
    "*b)Dùng thư viện Seaborn, trực quan dữ liệu trên. <br>*"
   ]
  },
  {
   "cell_type": "code",
   "execution_count": 8,
   "id": "19adf1ca",
   "metadata": {
    "scrolled": true
   },
   "outputs": [
    {
     "data": {
      "image/png": "[encoded data removed]",
      "text/plain": [
       "<Figure size 576x396 with 1 Axes>"
      ]
     },
     "metadata": {},
     "output_type": "display_data"
    }
   ],
   "source": [
    "sns.histplot(a, color=\"red\", kde=True, stat=\"probability\", linewidth=0);"
   ]
  },
  {
   "cell_type": "markdown",
   "id": "75c82651",
   "metadata": {},
   "source": [
    "*c) Tính $P(X > 2400), P(1700 < X < 2200)$.* <br>"
   ]
  },
  {
   "cell_type": "markdown",
   "id": "5d0ac812",
   "metadata": {},
   "source": [
    "$P(X > 2400) = 1-P(X<=2400)$"
   ]
  },
  {
   "cell_type": "code",
   "execution_count": 9,
   "id": "69dc7648",
   "metadata": {
    "scrolled": false
   },
   "outputs": [
    {
     "name": "stdout",
     "output_type": "stream",
     "text": [
      "Vậy P(X>2400)= 0.067\n"
     ]
    }
   ],
   "source": [
    "P_X1=1-st.norm.cdf(2400,loc=2100,scale=200)\n",
    "print('Vậy P(X>2400)=',round(P_X1,3))"
   ]
  },
  {
   "cell_type": "code",
   "execution_count": 10,
   "id": "778817c5",
   "metadata": {},
   "outputs": [
    {
     "data": {
      "text/plain": [
       "0.067"
      ]
     },
     "execution_count": 10,
     "metadata": {},
     "output_type": "execute_result"
    }
   ],
   "source": [
    "st.norm.sf(2400,loc=2100,scale=200).round(3)"
   ]
  },
  {
   "cell_type": "markdown",
   "id": "f60e9618",
   "metadata": {},
   "source": [
    "$P(1700 < X < 2200)= P(X<= 2199) - P(X<= 1700)$"
   ]
  },
  {
   "cell_type": "code",
   "execution_count": 11,
   "id": "e59a0197",
   "metadata": {},
   "outputs": [
    {
     "data": {
      "text/plain": [
       "(0.6896999397455121, 0.023021439932148342)"
      ]
     },
     "execution_count": 11,
     "metadata": {},
     "output_type": "execute_result"
    }
   ],
   "source": [
    "st.norm.cdf(2199,loc=2100,scale=200),st.norm.cdf(1701,loc=2100,scale=200)"
   ]
  },
  {
   "cell_type": "code",
   "execution_count": 12,
   "id": "739f6d46",
   "metadata": {
    "scrolled": false
   },
   "outputs": [
    {
     "name": "stdout",
     "output_type": "stream",
     "text": [
      "Vậy 𝑃(1700<𝑋<2200)= 0.667\n"
     ]
    }
   ],
   "source": [
    "P_X2=st.norm.cdf(2199,loc=2100,scale=200)-st.norm.cdf(1700,loc=2100,scale=200)\n",
    "print('Vậy 𝑃(1700<𝑋<2200)=',round(P_X2,3))"
   ]
  },
  {
   "cell_type": "markdown",
   "id": "d40e066c",
   "metadata": {},
   "source": [
    "*d) Xác định $a, b$ sao cho $P(X <= a) = 0.56$ và $P(X > b) = 0.03$. <br>*"
   ]
  },
  {
   "cell_type": "markdown",
   "id": "51ca6d41",
   "metadata": {},
   "source": [
    " $P(X <= a) = 0.56$"
   ]
  },
  {
   "cell_type": "code",
   "execution_count": 13,
   "id": "dfe1322f",
   "metadata": {
    "scrolled": true
   },
   "outputs": [
    {
     "name": "stdout",
     "output_type": "stream",
     "text": [
      "Vậy a = 2130.194\n"
     ]
    }
   ],
   "source": [
    "a1=st.norm.ppf(0.56,loc=2100,scale=200)\n",
    "print('Vậy a =',round(a1,3))"
   ]
  },
  {
   "cell_type": "markdown",
   "id": "4964798f",
   "metadata": {},
   "source": [
    "$P(X > b) = 0.03$. <br>"
   ]
  },
  {
   "cell_type": "code",
   "execution_count": 16,
   "id": "6d078f79",
   "metadata": {
    "scrolled": false
   },
   "outputs": [
    {
     "name": "stdout",
     "output_type": "stream",
     "text": [
      "Vậy b = 2476.159\n"
     ]
    }
   ],
   "source": [
    "b1=st.norm.isf(0.03,loc=2100,scale=200)\n",
    "print('Vậy b =',round(b1,3))"
   ]
  },
  {
   "cell_type": "markdown",
   "id": "e61c7b50",
   "metadata": {},
   "source": [
    "2. Trọng lượng một con bò được nuôi trong trang trại là đại lượng ngẫu nhiên có phân bố chuẩn với kỳ vọng $250kg$ và độ lệch chuẩn $40kg$. <br>\n",
    "a) Hãy sinh ra một bảng dữ liệu của $X$ với kích thước $10 \\times 10.$ <br>\n",
    "b) Hãy dùng thư viện Seaborn, trực quan dữ liệu trên. <br>\n",
    "c) Tính xác suất để con bò nặng hơn $300kg$, nhẹ hơn $150kg$. <br>\n",
    "d) Tính xác suất để khối lượng con bò trong khoảng $(250,270)kg.$ <br>\n",
    "<br>"
   ]
  },
  {
   "cell_type": "markdown",
   "id": "92816016",
   "metadata": {},
   "source": [
    "**a) Sinh ra một bảng dữ liệu của $X$ với kích thước $10 \\times 10.$** <br>"
   ]
  },
  {
   "cell_type": "code",
   "execution_count": 30,
   "id": "71dd5dc4",
   "metadata": {
    "scrolled": false
   },
   "outputs": [
    {
     "data": {
      "text/html": [
       "<div>\n",
       "<style scoped>\n",
       "    .dataframe tbody tr th:only-of-type {\n",
       "        vertical-align: middle;\n",
       "    }\n",
       "\n",
       "    .dataframe tbody tr th {\n",
       "        vertical-align: top;\n",
       "    }\n",
       "\n",
       "    .dataframe thead th {\n",
       "        text-align: right;\n",
       "    }\n",
       "</style>\n",
       "<table border=\"1\" class=\"dataframe\">\n",
       "  <thead>\n",
       "    <tr style=\"text-align: right;\">\n",
       "      <th></th>\n",
       "      <th>0</th>\n",
       "      <th>1</th>\n",
       "      <th>2</th>\n",
       "      <th>3</th>\n",
       "      <th>4</th>\n",
       "      <th>5</th>\n",
       "      <th>6</th>\n",
       "      <th>7</th>\n",
       "      <th>8</th>\n",
       "      <th>9</th>\n",
       "    </tr>\n",
       "  </thead>\n",
       "  <tbody>\n",
       "    <tr>\n",
       "      <th>0</th>\n",
       "      <td>-2.493368</td>\n",
       "      <td>0.497607</td>\n",
       "      <td>1.758488</td>\n",
       "      <td>-1.473202</td>\n",
       "      <td>-0.431982</td>\n",
       "      <td>1.736993</td>\n",
       "      <td>-1.022548</td>\n",
       "      <td>0.269064</td>\n",
       "      <td>0.516290</td>\n",
       "      <td>0.852685</td>\n",
       "    </tr>\n",
       "    <tr>\n",
       "      <th>1</th>\n",
       "      <td>-0.430020</td>\n",
       "      <td>-0.292332</td>\n",
       "      <td>-0.026851</td>\n",
       "      <td>-1.020298</td>\n",
       "      <td>-0.220798</td>\n",
       "      <td>-0.585179</td>\n",
       "      <td>-0.019714</td>\n",
       "      <td>0.967463</td>\n",
       "      <td>-0.800394</td>\n",
       "      <td>1.216251</td>\n",
       "    </tr>\n",
       "    <tr>\n",
       "      <th>2</th>\n",
       "      <td>-0.604555</td>\n",
       "      <td>-0.231382</td>\n",
       "      <td>1.843789</td>\n",
       "      <td>-0.605511</td>\n",
       "      <td>-0.125805</td>\n",
       "      <td>-0.380391</td>\n",
       "      <td>-1.555316</td>\n",
       "      <td>-0.435367</td>\n",
       "      <td>1.975538</td>\n",
       "      <td>-1.694503</td>\n",
       "    </tr>\n",
       "    <tr>\n",
       "      <th>3</th>\n",
       "      <td>-1.147398</td>\n",
       "      <td>-0.390080</td>\n",
       "      <td>-0.702980</td>\n",
       "      <td>0.965266</td>\n",
       "      <td>0.396249</td>\n",
       "      <td>-2.145612</td>\n",
       "      <td>-0.190419</td>\n",
       "      <td>-0.838306</td>\n",
       "      <td>-0.648204</td>\n",
       "      <td>-0.622751</td>\n",
       "    </tr>\n",
       "    <tr>\n",
       "      <th>4</th>\n",
       "      <td>-1.203227</td>\n",
       "      <td>0.435473</td>\n",
       "      <td>0.481630</td>\n",
       "      <td>1.654368</td>\n",
       "      <td>0.890147</td>\n",
       "      <td>0.899305</td>\n",
       "      <td>0.746800</td>\n",
       "      <td>0.179987</td>\n",
       "      <td>0.769811</td>\n",
       "      <td>-0.801101</td>\n",
       "    </tr>\n",
       "    <tr>\n",
       "      <th>5</th>\n",
       "      <td>-0.994718</td>\n",
       "      <td>-1.592595</td>\n",
       "      <td>-1.412057</td>\n",
       "      <td>0.756175</td>\n",
       "      <td>1.651066</td>\n",
       "      <td>-0.271823</td>\n",
       "      <td>-1.157196</td>\n",
       "      <td>0.374747</td>\n",
       "      <td>-0.489935</td>\n",
       "      <td>0.540308</td>\n",
       "    </tr>\n",
       "    <tr>\n",
       "      <th>6</th>\n",
       "      <td>-0.430390</td>\n",
       "      <td>0.390967</td>\n",
       "      <td>-1.259373</td>\n",
       "      <td>-1.664126</td>\n",
       "      <td>-1.369755</td>\n",
       "      <td>0.978988</td>\n",
       "      <td>-0.013771</td>\n",
       "      <td>0.894866</td>\n",
       "      <td>-1.145872</td>\n",
       "      <td>-0.261570</td>\n",
       "    </tr>\n",
       "    <tr>\n",
       "      <th>7</th>\n",
       "      <td>0.444548</td>\n",
       "      <td>-0.714297</td>\n",
       "      <td>0.574344</td>\n",
       "      <td>-0.025456</td>\n",
       "      <td>0.860096</td>\n",
       "      <td>1.034963</td>\n",
       "      <td>-0.882696</td>\n",
       "      <td>-0.203491</td>\n",
       "      <td>1.484776</td>\n",
       "      <td>-1.197689</td>\n",
       "    </tr>\n",
       "    <tr>\n",
       "      <th>8</th>\n",
       "      <td>1.273077</td>\n",
       "      <td>-1.460016</td>\n",
       "      <td>0.388311</td>\n",
       "      <td>-0.706803</td>\n",
       "      <td>-0.253506</td>\n",
       "      <td>0.258812</td>\n",
       "      <td>1.270592</td>\n",
       "      <td>0.867890</td>\n",
       "      <td>0.372906</td>\n",
       "      <td>1.360172</td>\n",
       "    </tr>\n",
       "    <tr>\n",
       "      <th>9</th>\n",
       "      <td>1.231006</td>\n",
       "      <td>0.806653</td>\n",
       "      <td>-1.723132</td>\n",
       "      <td>0.191372</td>\n",
       "      <td>1.590667</td>\n",
       "      <td>1.080114</td>\n",
       "      <td>0.196997</td>\n",
       "      <td>0.837429</td>\n",
       "      <td>0.368148</td>\n",
       "      <td>1.283725</td>\n",
       "    </tr>\n",
       "  </tbody>\n",
       "</table>\n",
       "</div>"
      ],
      "text/plain": [
       "          0         1         2         3         4         5         6  \\\n",
       "0 -2.493368  0.497607  1.758488 -1.473202 -0.431982  1.736993 -1.022548   \n",
       "1 -0.430020 -0.292332 -0.026851 -1.020298 -0.220798 -0.585179 -0.019714   \n",
       "2 -0.604555 -0.231382  1.843789 -0.605511 -0.125805 -0.380391 -1.555316   \n",
       "3 -1.147398 -0.390080 -0.702980  0.965266  0.396249 -2.145612 -0.190419   \n",
       "4 -1.203227  0.435473  0.481630  1.654368  0.890147  0.899305  0.746800   \n",
       "5 -0.994718 -1.592595 -1.412057  0.756175  1.651066 -0.271823 -1.157196   \n",
       "6 -0.430390  0.390967 -1.259373 -1.664126 -1.369755  0.978988 -0.013771   \n",
       "7  0.444548 -0.714297  0.574344 -0.025456  0.860096  1.034963 -0.882696   \n",
       "8  1.273077 -1.460016  0.388311 -0.706803 -0.253506  0.258812  1.270592   \n",
       "9  1.231006  0.806653 -1.723132  0.191372  1.590667  1.080114  0.196997   \n",
       "\n",
       "          7         8         9  \n",
       "0  0.269064  0.516290  0.852685  \n",
       "1  0.967463 -0.800394  1.216251  \n",
       "2 -0.435367  1.975538 -1.694503  \n",
       "3 -0.838306 -0.648204 -0.622751  \n",
       "4  0.179987  0.769811 -0.801101  \n",
       "5  0.374747 -0.489935  0.540308  \n",
       "6  0.894866 -1.145872 -0.261570  \n",
       "7 -0.203491  1.484776 -1.197689  \n",
       "8  0.867890  0.372906  1.360172  \n",
       "9  0.837429  0.368148  1.283725  "
      ]
     },
     "execution_count": 30,
     "metadata": {},
     "output_type": "execute_result"
    }
   ],
   "source": [
    "\n",
    "import pandas as pd\n",
    "a= np.random.normal(size=(10,10))\n",
    "df = pd.DataFrame(a)\n",
    "df\n"
   ]
  },
  {
   "cell_type": "markdown",
   "id": "9fdbd28b",
   "metadata": {},
   "source": [
    "**b) Dùng thư viện Seaborn, trực quan dữ liệu trên.**"
   ]
  },
  {
   "cell_type": "code",
   "execution_count": 33,
   "id": "9cda1c21",
   "metadata": {},
   "outputs": [
    {
     "data": {
      "image/png": "[encoded data removed]",
      "text/plain": [
       "<Figure size 576x396 with 1 Axes>"
      ]
     },
     "metadata": {},
     "output_type": "display_data"
    }
   ],
   "source": [
    "sns.histplot(a, kde=True, stat=\"probability\", linewidth=0,alpha=0.3);"
   ]
  },
  {
   "cell_type": "markdown",
   "id": "8da3f6a3",
   "metadata": {},
   "source": [
    "**c) Tính xác suất để con bò nặng hơn $300kg$, nhẹ hơn $150kg$.**<br>"
   ]
  },
  {
   "cell_type": "markdown",
   "id": "90de26eb",
   "metadata": {},
   "source": [
    "Gọi X là phân phối chuẩn với $Mean = 250$, $Std =40$"
   ]
  },
  {
   "cell_type": "code",
   "execution_count": 34,
   "id": "1e832e92",
   "metadata": {},
   "outputs": [],
   "source": [
    "X= st.norm(loc=250,scale=40)"
   ]
  },
  {
   "cell_type": "markdown",
   "id": "5c895c00",
   "metadata": {},
   "source": [
    "* Xác suất để con bò nặng hơn 300kg"
   ]
  },
  {
   "cell_type": "code",
   "execution_count": 38,
   "id": "c092542d",
   "metadata": {
    "scrolled": true
   },
   "outputs": [
    {
     "name": "stdout",
     "output_type": "stream",
     "text": [
      "Xác suất để con bò nặng hơn 300kg là : 0.1056\n"
     ]
    }
   ],
   "source": [
    "ans1 = X.sf(300).round(4)\n",
    "print('Xác suất để con bò nặng hơn 300kg là :',ans1)"
   ]
  },
  {
   "cell_type": "markdown",
   "id": "e90b9fb7",
   "metadata": {},
   "source": [
    "* Xác suất để con bò nhẹ hơn 150kg"
   ]
  },
  {
   "cell_type": "code",
   "execution_count": 42,
   "id": "576329bb",
   "metadata": {},
   "outputs": [
    {
     "name": "stdout",
     "output_type": "stream",
     "text": [
      "Xác suất để con bò nhẹ hơn 150kg 0.0062\n"
     ]
    }
   ],
   "source": [
    "ans2 = X.cdf(150).round(4)\n",
    "print('Xác suất để con bò nhẹ hơn 150kg',ans2)"
   ]
  },
  {
   "cell_type": "markdown",
   "id": "e01fc418",
   "metadata": {},
   "source": [
    "**d) Xác suất để khối lượng con bò trong khoảng $(250,270)kg.$**"
   ]
  },
  {
   "cell_type": "code",
   "execution_count": 44,
   "id": "ff21968a",
   "metadata": {
    "scrolled": true
   },
   "outputs": [
    {
     "name": "stdout",
     "output_type": "stream",
     "text": [
      "Xác suất để khối lượng con bò trong khoảng (250,270)𝑘𝑔 là: 0.1915\n"
     ]
    }
   ],
   "source": [
    "ans = X.cdf(270)-X.cdf(250)\n",
    "print('Xác suất để khối lượng con bò trong khoảng (250,270)𝑘𝑔 là:',ans.round(4))"
   ]
  },
  {
   "cell_type": "markdown",
   "id": "81548718",
   "metadata": {},
   "source": [
    "3. Thời gian từ nhà đi đến trường trong học kỳ vừa rồi của sinh viên Bình là một đại lượng ngẫu nhiên $X$ có phân bố chuẩn. Biết rằng $65\\%$ số ngày thì Bình tốn hơn $20$ phút, còn $8 \\%$ số ngày thì Bình tốn hơn $30.$ <br>\n",
    "a) Tìm thời gian trung bình và độ lệch chuẩn của thời gian đi học của Bình. <br>\n",
    "b) Nếu Bình xuất phát từ nhà vào $6h15$ sáng thì xác suất Bình trễ tiết $1$ của IUH là bao nhiêu? <br>\n",
    "c) Bình cần xuất phát vào lúc nào để xác suất kịp học tiết $10$ của IUH là $0.98$? <br>"
   ]
  },
  {
   "cell_type": "markdown",
   "id": "fce87152",
   "metadata": {},
   "source": [
    "## 2. LUẬT SỐ LỚN VÀ ĐỊNH LÝ GIỚI HẠN TRUNG TÂM"
   ]
  },
  {
   "cell_type": "markdown",
   "id": "1dfc2e18",
   "metadata": {},
   "source": [
    "Ta có định lý sau đây (*giới hạn trung tâm*): Nếu đại lượng ngẫu nhiên $X$ là tổng của một số rất lớn các đại lượng ngẫu nhiên độc lập và sự đóng góp, ảnh hưởng của mỗi đại lượng là không đáng kể thì $X$ sẽ có phân bố chuẩn hoặc xấp xỉ một phân bố chuẩn. Điều này cho ta quy các bài toán phức tạp, khó tính toán được bằng cách thông thường, về phân phối chuẩn và giải quyết nó dễ dàng. <br>\n",
    "Bên cạnh đó còn có quy tắc sau (*luật số lớn*): Giả sử $X_1, X_2, ..., X_n$ là dãy các đại lượng ngẫu nhiên độc lập có cùng phân bố và có kỳ vọng là $\\mu$, phương sai là $\\sigma^2$ thì trung bình cộng $X = \\frac{X_1+X_2+...+X_n}{n}$ sẽ hội tụ tới $\\mu.$ <br>\n",
    "<br>\n",
    "Bên dưới, ta sẽ nghiên cứu một số xấp xỉ của các phân bố quen thuộc dựa theo định lý và quy luật ở trên: <br>"
   ]
  },
  {
   "cell_type": "markdown",
   "id": "3f593ac0",
   "metadata": {},
   "source": [
    "1. Cho dãy $(X_n)$ là dãy các đại lượng ngẫu nhiên tuân theo phân bố nhị thức, trong đó với mỗi $n$ thì $X_n$ là phân bố nhị thức với tham số $(n,p_n).$ Giả sử rằng tồn tại giới hạn $\\lim n \\cdot p_n = \\lambda.$ Khi đó $X_n$ tuân theo phân bố Poisson với tham số $\\lambda.$ <br>\n",
    "Như vậy, với $n$ khá lớn và $p_n$ bé thì xấp xỉ là tốt, thông thường thì $n>50$. <br>\n",
    "2. Cho dãy $(X_n)$ là dãy các đại lượng ngẫu nhiên độc lập nhau có cùng một phân bố với kỳ vọng $EX = \\mu$ và phương sai $DX = \\sigma^2$. Đặt $$S_n = \\frac{X_1+X_2+...+X_n - n \\mu}{\\sqrt{n \\sigma^2}}$$ thì ta có $P(S_n < x) = P(Z < x)$ với $Z$ là phân bố chuẩn tắc. Chú ý thêm rằng với số nguyên x, ta có thể điều chỉnh $P(X > x) \\to P(X > x+0.5)$ hoặc $P(X < x) \\to P(X < x - 0.5)$ để xác suất xấp xỉ chuẩn hơn."
   ]
  },
  {
   "cell_type": "markdown",
   "id": "91cd356f",
   "metadata": {},
   "source": [
    "**Yêu cầu:** (thực hiện trong 1.5 tiết) <br>\n",
    "*Từ các nội dung trên, hãy thực hiện các yêu cầu sau:* <br>\n",
    "1. Một xưởng in sách thấy rằng trung bình một quyển sách $500$ trang thì có chứa $300$ lỗi. Tìm xác suất để trong một trang sách có đúng $2$ lỗi, có ít nhất $2$ lỗi? Hãy giải thích tại sao không làm trực tiếp mà phải dùng xấp xỉ, và lý do tại sao việc xấp xỉ ở đây là hợp lệ. <br>\n",
    "2. Xác suất làm một chiếc đinh ốc không đúng quy cách là $0.015$ và người ta xếp đinh ốc vào từng hộp, mỗi hộp có $100$ cái. Tính xác suất để hộp chứa toàn đinh ốc đúng quy cách. Tìm $n$ sao cho xác suất để lấy được $100$ đinh ốc đúng quy cách trong $n$ cái là không nhỏ hơn $0.8$. <br>\n",
    "3. Gieo một con xúc sắc đối xứng tổng cộng $30$ lần. Tính xác suất để tổng số nút thu được là không vượt quá $100$, là lớn hơn $120.$ <br>\n",
    "4. Trong khu phố có: $180$ hộ dân có $2$ người có lượng nước sinh hoạt sử dụng là đại lượng ngẫu nhiên có giá trị trung bình $0.6m^3$, độ lệch chuẩn $0.04m^3$ và $50$ hộ có hơn $2$ người có lượng nước sinh hoạt sử dụng là đại lượng ngẫu nhiên có giá trị trung bình $1.9m^3$, độ lệch chuẩn $0.14m^3$. Tính xác suất để trong một ngày, khu phố đó dùng hơn $205m^3$ nước."
   ]
  },
  {
   "cell_type": "code",
   "execution_count": null,
   "id": "61cadc85",
   "metadata": {},
   "outputs": [],
   "source": []
  }
 ],
 "metadata": {
  "kernelspec": {
   "display_name": "Python 3 (ipykernel)",
   "language": "python",
   "name": "python3"
  },
  "language_info": {
   "codemirror_mode": {
    "name": "ipython",
    "version": 3
   },
   "file_extension": ".py",
   "mimetype": "text/x-python",
   "name": "python",
   "nbconvert_exporter": "python",
   "pygments_lexer": "ipython3",
   "version": "3.9.7"
  }
 },
 "nbformat": 4,
 "nbformat_minor": 5
}
