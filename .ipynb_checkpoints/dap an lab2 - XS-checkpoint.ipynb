{
 "cells": [
  {
   "cell_type": "markdown",
   "id": "5e303550",
   "metadata": {},
   "source": [
    "# LAB 2. ÔN TẬP VIỆC DÙNG CÁC THƯ VIỆN\n",
    "### Xác suất cho Khoa học dữ liệu. Ngày 09/03/2022."
   ]
  },
  {
   "cell_type": "markdown",
   "id": "5d671ac1",
   "metadata": {},
   "source": [
    "## 1. CÔNG THỨC CƠ BẢN"
   ]
  },
  {
   "cell_type": "code",
   "execution_count": 53,
   "id": "5e8c774c",
   "metadata": {},
   "outputs": [
    {
     "data": {
      "text/plain": [
       "720"
      ]
     },
     "execution_count": 53,
     "metadata": {},
     "output_type": "execute_result"
    }
   ],
   "source": [
    "import math\n",
    "math.factorial(6) #tính giai thừa, chỉ nhận đầu vào là số nguyên không âm"
   ]
  },
  {
   "cell_type": "code",
   "execution_count": 54,
   "id": "6105e8e8",
   "metadata": {},
   "outputs": [
    {
     "data": {
      "text/plain": [
       "5"
      ]
     },
     "execution_count": 54,
     "metadata": {},
     "output_type": "execute_result"
    }
   ],
   "source": [
    "from scipy import special\n",
    "special.binom(5,4) # tính tổ hợp chập k của n\n",
    "special.comb(5, 4)  # vẫn là tính tổ hợp chập k của n\n",
    "special.comb(5, 4, exact=True) # làm tròn"
   ]
  },
  {
   "cell_type": "markdown",
   "id": "f59dc88f",
   "metadata": {},
   "source": [
    "**Yêu cầu:**\n",
    "Hãy nhớ lại công thức tính $C(n,k)$ theo $n!, k!$ và viết đoạn code tính $C(100,20)$ theo 2 cách."
   ]
  },
  {
   "cell_type": "code",
   "execution_count": 43,
   "id": "651e54ff",
   "metadata": {},
   "outputs": [
    {
     "data": {
      "text/plain": [
       "535983370403809656832"
      ]
     },
     "execution_count": 43,
     "metadata": {},
     "output_type": "execute_result"
    }
   ],
   "source": [
    "#Tổ hợp chập k của n là n! / (k!(n-k)!)\n",
    "def C(n,k):\n",
    "    X = math.factorial(n)/(math.factorial(k)*math.factorial(n-k))\n",
    "    return int(X)\n",
    "C(100,20)"
   ]
  },
  {
   "cell_type": "code",
   "execution_count": 38,
   "id": "9ba0a4e7",
   "metadata": {},
   "outputs": [
    {
     "data": {
      "text/plain": [
       "535983370403809682970"
      ]
     },
     "execution_count": 38,
     "metadata": {},
     "output_type": "execute_result"
    }
   ],
   "source": [
    "special.comb(100, 20, exact=True)"
   ]
  },
  {
   "cell_type": "markdown",
   "id": "e5822ad1",
   "metadata": {},
   "source": [
    "**Chú ý.** Qua bài này, ta thấy rằng 2 cách tính trên có sai số nhất định. Điều này cho thấy rằng ta nên dùng các thư viện có sẵn của Python thay vì dùng các hàm tự định nghĩa."
   ]
  },
  {
   "cell_type": "markdown",
   "id": "1753156c",
   "metadata": {},
   "source": [
    "## 2. CÁC THƯ VIỆN CHO PHÂN PHỐI"
   ]
  },
  {
   "cell_type": "markdown",
   "id": "6232f5bd",
   "metadata": {},
   "source": [
    "**Yêu cầu:** Cho các đoạn code bên dưới của thư viện spipy dùng cho các phân phối đã biết. Hãy chạy từng dòng code và ghi chú lại ý nghĩa của từng hàm."
   ]
  },
  {
   "cell_type": "code",
   "execution_count": 120,
   "id": "f708b572",
   "metadata": {},
   "outputs": [
    {
     "name": "stdout",
     "output_type": "stream",
     "text": [
      "pmf 0.20132659200000022\n",
      "cdf 0.9672065024000001\n",
      "mean 2.0\n",
      "var 1.6\n",
      "std 1.2649110640673518\n",
      "0\n",
      "[4 2 3 2 3 6 2 4 2 4]\n"
     ]
    }
   ],
   "source": [
    "#pmf = probability mass function: hàm phân phối xác suất\n",
    "#cdf = cummulative distribution function: hàm tích lũy xác suất (kiểu tính tổng P(X=0) + P(X=1) + ...)\n",
    "#mean = kỳ vọng  ~ trung bình cộng\n",
    "#var = varian: phương sai\n",
    "#std = standard deviation: độ lệch chuẩn\n",
    "#rvs = random value in sample: lấy một giá trị bất kỳ trong không gian mẫu của X\n",
    "\n",
    "from scipy import stats\n",
    "X = stats.binom(10, 0.2)  # Khai báo X là một phân phối nhị thức có n=10 và p=0.2\n",
    "print('pmf',X.pmf(3))     # P(X = 3) công thức: P(X=k) = C(n,k)*p^k*(1-p)^(n-k)\n",
    "print('cdf',X.cdf(4))     # P(X <= 4) = P(X=0)+P(X=1)+P(X=2)+P(X=3)+P(X=4)\n",
    "print('mean',X.mean())    # E[X]\n",
    "print('var',X.var())      # Var(X)\n",
    "print('std',X.std())      # Std(X)\n",
    "print(X.rvs())            # lấy 1 giá trị bất kỳ trong không gian mẫu của X\n",
    "print(X.rvs(10))          # lấy 10 giá trị bất kỳ trong không gian mẫu của X"
   ]
  },
  {
   "cell_type": "code",
   "execution_count": 4,
   "id": "458c0c74",
   "metadata": {},
   "outputs": [
    {
     "data": {
      "text/plain": [
       "1.4142135623730951"
      ]
     },
     "execution_count": 4,
     "metadata": {},
     "output_type": "execute_result"
    }
   ],
   "source": [
    "from scipy import stats\n",
    "Y = stats.poisson(2) # Khai báo Y là một phân phối Poisson với biến lamda = 2\n",
    "Y.mean()             # P(Y = 3) Công thức P(X=k)=lamda^k * e^(-k) / k!\n",
    "Y.std()\n",
    "#Y.rvs()             # random 1 giá trị bất kỳ trong không gian mẫu của Y"
   ]
  },
  {
   "cell_type": "code",
   "execution_count": 72,
   "id": "50b612c6",
   "metadata": {},
   "outputs": [
    {
     "data": {
      "text/plain": [
       "array([2, 1, 1, 1, 2, 1, 1, 1, 1, 1])"
      ]
     },
     "execution_count": 72,
     "metadata": {},
     "output_type": "execute_result"
    }
   ],
   "source": [
    "from scipy import stats\n",
    "Z = stats.geom(0.75) # Khai báo Z là một phân phối hình học với biến p = 0.75\n",
    "Z.pmf(3)             # P(X = 3) Công thức P(X=k) = (1-p)^(k-1)*p\n",
    "Z.rvs(10)            # random 10 giá trị bất kỳ trong không gian mẫu của Z"
   ]
  },
  {
   "cell_type": "markdown",
   "id": "6829f3dd",
   "metadata": {},
   "source": [
    "## 3. CÁC BÀI TOÁN SIMULATION ĐƠN GIẢN"
   ]
  },
  {
   "cell_type": "markdown",
   "id": "2b169c39",
   "metadata": {},
   "source": [
    "Hãy đọc hiểu code bên dưới về việc tung một đồng xu đồng chất (fair coin) nhiều lần và tính kỳ vọng số mặt sấp - ngửa."
   ]
  },
  {
   "cell_type": "code",
   "execution_count": 56,
   "id": "5b806db1",
   "metadata": {},
   "outputs": [
    {
     "data": {
      "text/plain": [
       "0.49845"
      ]
     },
     "execution_count": 56,
     "metadata": {},
     "output_type": "execute_result"
    }
   ],
   "source": [
    "import random\n",
    "def coin_trial():\n",
    "    return random.random() <= 0.5 # nếu random được số <= 0.5 thì có ngửa; ngược lại là sấp\n",
    "def simulate(n):\n",
    "    trials = []\n",
    "    for i in range(n):\n",
    "        trials.append(coin_trial())\n",
    " #   return trials\n",
    "    return sum(trials) / n\n",
    "simulate(100000)"
   ]
  },
  {
   "cell_type": "markdown",
   "id": "f418528b",
   "metadata": {},
   "source": [
    "**Yêu cầu:**\n",
    "1) Hãy viết lại đoạn code khi thêm tham số p là xác suất để thu được mặt sấp (ở trên mặc định p = 0.5). <br>\n",
    "2) Viết lại đoạn code tính kỳ vọng tung xúc sắc 6 mặt."
   ]
  },
  {
   "cell_type": "markdown",
   "id": "3e4b2fb6",
   "metadata": {},
   "source": [
    "**Yêu cầu 1.**"
   ]
  },
  {
   "cell_type": "code",
   "execution_count": 54,
   "id": "41d5335c",
   "metadata": {},
   "outputs": [
    {
     "data": {
      "text/plain": [
       "30170"
      ]
     },
     "execution_count": 54,
     "metadata": {},
     "output_type": "execute_result"
    }
   ],
   "source": [
    "def coin_trial_1(p): # BÀI 1\n",
    "    return random.random() <= p\n",
    "def simulate_1(n,p):\n",
    "    trials = []\n",
    "    for i in range(n):\n",
    "        trials.append(coin_trial_1(p))\n",
    " #   return trials\n",
    "    return sum(trials)\n",
    "simulate_1(100000, 0.3)"
   ]
  },
  {
   "cell_type": "markdown",
   "id": "fe4c53ed",
   "metadata": {},
   "source": [
    "**Yêu cầu 2.**"
   ]
  },
  {
   "cell_type": "code",
   "execution_count": 52,
   "id": "3eb6aa60",
   "metadata": {},
   "outputs": [
    {
     "data": {
      "text/plain": [
       "3.483"
      ]
     },
     "execution_count": 52,
     "metadata": {},
     "output_type": "execute_result"
    }
   ],
   "source": [
    "def dice_trial():  # BÀI 2\n",
    "    return random.randint(1,6)\n",
    "def simulate_2(n):\n",
    "    trials = []\n",
    "    for i in range(n):\n",
    "        trials.append(dice_trial())\n",
    "    #return trials\n",
    "    return sum(trials) / n\n",
    "simulate_2(1000)"
   ]
  },
  {
   "cell_type": "markdown",
   "id": "f399ae9f",
   "metadata": {},
   "source": [
    "**Chú ý.** Thử thay bằng return trials để thấy danh sách kết quả."
   ]
  },
  {
   "cell_type": "markdown",
   "id": "f09a2677",
   "metadata": {},
   "source": [
    "## 4. VẼ ĐỒ THỊ CƠ BẢN"
   ]
  },
  {
   "cell_type": "code",
   "execution_count": 10,
   "id": "7fbf2e16",
   "metadata": {},
   "outputs": [
    {
     "data": {
      "text/plain": [
       "<matplotlib.legend.Legend at 0x277f4a80580>"
      ]
     },
     "execution_count": 10,
     "metadata": {},
     "output_type": "execute_result"
    },
    {
     "data": {
      "image/png": "[encoded data removed]",
      "text/plain": [
       "<Figure size 432x288 with 1 Axes>"
      ]
     },
     "metadata": {
      "needs_background": "light"
     },
     "output_type": "display_data"
    }
   ],
   "source": [
    "import numpy as np\n",
    "import matplotlib.pyplot as plt\n",
    "x = np.arange(0, 3*np.pi, 0.05)\n",
    "y = np.cos(x)\n",
    "plt.xlabel('x axis label')\n",
    "plt.ylabel('y axis label')\n",
    "plt.title('Sine graph')\n",
    "plt.plot(x, y, label='sin')\n",
    "plt.legend()"
   ]
  },
  {
   "cell_type": "markdown",
   "id": "9cc05bf1",
   "metadata": {},
   "source": [
    "**Yêu cầu.** Hãy đọc cách vẽ đồ thị trên và thử thay đổi giá trị của các biến trong dòng $x=np.arange(?, ?, ?)$ để hiểu ý nghĩa của từng tham số. Từ đó, hãy tự code tiếp:\n",
    "1. Vẽ đồ thị của hàm số $y = x^3-2x-3$ trên miền $[-1;3]$, bước nhảy là $0.05.$\n",
    "2. Vẽ đồ thị của ba hàm số $y=sinx, y=1/x, y=x$ trên cùng một hệ trục tọa độ (khoảng giá trị và bước nhảy tùy chọn).\n",
    "3. Vẽ giá trị của hàm $simulate(n)$ ở trên với $n$ trong miền từ $[1;1000].$"
   ]
  },
  {
   "cell_type": "markdown",
   "id": "e757218c",
   "metadata": {},
   "source": [
    "**Yêu cầu 1.**"
   ]
  },
  {
   "cell_type": "code",
   "execution_count": 14,
   "id": "1505b7af",
   "metadata": {},
   "outputs": [
    {
     "data": {
      "text/plain": [
       "<matplotlib.legend.Legend at 0x277f63d5d30>"
      ]
     },
     "execution_count": 14,
     "metadata": {},
     "output_type": "execute_result"
    },
    {
     "data": {
      "image/png": "[encoded data removed]",
      "text/plain": [
       "<Figure size 432x288 with 1 Axes>"
      ]
     },
     "metadata": {
      "needs_background": "light"
     },
     "output_type": "display_data"
    }
   ],
   "source": [
    "x = np.arange(-1,3, 0.05)\n",
    "y = x*x*x-2*x-3\n",
    "plt.xlabel('x axis')\n",
    "plt.ylabel('y axis')\n",
    "plt.title('Cube graph')\n",
    "plt.plot(x, y, label='cube', color = 'blue')\n",
    "plt.legend()"
   ]
  },
  {
   "cell_type": "markdown",
   "id": "a2c76ce0",
   "metadata": {},
   "source": [
    "**Yêu cầu 2.**"
   ]
  },
  {
   "cell_type": "code",
   "execution_count": 16,
   "id": "67e98f12",
   "metadata": {},
   "outputs": [
    {
     "data": {
      "text/plain": [
       "<matplotlib.legend.Legend at 0x277f648cf70>"
      ]
     },
     "execution_count": 16,
     "metadata": {},
     "output_type": "execute_result"
    },
    {
     "data": {
      "image/png": "[encoded data removed]",
      "text/plain": [
       "<Figure size 432x288 with 1 Axes>"
      ]
     },
     "metadata": {
      "needs_background": "light"
     },
     "output_type": "display_data"
    }
   ],
   "source": [
    "x = np.arange(1,10,0.05)\n",
    "y1 = np.sin(x)\n",
    "y2 = 1/x\n",
    "y3 = x\n",
    "plt.xlabel('x axis')\n",
    "plt.ylabel('y axis')\n",
    "plt.title('Three graph')\n",
    "plt.plot(x, y1, label='sin')\n",
    "plt.plot(x, y2, label='phan so')\n",
    "plt.plot(x, y3, label='duong')\n",
    "plt.legend()"
   ]
  },
  {
   "cell_type": "markdown",
   "id": "485eaa7f",
   "metadata": {},
   "source": [
    "**Chú ý:** SV xem thêm một số cách vẽ đồ thị khác tại đây: https://www.geeksforgeeks.org/graph-plotting-in-python-set-1/"
   ]
  },
  {
   "cell_type": "markdown",
   "id": "0ada998d",
   "metadata": {},
   "source": [
    "**Yêu cầu 3.**"
   ]
  },
  {
   "cell_type": "code",
   "execution_count": 62,
   "id": "544a95a1",
   "metadata": {},
   "outputs": [
    {
     "data": {
      "image/png": "[encoded data removed]",
      "text/plain": [
       "<Figure size 432x288 with 1 Axes>"
      ]
     },
     "metadata": {
      "needs_background": "light"
     },
     "output_type": "display_data"
    }
   ],
   "source": [
    "result = []\n",
    "for i in range(1,100):\n",
    "    result.append(simulate(i))\n",
    "x = np.arange(1,100)\n",
    "plt.plot(x, result)\n",
    "plt.show()"
   ]
  },
  {
   "cell_type": "markdown",
   "id": "33272e07",
   "metadata": {},
   "source": [
    "## 5. GIỚI THIỆU VỀ BIẾN NGẪU NHIÊN LIÊN TỤC"
   ]
  },
  {
   "cell_type": "markdown",
   "id": "7a0a96fb",
   "metadata": {},
   "source": [
    "Trên thực tế, ta thường gặp các đại lượng ngẫu nhiên nhận giá trị trong một phạm vi nào đó và nó lấp đầy một khoảng hoặc toàn bộ trục số. Khi đó, với mọi số thực $a$, ta đều có $P(X=a)=0.$ <br>\n",
    "*VD: lượng mưa vào tháng này là một đại lượng ngẫu nhiên liên tục trên miền $(0;+\\infty)$, trọng lượng của một đứa trẻ sơ sinh,...*"
   ]
  },
  {
   "cell_type": "markdown",
   "id": "95542eb7",
   "metadata": {},
   "source": [
    "Hàm số $f(x)$ xác định trên $\\mathbb{R}$ được gọi là hàm mật độ của đại lượng ngẫu nhiên liên tục $X$ nếu như $f(x) \\ge 0, \\forall x \\in \\mathbb{R}$, đồng thời $$P(a < X < b) = \\int_{a}^{b} f(x)dx \\text{ và } \\int_{-\\infty}^{+\\infty} f(x)dx = 1.$$"
   ]
  },
  {
   "cell_type": "markdown",
   "id": "4190c0dc",
   "metadata": {},
   "source": [
    "**Ví dụ.** Tuổi thọ của một loài côn trùng (đơn vị tháng) là một đại lượng ngẫu nhiên liên tục $X$ có hàm mật độ $f(x)$ là \n",
    "$$f(x)=\\left\\{ \\begin{align}\n",
    "  & k{{x}^{2}}(4-x),\\text{   }0 \\le x \\le 4 \\\\ \n",
    " & 0,\\text{                 }x > 4 \\vee x < 0 \\\\ \n",
    "\\end{align} \\right..$$\n",
    "1. Tìm $k$ và vẽ đồ thị của $f(x).$\n",
    "2. Tính xác suất để tuổi thọ của côn trùng trong khoảng $2$ đến $3$ tháng.\n",
    "3. Tìm $mode(X).$"
   ]
  },
  {
   "cell_type": "code",
   "execution_count": null,
   "id": "c2a777f5",
   "metadata": {},
   "outputs": [],
   "source": [
    "#Tính tích phân của f(x) từ -vô cực đến +vô cực, theo tham số k => cho tích phân bằng 1 => tìm k.\n",
    "#Với k đó, ta vẽ đồ thị => 3 nhánh: (-vô cực; 0) và (0;4) và (4;+vô cực)"
   ]
  },
  {
   "cell_type": "markdown",
   "id": "7b68934d",
   "metadata": {},
   "source": [
    "Ta có: \n",
    "$$\\begin{align}\n",
    "  & \\int_{-\\infty }^{+\\infty }{f(x)dx}=\\int_{-\\infty }^{0}{f(x)dx}+\\int_{0}^{4}{f(x)dx}+\\int_{4}^{+\\infty }{f(x)dx} \\\\ \n",
    " & =0+\\int_{0}^{4}k{{{x}^{2}}(4-x)dx}+0 = k \\int_{0}^{4}{{{x}^{2}}(4-x)dx}.\\\\ \n",
    "\\end{align}$$\n",
    "Ta tính tích phân bằng thư viện Sympy như bên dưới:"
   ]
  },
  {
   "cell_type": "code",
   "execution_count": 8,
   "id": "6de72c1c",
   "metadata": {},
   "outputs": [
    {
     "data": {
      "text/latex": [
       "$\\displaystyle \\frac{64}{3}$"
      ],
      "text/plain": [
       "64/3"
      ]
     },
     "execution_count": 8,
     "metadata": {},
     "output_type": "execute_result"
    }
   ],
   "source": [
    "import sympy as sym\n",
    "x = sym.symbols('x')\n",
    "sym.integrate(x*x*(4-x), (x, 0, 4))"
   ]
  },
  {
   "cell_type": "markdown",
   "id": "097c8274",
   "metadata": {},
   "source": [
    "Do đây là hàm phân bố xác suất nên phải có $$\\frac{64k}{3}=1\\Leftrightarrow k=\\frac{3}{64}.$$\n",
    "Ta vẽ đồ thị như sau:"
   ]
  },
  {
   "cell_type": "code",
   "execution_count": 40,
   "id": "02d2ffde",
   "metadata": {},
   "outputs": [
    {
     "data": {
      "image/png": "[encoded data removed]",
      "text/plain": [
       "<Figure size 432x288 with 1 Axes>"
      ]
     },
     "metadata": {
      "needs_background": "light"
     },
     "output_type": "display_data"
    }
   ],
   "source": [
    "import matplotlib.pyplot as plt\n",
    "x1 = np.linspace(-5,0,100)\n",
    "x2 = np.linspace(0,4,100)\n",
    "x3 = np.linspace(4,6,100)\n",
    "y1 = 0*x1\n",
    "y2 = 3/64*x*x*(4-x)\n",
    "y3 = 0*x3\n",
    "plt.xlabel('x axis')\n",
    "plt.ylabel('y axis')\n",
    "plt.title('Graph')\n",
    "plt.plot(x1, y1)\n",
    "plt.plot(x2, y2)\n",
    "plt.plot(x3, y3)\n",
    "plt.show()"
   ]
  },
  {
   "cell_type": "markdown",
   "id": "fe5f7dec",
   "metadata": {},
   "source": [
    "Để tìm $mod$, ta xét $${f}'(x)={{\\left( \\frac{3}{64}{{x}^{2}}(4-x) \\right)}^{\\prime }}=\\frac{3}{64}(8x-3{{x}^{2}})$$ nên $${f}'(x)=0\\Leftrightarrow x=0,x=\\frac{8}{3}.$$\n",
    "Ta có $${{f}''}(x)=\\frac{3}{64}(8-6x)$$ có đạo hàm cấp hai ${{f}''}\\left( \\frac{8}{3} \\right)<0$ nên $f(x)$ đạt giá trị lớn nhất tại $x=\\frac{8}{3}$, điều này chứng tỏ $mod=8/3$. \n"
   ]
  }
 ],
 "metadata": {
  "kernelspec": {
   "display_name": "Python 3 (ipykernel)",
   "language": "python",
   "name": "python3"
  },
  "language_info": {
   "codemirror_mode": {
    "name": "ipython",
    "version": 3
   },
   "file_extension": ".py",
   "mimetype": "text/x-python",
   "name": "python",
   "nbconvert_exporter": "python",
   "pygments_lexer": "ipython3",
   "version": "3.9.7"
  }
 },
 "nbformat": 4,
 "nbformat_minor": 5
}
