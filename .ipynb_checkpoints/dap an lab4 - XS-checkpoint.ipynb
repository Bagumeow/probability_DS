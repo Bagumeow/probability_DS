{
 "cells": [
  {
   "cell_type": "markdown",
   "id": "5e303550",
   "metadata": {},
   "source": [
    "# LAB 4. BIẾN NGẪU NHIÊN LIÊN TỤC (tiếp)\n",
    "### Xác suất cho Khoa học dữ liệu. Ngày 13/04/2022."
   ]
  },
  {
   "cell_type": "markdown",
   "id": "33272e07",
   "metadata": {},
   "source": [
    "## 1. PHÂN BỐ CHUẨN (GAUSS)."
   ]
  },
  {
   "attachments": {
    "Capture.PNG": {
     "image/png": "[encoded data removed]"
    }
   },
   "cell_type": "markdown",
   "id": "1d5caaf0",
   "metadata": {},
   "source": [
    "Đại lượng ngẫu nhiên $Z$ có phân bố chuẩn tắc (standard normal distribution) nếu hàm mật độ xác suất của nó là $$f(x) = \\frac{1}{\\sqrt{2 \\pi}} e^{-\\frac{x^2}{2}}.$$\n",
    "Đồ thị của nó có dạng hình chuông, đối xứng qua trục tung và đạt cực đại tại $x=0$ như bên dưới\n",
    "![Capture.PNG](attachment:Capture.PNG)\n",
    "Ta chứng minh được kỳ vọng, mod và median của $Z$ đều là $0$, còn phương sai là $1$. Đây là một phân bố đẹp, mang tính tổng quát cho nhiều tình huống trong thực tế. Nó còn giúp ta xấp xỉ được nhiều phân phối khác. <br>\n",
    "Bên cạnh đó, nếu ký hiệu $\\Phi (x)$ là hàm phân bố xác suất của $f(x)$, cũng chính là nguyên hàm của $\\Phi(x)$ thì hàm này có tính chất là $$\\Phi (-x) = 1 - \\Phi (x).$$\n",
    "Tuy nhiên, ta không biểu diễn được biểu thức tường minh của hàm này mà thông thường, ta phải tra bảng công thức. "
   ]
  },
  {
   "cell_type": "markdown",
   "id": "daab5af0",
   "metadata": {},
   "source": [
    "Phân bố chuẩn (normal distribution): đại lượng ngẫu nhiên $X$ có phân bố chuẩn với tham số kỳ vọng, phương sai lần lượt là $\\mu$ và $\\sigma^2 > 0$ nếu đại lượng tương ứng $Z = \\frac{X - \\mu}{\\sigma}$ là một phân bố chuẩn tắc. Ký hiệu là $X \\sim N(\\mu, \\sigma^2).$ "
   ]
  },
  {
   "cell_type": "code",
   "execution_count": 4,
   "id": "8aa53983",
   "metadata": {},
   "outputs": [
    {
     "data": {
      "text/plain": [
       "array([71.44998333, 67.69346019, 64.01216779, 48.54966289, 50.91951757,\n",
       "       86.47383946, 58.27094647, 51.50991548, 58.78149263, 52.22267829,\n",
       "       51.88019912, 48.00713566, 68.36521795, 42.40959813, 64.79468743,\n",
       "       71.48193311, 65.11225117, 77.72927637, 57.12046205, 63.25564776,\n",
       "       60.35646997, 52.34031209, 66.26732508, 66.36954869, 64.65052041,\n",
       "       50.91230674, 49.25758693, 71.55517929, 41.48400663, 58.35044408])"
      ]
     },
     "execution_count": 4,
     "metadata": {},
     "output_type": "execute_result"
    }
   ],
   "source": [
    "#Sinh ngẫu nhiên một phân phối chuẩn, trong đó loc = kỳ vọng, scale = độ lệch chuẩn, size = shape của dữ liệu muốn sinh ra\n",
    "random.normal(loc=0, scale=1.0, size = 6)\n",
    "# Chẳng hạn, sinh ra một phân bố của khối lượng của SV của lớp có 30 người, kỳ vọng ~ 60kg, độ lệch 10kg\n",
    "random.normal(loc=60, scale=10, size = 30)\n",
    "#Ta dùng phân bố này cho các BT dạng giả lập (simulation)"
   ]
  },
  {
   "cell_type": "code",
   "execution_count": 20,
   "id": "d3ce7f04",
   "metadata": {},
   "outputs": [
    {
     "data": {
      "image/png": "[encoded data removed]",
      "text/plain": [
       "<Figure size 432x288 with 1 Axes>"
      ]
     },
     "metadata": {
      "needs_background": "light"
     },
     "output_type": "display_data"
    }
   ],
   "source": [
    "#Dưới đây là code để trực quan một dữ liệu sinh ngẫu nhiên theo phân phối chuẩn tắc\n",
    "import numpy as np\n",
    "from numpy import random\n",
    "import matplotlib.pyplot as plt\n",
    "import seaborn as sns\n",
    "a = random.normal(loc=60, scale=10, size = 1000)\n",
    "sns.histplot(a, color=\"blue\", kde=True, stat=\"frequency\", linewidth=0)\n",
    "#hist = historgram = lược đồ\n",
    "plt.show()"
   ]
  },
  {
   "cell_type": "code",
   "execution_count": 12,
   "id": "27cd8f29",
   "metadata": {},
   "outputs": [
    {
     "name": "stdout",
     "output_type": "stream",
     "text": [
      "Given x, find y = P(X <= x)\n",
      "0.9494974165258963\n",
      "1.64\n"
     ]
    }
   ],
   "source": [
    "#Để tính toán xác suất liên quan đến phân phối chuẩn, ta dùng thư viện scipy như sau\n",
    "import scipy.stats as st\n",
    "print(\"Given x, find y = P(X <= x)\")\n",
    "print(st.norm.cdf(1.64))\n",
    "#cho số, tìm xác suất; ngược lại, cho xác suất, tìm số \n",
    "print(st.norm.ppf(0.9494974165258963))\n",
    "#hàm này giống như hàm ngược của hàm số trên"
   ]
  },
  {
   "cell_type": "markdown",
   "id": "4190c0dc",
   "metadata": {},
   "source": [
    "**Yêu cầu:** (thực hiện trong 1.5 tiết) <br>\n",
    "*Từ các nội dung trên, hãy thực hiện các yêu cầu sau:* <br>\n",
    "1. Giả sử $X$ là đại lượng ngẫu nhiên có phân bố chuẩn với kỳ vọng là $\\mu = 2100$ và độ lệch chuẩn $\\sigma = 200$. <br>\n",
    "a) Hãy sinh ra dãy dữ liệu của $X$ với kích thước $100.$ <br>\n",
    "b) Hãy dùng thư viện Seaborn, trực quan dữ liệu trên. <br>\n",
    "c) Tính $P(X > 2400), P(1700 < X < 2200)$. <br>\n",
    "d) Xác định $a, b$ sao cho $P(X \\le a) = 0.56$ và $P(X > b) = 0.03$. <br>\n",
    "<br>\n",
    "2. Trọng lượng một con bò được nuôi trong trang trại là đại lượng ngẫu nhiên có phân bố chuẩn với kỳ vọng $250kg$ và độ lệch chuẩn $40kg$. <br>\n",
    "a) Hãy sinh ra một bảng dữ liệu của $X$ với kích thước $10 \\times 10.$ <br>\n",
    "b) Hãy dùng thư viện Seaborn, trực quan dữ liệu trên. <br>\n",
    "c) Tính xác suất để con bò nặng hơn $300kg$, nhẹ hơn $150kg$. <br>\n",
    "d) Tính xác suất để khối lượng con bò trong khoảng $(250,270)kg.$ <br>\n",
    "<br>\n",
    "3. Thời gian từ nhà đi đến trường trong học kỳ vừa rồi của sinh viên Bình là một đại lượng ngẫu nhiên $X$ có phân bố chuẩn. Biết rằng $65\\%$ số ngày thì Bình tốn hơn $20$ phút, còn $8 \\%$ số ngày thì Bình tốn hơn $30.$ <br>\n",
    "a) Tìm thời gian trung bình và độ lệch chuẩn của thời gian đi học của Bình. <br>\n",
    "b) Nếu Bình xuất phát từ nhà vào $6h15$ sáng thì xác suất Bình trễ tiết $1$ của IUH là bao nhiêu? <br>\n",
    "c) Bình cần xuất phát vào lúc nào để xác suất kịp học tiết $10$ của IUH là $0.98$? <br>"
   ]
  },
  {
   "cell_type": "code",
   "execution_count": 28,
   "id": "dd6aac6f",
   "metadata": {},
   "outputs": [
    {
     "data": {
      "text/plain": [
       "2130.1938430993555"
      ]
     },
     "execution_count": 28,
     "metadata": {},
     "output_type": "execute_result"
    }
   ],
   "source": [
    "st.norm.ppf(0.56, loc = 2100, scale = 200)"
   ]
  },
  {
   "cell_type": "code",
   "execution_count": 29,
   "id": "7e00a1b9",
   "metadata": {},
   "outputs": [
    {
     "data": {
      "text/plain": [
       "2476.15872163025"
      ]
     },
     "execution_count": 29,
     "metadata": {},
     "output_type": "execute_result"
    }
   ],
   "source": [
    "st.norm.ppf(1 - 0.03, loc = 2100, scale = 200)"
   ]
  },
  {
   "cell_type": "code",
   "execution_count": 26,
   "id": "649a25a6",
   "metadata": {},
   "outputs": [
    {
     "data": {
      "text/plain": [
       "0.9331927987311419"
      ]
     },
     "execution_count": 26,
     "metadata": {},
     "output_type": "execute_result"
    }
   ],
   "source": [
    "st.norm.cdf(1.5, loc = 0, scale = 1)"
   ]
  },
  {
   "cell_type": "code",
   "execution_count": 27,
   "id": "ca89c1ac",
   "metadata": {},
   "outputs": [
    {
     "data": {
      "text/plain": [
       "0.6687123293258339"
      ]
     },
     "execution_count": 27,
     "metadata": {},
     "output_type": "execute_result"
    }
   ],
   "source": [
    "st.norm.cdf(2200, loc = 2100, scale = 200) - st.norm.cdf(1700, loc = 2100, scale = 200)"
   ]
  },
  {
   "cell_type": "markdown",
   "id": "fce87152",
   "metadata": {},
   "source": [
    "## 2. LUẬT SỐ LỚN VÀ ĐỊNH LÝ GIỚI HẠN TRUNG TÂM"
   ]
  },
  {
   "cell_type": "markdown",
   "id": "1dfc2e18",
   "metadata": {},
   "source": [
    "Ta có định lý sau đây (*giới hạn trung tâm*): Nếu đại lượng ngẫu nhiên $X$ là tổng của một số rất lớn các đại lượng ngẫu nhiên độc lập và sự đóng góp, ảnh hưởng của mỗi đại lượng là không đáng kể thì $X$ sẽ có phân bố chuẩn hoặc xấp xỉ một phân bố chuẩn. Điều này cho ta quy các bài toán phức tạp, khó tính toán được bằng cách thông thường, về phân phối chuẩn và giải quyết nó dễ dàng. <br>\n",
    "Bên cạnh đó còn có quy tắc sau (*luật số lớn*): Giả sử $X_1, X_2, ..., X_n$ là dãy các đại lượng ngẫu nhiên độc lập có cùng phân bố và có kỳ vọng là $\\mu$, phương sai là $\\sigma^2$ thì trung bình cộng $X = \\frac{X_1+X_2+...+X_n}{n}$ sẽ hội tụ tới $\\mu.$ <br>\n",
    "<br>\n",
    "Bên dưới, ta sẽ nghiên cứu một số xấp xỉ của các phân bố quen thuộc dựa theo định lý và quy luật ở trên: <br>"
   ]
  },
  {
   "cell_type": "markdown",
   "id": "3f593ac0",
   "metadata": {},
   "source": [
    "1. Cho dãy $(X_n)$ là dãy các đại lượng ngẫu nhiên tuân theo phân bố nhị thức, trong đó với mỗi $n$ thì $X_n$ là phân bố nhị thức với tham số $(n,p_n).$ Giả sử rằng tồn tại giới hạn $\\lim n \\cdot p_n = \\lambda.$ Khi đó $X_n$ tuân theo phân bố Poisson với tham số $\\lambda.$ <br>\n",
    "Như vậy, với $n$ khá lớn và $p_n$ bé thì xấp xỉ là tốt, thông thường thì $n>50$. <br>\n",
    "2. Cho dãy $(X_n)$ là dãy các đại lượng ngẫu nhiên độc lập nhau có cùng một phân bố với kỳ vọng $EX = \\mu$ và phương sai $DX = \\sigma^2$. Đặt $$S_n = \\frac{X_1+X_2+...+X_n - n \\mu}{\\sqrt{n \\sigma^2}}$$ thì ta có $P(S_n < x) = P(Z < x)$ với $Z$ là phân bố chuẩn tắc. Chú ý thêm rằng với số nguyên x, ta có thể điều chỉnh $P(X > x) \\to P(X > x+0.5)$ hoặc $P(X < x) \\to P(X < x - 0.5)$ để xác suất xấp xỉ chuẩn hơn."
   ]
  },
  {
   "cell_type": "code",
   "execution_count": 52,
   "id": "10176020",
   "metadata": {},
   "outputs": [
    {
     "data": {
      "text/plain": [
       "0.04652270163422055"
      ]
     },
     "execution_count": 52,
     "metadata": {},
     "output_type": "execute_result"
    }
   ],
   "source": [
    "import math\n",
    "math.comb(100,4)*(0.015)**4 * (1-0.015)**96"
   ]
  },
  {
   "cell_type": "code",
   "execution_count": 51,
   "id": "94f49d9b",
   "metadata": {},
   "outputs": [
    {
     "data": {
      "text/plain": [
       "0.04706651815630941"
      ]
     },
     "execution_count": 51,
     "metadata": {},
     "output_type": "execute_result"
    }
   ],
   "source": [
    "lamda = 0.015*100\n",
    "from scipy import stats\n",
    "x = stats.poisson(lamda)\n",
    "x.pmf(4)"
   ]
  },
  {
   "cell_type": "markdown",
   "id": "91cd356f",
   "metadata": {},
   "source": [
    "**Yêu cầu:** (thực hiện trong 1.5 tiết) <br>\n",
    "*Từ các nội dung trên, hãy thực hiện các yêu cầu sau:* <br>\n",
    "1. Một xưởng in sách thấy rằng trung bình một quyển sách $500$ trang thì có chứa $300$ lỗi. Tìm xác suất để trong một trang sách có đúng $2$ lỗi, có ít nhất $2$ lỗi? Hãy giải thích tại sao không làm trực tiếp mà phải dùng xấp xỉ, và lý do tại sao việc xấp xỉ ở đây là hợp lệ. <br>\n",
    "2. Xác suất làm một chiếc đinh ốc không đúng quy cách là $0.015$ và người ta xếp đinh ốc vào từng hộp, mỗi hộp có $100$ cái. Tính xác suất để hộp chứa toàn đinh ốc đúng quy cách. Tìm $n$ sao cho xác suất để lấy được $100$ đinh ốc đúng quy cách trong $n$ cái là không nhỏ hơn $0.8$. <br>\n",
    "3. Gieo một con xúc sắc đối xứng tổng cộng $30$ lần. Tính xác suất để tổng số nút thu được là không vượt quá $100$? Là lớn hơn $120?$ <br>\n",
    "4. Trong khu phố có: $180$ hộ dân có $2$ người có lượng nước sinh hoạt sử dụng là đại lượng ngẫu nhiên có giá trị trung bình $0.6m^3$, độ lệch chuẩn $0.04m^3$ và $50$ hộ có hơn $2$ người có lượng nước sinh hoạt sử dụng là đại lượng ngẫu nhiên có giá trị trung bình $1.9m^3$, độ lệch chuẩn $0.14m^3$. Tính xác suất để trong một ngày, khu phố đó dùng hơn $205m^3$ nước."
   ]
  },
  {
   "cell_type": "code",
   "execution_count": null,
   "id": "a6c732d8",
   "metadata": {},
   "outputs": [],
   "source": [
    "#Công thức để tính kỳ vọng và độ lệch chuẩn, phương sai của tổng 2 biến ngẫu nhiên độc lập\n",
    "#180 hộ --> E1 = 180 * 0.6 = ..., #50 hộ --> E2 = 1.9 * 50\n",
    "#E = E1 + E2 = ...\n",
    "#Độ lệch 1 = 0.04 --> Var1 = (0.04)^2 của 1 hộ --> Var của 180 hộ = (0.04)^2 * 180\n",
    "#Độ lệch 2 = 0.14 --> Var2 = (0.14)^2 của 1 hộ --> Var của 50 hộ = (0.14)^2 * 50\n",
    "#Var = Var1 + Var2 = 180*(0.04)^2 + 50*(0.14)^2 --> Độ lệch chuẩn của tổng = sqrt(Var)"
   ]
  },
  {
   "cell_type": "code",
   "execution_count": 77,
   "id": "556369d0",
   "metadata": {},
   "outputs": [
    {
     "data": {
      "text/plain": [
       "0.03785722250355496"
      ]
     },
     "execution_count": 77,
     "metadata": {},
     "output_type": "execute_result"
    }
   ],
   "source": [
    "mean = 180 * 0.6 + 1.9 * 50\n",
    "Std = math.sqrt(180*0.04**2 + 50*0.14**2)\n",
    "st.norm.sf(205, loc = mean, scale = Std)"
   ]
  },
  {
   "cell_type": "markdown",
   "id": "0cd90544",
   "metadata": {},
   "source": [
    "3. Xét 1 con xúc sắc có 6 mặt, xác suất của mỗi mặt là 1/6 nên kỳ vọng = (1+2+...+6)/6 = 3.5;\n",
    "phương sai = (1^2+2^2+...+6^2)/6 - (3.5)^2"
   ]
  },
  {
   "cell_type": "code",
   "execution_count": 54,
   "id": "880e9374",
   "metadata": {},
   "outputs": [
    {
     "data": {
      "text/plain": [
       "87.49999999999999"
      ]
     },
     "execution_count": 54,
     "metadata": {},
     "output_type": "execute_result"
    }
   ],
   "source": [
    "((1*1+2*2+3*3+4*4+5*5+6*6)/6-(3.5)*(3.5)) * 30\n",
    "#Do đó, khi gieo xúc sắc tổng cộng 30 lần, ta sẽ được 30 phân bố xác suất độc lập, nên theo định lý giới hạn trung tâm\n",
    "#ta có tổng (X1+X2+...+X30) theo phân bố chuẩn có mean = 3.5*30=105, phương sai = (2.9167)*30 ~ 87.5"
   ]
  },
  {
   "cell_type": "code",
   "execution_count": 63,
   "id": "cb758415",
   "metadata": {},
   "outputs": [
    {
     "data": {
      "text/plain": [
       "0.29649004900871334"
      ]
     },
     "execution_count": 63,
     "metadata": {},
     "output_type": "execute_result"
    }
   ],
   "source": [
    "import scipy.stats as st\n",
    "st.norm.cdf(100, loc=105, scale=math.sqrt(87.5))"
   ]
  },
  {
   "cell_type": "code",
   "execution_count": 64,
   "id": "220a68f9",
   "metadata": {},
   "outputs": [
    {
     "data": {
      "text/plain": [
       "0.05440471502027289"
      ]
     },
     "execution_count": 64,
     "metadata": {},
     "output_type": "execute_result"
    }
   ],
   "source": [
    "1-st.norm.cdf(120, loc=105, scale=math.sqrt(87.5))"
   ]
  },
  {
   "cell_type": "code",
   "execution_count": 65,
   "id": "96233c0e",
   "metadata": {},
   "outputs": [
    {
     "data": {
      "text/plain": [
       "0.05440471502027284"
      ]
     },
     "execution_count": 65,
     "metadata": {},
     "output_type": "execute_result"
    }
   ],
   "source": [
    "st.norm.sf(120,loc=105,scale=math.sqrt(87.5))"
   ]
  },
  {
   "cell_type": "markdown",
   "id": "20194c24",
   "metadata": {},
   "source": [
    "**BT bổ sung**\n",
    "* Bài 1. Xí nghiệp sản xuất máy tính có xác suất làm ra phế phẩm là 0,02. Chọn ngẫu nhiên 250 máy tính để kiểm tra. Tính xác suất để:\n",
    "- a) Có đúng 2 máy phế phẩm.\n",
    "- b) Có không quá 3 máy phế phẩm.\n",
    "* Bài 2. Xác suất để hạt giống không nảy mầm là 0,03. Gieo 150 hạt, tính xác suất có ít nhất 6 hạt không nảy mầm.\n",
    "* Bài 3. Khu nhà có 160 hộ gia đình. Xác suất để mỗi hộ có sự cố về điện vào mỗi buổi tối là 0,02. Tính xác sất để trong một buổi tối:\n",
    "- a) Có đúng 4 gia đình gặp sự cố về điện.\n",
    "- b) Số gia đình gặp sự cố về điện là 2 tới 5."
   ]
  },
  {
   "cell_type": "code",
   "execution_count": 96,
   "id": "16192ea2",
   "metadata": {},
   "outputs": [
    {
     "name": "stdout",
     "output_type": "stream",
     "text": [
      "Xác suất có 2 phế phẩm:  0.08422433748856832\n",
      "Xác suất có <= 3 phế phẩm:  0.2650259152973616\n",
      "Xác suất có >= 6 hạt:  0.29706956513917254\n",
      "Xác suất có >= 6 hạt:  0.2970695651391726\n",
      "Xác suất có 4 GĐ cúp điện:  0.17809278666174716\n",
      "Xác suất có 2 --> 5 GĐ cúp điện:  0.7233906378216842\n",
      "Xác suất có 2 --> 5 GĐ cúp điện:  0.7233906378216846\n"
     ]
    }
   ],
   "source": [
    "#Cả 3 bài trên đều dùng xấp xỉ thành phân bố Poisson\n",
    "#Bài 1.\n",
    "lamda1 = 0.02 * 250\n",
    "x1 = st.poisson(lamda1)\n",
    "print(\"Xác suất có 2 phế phẩm: \", x1.pmf(2)) #P(X = x)\n",
    "print(\"Xác suất có <= 3 phế phẩm: \", x1.cdf(3)) #P(X <= x)\n",
    "#Bài 2.\n",
    "lamda2 = 0.03 * 150\n",
    "x2 = st.poisson(lamda2)\n",
    "print(\"Xác suất có >= 6 hạt: \", x2.sf(5)) #P(X > x)\n",
    "print(\"Xác suất có >= 6 hạt: \", 1 - x2.cdf(5)) #P(X > x)\n",
    "#Bài 3.\n",
    "lamda3 = 0.02 * 160\n",
    "x3 = st.poisson(lamda3)\n",
    "print(\"Xác suất có 4 GĐ cúp điện: \", x3.pmf(4))\n",
    "print(\"Xác suất có 2 --> 5 GĐ cúp điện: \", x3.pmf(2) + x3.pmf(3) + x3.pmf(4) + x3.pmf(5))\n",
    "print(\"Xác suất có 2 --> 5 GĐ cúp điện: \", x3.cdf(5) - x3.cdf(1))"
   ]
  },
  {
   "cell_type": "markdown",
   "id": "70666861",
   "metadata": {},
   "source": [
    "**BT bổ sung**\n",
    "* Bài 4. Trong kho có 100 lô hàng, mỗi lô có 90 sản phẩm tốt và 10 sản phẩm xấu. Với mỗi lô, người ta kiểm tra ngẫu nhiên 5 sản phẩm theo phân bố nhị thức.\n",
    "- a) Tính kỳ vọng và độ lệch chuẩn của số sản phẩm xấu của mỗi lô hàng khi chọn ra 5 sản phẩm như thế.\n",
    "- b) Tính xác suất để tổng số sản phẩm xấu trong 100 lô là từ 40 đến 50.\n"
   ]
  },
  {
   "cell_type": "code",
   "execution_count": 106,
   "id": "d20d89a8",
   "metadata": {},
   "outputs": [
    {
     "name": "stdout",
     "output_type": "stream",
     "text": [
      "Mean =  0.5\n",
      "Độ lệch =  0.6708203932499369\n"
     ]
    }
   ],
   "source": [
    "#Xác suất để có SP xấu là p = 10/100 = 0.1; n = 5\n",
    "x = st.binom(5, 0.1)\n",
    "print(\"Mean = \", x.mean())\n",
    "print(\"Độ lệch = \", x.std())"
   ]
  },
  {
   "cell_type": "code",
   "execution_count": 116,
   "id": "6f0c68d7",
   "metadata": {},
   "outputs": [
    {
     "data": {
      "text/plain": [
       "0.4319814359429282"
      ]
     },
     "execution_count": 116,
     "metadata": {},
     "output_type": "execute_result"
    }
   ],
   "source": [
    "mean1 = x.mean()*100\n",
    "std1 = math.sqrt(x.var()*100)\n",
    "st.norm.cdf(50, loc = mean1, scale = std1) - st.norm.cdf(40, loc = mean1, scale = std1)"
   ]
  }
 ],
 "metadata": {
  "kernelspec": {
   "display_name": "Python 3 (ipykernel)",
   "language": "python",
   "name": "python3"
  },
  "language_info": {
   "codemirror_mode": {
    "name": "ipython",
    "version": 3
   },
   "file_extension": ".py",
   "mimetype": "text/x-python",
   "name": "python",
   "nbconvert_exporter": "python",
   "pygments_lexer": "ipython3",
   "version": "3.9.7"
  }
 },
 "nbformat": 4,
 "nbformat_minor": 5
}
