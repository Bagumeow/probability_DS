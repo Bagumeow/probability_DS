{
 "cells": [
  {
   "cell_type": "code",
   "execution_count": 1,
   "metadata": {},
   "outputs": [],
   "source": [
    "from IPython.display import SVG, Math\n",
    "from fractions import Fraction as F\n",
    "import matplotlib.pyplot as plt\n",
    "plt.style.use('seaborn-notebook')\n",
    "import random"
   ]
  },
  {
   "cell_type": "markdown",
   "metadata": {},
   "source": [
    "# Giới thiệu Xác suất (Introduction to Probability)\n",
    "\n",
    "**XÁC SUẤT TRONG KHOA HỌC DỮ LIỆU**\n"
   ]
  },
  {
   "cell_type": "markdown",
   "metadata": {},
   "source": [
    "## Chủ đề"
   ]
  },
  {
   "cell_type": "markdown",
   "metadata": {},
   "source": [
    "1. Cài đặt và dùng Jupyter Notebook\n",
    "2. Giới thiệu xác suất\n",
    "3. Tính xác suất bằng phương pháp mô phỏng"
   ]
  },
  {
   "cell_type": "markdown",
   "metadata": {},
   "source": [
    "## Cài đặt và dùng Jupyter Notebook"
   ]
  },
  {
   "cell_type": "markdown",
   "metadata": {},
   "source": [
    "* Cài đặt [Anaconda](https://www.anaconda.com/)\n",
    "* Đọc hướng dẫn dùng [Jupyter Lab](https://jupyterlab.readthedocs.io/en/stable/)\n",
    "* Đọc hướng dẫn [Markdown](https://daringfireball.net/projects/markdown/)\n",
    "* Đọc hướng dẫn [HTML](https://www.w3schools.com/html/)\n",
    "* Đọc hướng dẫn [LaTeX/Mathematics](https://en.wikibooks.org/wiki/LaTeX/Mathematics)\n",
    "* Học [Python cơ bản](https://github.com/vqhBook/python)"
   ]
  },
  {
   "cell_type": "markdown",
   "metadata": {},
   "source": [
    "## Câu hỏi mở đầu"
   ]
  },
  {
   "cell_type": "markdown",
   "metadata": {},
   "source": [
    "1. Bốc \"đại\" 1 viên bi trong hộp 50 bi gồm 20 đen và 30 đỏ, khả năng bốc trúng màu nào lớn hơn?"
   ]
  },
  {
   "cell_type": "markdown",
   "metadata": {},
   "source": [
    "2. Gieo 2 con xúc xắc \"đồng chất\", khả năng ra tổng là 10 hay 11 lớn hơn và lớn hơn bao nhiêu?"
   ]
  },
  {
   "cell_type": "markdown",
   "metadata": {},
   "source": [
    "3. Tung 1 đồng xu \"đồng chất\" 3 lần, xác suất có ngửa nhiều hơn sấp?"
   ]
  },
  {
   "cell_type": "markdown",
   "metadata": {},
   "source": [
    "4. Xác suất có ít nhất 2 người cùng sinh nhật trong $k = 50$ người là bao nhiêu?"
   ]
  },
  {
   "cell_type": "markdown",
   "metadata": {
    "variables": {
     "k": {},
     "t": {}
    }
   },
   "source": [
    "\n",
    "5. Ném phi tiêu vào hình tròn C (màu xanh), nếu phi tiêu rơi vào hình tròn D (màu đỏ) thì thắng. Giả sử phi tiêu rơi vào một điểm ngẫu nhiên trên C, tính xác suất thắng biết bán kính của D bằng $t = \\frac{1}{2}$  của C? (Xem hình dưới)"
   ]
  },
  {
   "cell_type": "code",
   "execution_count": 2,
   "metadata": {},
   "outputs": [
    {
     "data": {
      "image/svg+xml": [
       "<svg height=\"200\" width=\"200\">\n",
       "    <circle fill=\"blue\" cx=\"100.0\" cy=\"100.0\" r=\"80.0\"/>\n",
       "    <circle fill=\"red\" cx=\"100.0\" cy=\"100.0\" r=\"40.0\"/>\n",
       "    <text x=\"100.0\" y=\"52.0\" fill=\"black\">C</text>\n",
       "    <text x=\"100.0\" y=\"100.0\" fill=\"white\">D</text>\n",
       "</svg>"
      ],
      "text/plain": [
       "<IPython.core.display.SVG object>"
      ]
     },
     "metadata": {},
     "output_type": "display_data"
    }
   ],
   "source": [
    "t = 1/2\n",
    "w = 200; r1 = w/2 * 0.8; r2 = t*r1\n",
    "\n",
    "figure = SVG(f\"\"\"\n",
    "<svg height=\"{w}\" width=\"{w}\">\n",
    "    <circle fill=\"blue\" cx=\"{w/2}\" cy=\"{w/2}\" r=\"{r1}\" />\n",
    "    <circle fill=\"red\" cx=\"{w/2}\" cy=\"{w/2}\" r=\"{r2}\" />\n",
    "    <text x=\"{w/2}\" y=\"{w/2 - 1.2*r2}\" fill=\"black\">C</text>\n",
    "    <text x=\"{w/2}\" y=\"{w/2}\" fill=\"white\">D</text>\n",
    "</svg>\"\"\")\n",
    "display(figure)"
   ]
  },
  {
   "cell_type": "markdown",
   "metadata": {},
   "source": [
    "##  Trả lời câu hỏi"
   ]
  },
  {
   "cell_type": "markdown",
   "metadata": {},
   "source": [
    "### Câu 1"
   ]
  },
  {
   "cell_type": "markdown",
   "metadata": {},
   "source": [
    "Bốc \"đại\" 1 viên bi trong hộp 50 bi gồm 20 đen và 30 đỏ, khả năng bốc trúng màu nào lớn hơn?"
   ]
  },
  {
   "cell_type": "markdown",
   "metadata": {},
   "source": [
    "Không gian mẫu $\\Omega = \\{50 \\text{ viên bi}\\}, |\\Omega| = 50$."
   ]
  },
  {
   "cell_type": "markdown",
   "metadata": {},
   "source": [
    "Đặt các biến cố: $A$ là \"bốc được bi đỏ\", $B$ là \"bốc được bi đen\". Như vậy:\n",
    "* $A = \\{r_1, r_2, ..., r_{30}\\}, |A| = 30$\n",
    "* $B = \\{b_1, b_2, ..., b_{20}\\}, |B| = 20$"
   ]
  },
  {
   "cell_type": "markdown",
   "metadata": {},
   "source": [
    "Dùng mô hình xác suất đơn giản, ta có xác suất bốc được bi đỏ là:\n",
    "$$P(A) = \\frac{|A|}{|\\Omega|} = \\frac{30}{50} = 0.6$$"
   ]
  },
  {
   "cell_type": "code",
   "execution_count": 3,
   "metadata": {},
   "outputs": [
    {
     "name": "stdout",
     "output_type": "stream",
     "text": [
      "<class 'fractions.Fraction'>\n",
      "3/5 0.6\n"
     ]
    }
   ],
   "source": [
    "P_A = F(30, 50)\n",
    "print(type(P_A))\n",
    "print(P_A, float(P_A))"
   ]
  },
  {
   "cell_type": "markdown",
   "metadata": {},
   "source": [
    "Xác suất bốc được bi đen là:\n",
    "$$P(B) = \\frac{|B|}{|\\Omega|} = \\frac{20}{50}$$"
   ]
  },
  {
   "cell_type": "code",
   "execution_count": 4,
   "metadata": {},
   "outputs": [
    {
     "name": "stdout",
     "output_type": "stream",
     "text": [
      "2/5 0.4\n"
     ]
    }
   ],
   "source": [
    "P_B = F(20, 50)\n",
    "print(P_B, float(P_B))"
   ]
  },
  {
   "cell_type": "markdown",
   "metadata": {
    "variables": {
     "20/50": {},
     "30/50": {}
    }
   },
   "source": [
    "Vì $P(A) > P(B)$ nên khả năng bốc được bi màu đỏ lớn hơn."
   ]
  },
  {
   "cell_type": "markdown",
   "metadata": {},
   "source": [
    "### Câu 2"
   ]
  },
  {
   "cell_type": "markdown",
   "metadata": {},
   "source": [
    "Gieo 2 con xúc xắc \"đồng chất\", khả năng ra tổng là 10 hay 11 lớn hơn và lớn hơn bao nhiêu?"
   ]
  },
  {
   "cell_type": "markdown",
   "metadata": {},
   "source": [
    "Không gian mẫu $\\Omega = \\{(x, y): x, y \\in \\{1, 2, ..., 6\\}\\} = \\{1, 2, ..., 6\\}^2, |\\Omega| = 6^2 = 36$."
   ]
  },
  {
   "cell_type": "markdown",
   "metadata": {},
   "source": [
    "Đặt các biến cố: $A$ là \"gieo được tổng là 10\", $B$ là \"gieo được tổng là 11\". Như vậy:\n",
    "* $A = \\{(4, 6), (5, 5), (6, 4)\\}, |A| = 3$\n",
    "* $B = \\{(5, 6), (6, 5)\\}, |B| = 2$"
   ]
  },
  {
   "cell_type": "markdown",
   "metadata": {},
   "source": [
    "Dùng mô hình xác suất đơn giản, ta có xác suất gieo được tổng là 10: \n",
    "$$P(A) = \\frac{|A|}{|\\Omega|} = \\frac{3}{36}$$"
   ]
  },
  {
   "cell_type": "code",
   "execution_count": 4,
   "metadata": {},
   "outputs": [
    {
     "name": "stdout",
     "output_type": "stream",
     "text": [
      "1/12\n"
     ]
    }
   ],
   "source": [
    "P_A = F(3, 36)\n",
    "print(P_A)"
   ]
  },
  {
   "cell_type": "markdown",
   "metadata": {},
   "source": [
    "Xác suất gieo được tổng là 11: \n",
    "$$P(B) = \\frac{|B|}{|\\Omega|} = \\frac{2}{36}$$"
   ]
  },
  {
   "cell_type": "code",
   "execution_count": 5,
   "metadata": {},
   "outputs": [
    {
     "name": "stdout",
     "output_type": "stream",
     "text": [
      "1/18\n"
     ]
    }
   ],
   "source": [
    "P_B = F(2, 36)\n",
    "print(P_B)"
   ]
  },
  {
   "cell_type": "markdown",
   "metadata": {
    "variables": {
     "3/2": {},
     "6**2": {},
     "f\"{2/6**2:.2f}\"": {},
     "f\"{3/6**2:.2f}\"": {}
    }
   },
   "source": [
    "Vậy xác suất gieo được tổng 10 là lớn hơn và gấp:"
   ]
  },
  {
   "cell_type": "code",
   "execution_count": 8,
   "metadata": {},
   "outputs": [
    {
     "data": {
      "text/plain": [
       "1.5"
      ]
     },
     "execution_count": 8,
     "metadata": {},
     "output_type": "execute_result"
    }
   ],
   "source": [
    "(3/36)/(2/36)"
   ]
  },
  {
   "cell_type": "code",
   "execution_count": 7,
   "metadata": {},
   "outputs": [
    {
     "name": "stdout",
     "output_type": "stream",
     "text": [
      "3/2 1.5\n"
     ]
    }
   ],
   "source": [
    "print(P_A/P_B, float(P_A/P_B))"
   ]
  },
  {
   "cell_type": "markdown",
   "metadata": {},
   "source": [
    "lần xác suất gieo được tổng 11."
   ]
  },
  {
   "cell_type": "markdown",
   "metadata": {},
   "source": [
    "### Câu 3"
   ]
  },
  {
   "cell_type": "markdown",
   "metadata": {},
   "source": [
    "Tung 1 đồng xu \"đồng chất\" 3 lần, xác suất có ngửa nhiều hơn sấp?"
   ]
  },
  {
   "cell_type": "markdown",
   "metadata": {},
   "source": [
    "Không gian mẫu $\\Omega = \\{S, N\\}^3, |\\Omega| = 2^3 = 8$."
   ]
  },
  {
   "cell_type": "markdown",
   "metadata": {},
   "source": [
    "Đặt $A$ là biến cố \"được ngửa nhiều hơn sấp\". Như vậy:\n",
    "$$A = \\{(N, N, N), (N, N, S), (N, S, N), (S, N, N)\\}, |A| = 4$$"
   ]
  },
  {
   "cell_type": "markdown",
   "metadata": {},
   "source": [
    "Dùng mô hình xác suất đơn giản, ta có: \n",
    "$$P(A) = \\frac{|A|}{|\\Omega|} = \\frac{4}{2^3}$$"
   ]
  },
  {
   "cell_type": "code",
   "execution_count": 9,
   "metadata": {},
   "outputs": [
    {
     "name": "stdout",
     "output_type": "stream",
     "text": [
      "1/2\n"
     ]
    }
   ],
   "source": [
    "P_A = F(4, 2**3)\n",
    "print(P_A)"
   ]
  },
  {
   "cell_type": "markdown",
   "metadata": {},
   "source": [
    "### Câu 4"
   ]
  },
  {
   "cell_type": "markdown",
   "metadata": {},
   "source": [
    "Xác suất có ít nhất 2 người cùng sinh nhật trong  𝑘=50  người là bao nhiêu?"
   ]
  },
  {
   "cell_type": "markdown",
   "metadata": {},
   "source": [
    "Để đơn giản ta giả sử 1 năm có $n = 365$ ngày và ngày sinh của mọi người là ngẫu nhiên. Ta tìm xác suất có ít nhất 2 người cùng sinh nhật trong $k = 50$ người."
   ]
  },
  {
   "cell_type": "code",
   "execution_count": 4,
   "metadata": {},
   "outputs": [],
   "source": [
    "n = 365\n",
    "k = 50\n",
    "\n",
    "days = r\"\\{1, 2, ..., %d\\}\" % n \n",
    "O_tex = Math(r\"\\Omega = %s^{%d}\" % (days, k))\n",
    "Osize_tex = Math(r\"|\\Omega| = %d^{%d}\" % (n, k))\n",
    "B_tex = Math(r\"B = \\{\\text{chỉnh hợp chọn } %d \\text{ của } %s\\}\" % (k, days))\n",
    "Bsize_tex = Math(r\"|B| = P_{%d}^{%d} = \\frac{%d!}{%d!}\" % (n, k, n, k))"
   ]
  },
  {
   "cell_type": "code",
   "execution_count": 14,
   "metadata": {},
   "outputs": [
    {
     "data": {
      "text/latex": [
       "$\\displaystyle |\\Omega| = 365^{50}$"
      ],
      "text/plain": [
       "<IPython.core.display.Math object>"
      ]
     },
     "execution_count": 14,
     "metadata": {},
     "output_type": "execute_result"
    }
   ],
   "source": [
    "Osize_tex "
   ]
  },
  {
   "cell_type": "markdown",
   "metadata": {},
   "source": [
    "Không gian mẫu:"
   ]
  },
  {
   "cell_type": "code",
   "execution_count": 17,
   "metadata": {},
   "outputs": [
    {
     "data": {
      "text/latex": [
       "$\\displaystyle \\Omega = \\{1, 2, ..., 365\\}^{50}$"
      ],
      "text/plain": [
       "<IPython.core.display.Math object>"
      ]
     },
     "metadata": {},
     "output_type": "display_data"
    },
    {
     "data": {
      "text/latex": [
       "$\\displaystyle |\\Omega| = 365^{50}$"
      ],
      "text/plain": [
       "<IPython.core.display.Math object>"
      ]
     },
     "metadata": {},
     "output_type": "display_data"
    }
   ],
   "source": [
    "display(O_tex, Osize_tex)"
   ]
  },
  {
   "cell_type": "markdown",
   "metadata": {},
   "source": [
    "Đặt các biến cố: $A$ là \"có ít nhất 2 người cùng ngày sinh\", $B$ là \"không có người nào cùng ngày sinh\". Như vậy, $A = B^c$ và:"
   ]
  },
  {
   "cell_type": "code",
   "execution_count": 18,
   "metadata": {},
   "outputs": [
    {
     "data": {
      "text/latex": [
       "$\\displaystyle B = \\{\\text{chỉnh hợp chọn } 50 \\text{ của } \\{1, 2, ..., 365\\}\\}$"
      ],
      "text/plain": [
       "<IPython.core.display.Math object>"
      ]
     },
     "metadata": {},
     "output_type": "display_data"
    },
    {
     "data": {
      "text/latex": [
       "$\\displaystyle |B| = P_{365}^{50} = \\frac{365!}{50!}$"
      ],
      "text/plain": [
       "<IPython.core.display.Math object>"
      ]
     },
     "metadata": {},
     "output_type": "display_data"
    }
   ],
   "source": [
    "display(B_tex, Bsize_tex)"
   ]
  },
  {
   "cell_type": "markdown",
   "metadata": {},
   "source": [
    "Dùng mô hình xác suất đơn giản, ta có: \n",
    "$$P(B) = \\frac{|B|}{|\\Omega|}$$"
   ]
  },
  {
   "cell_type": "code",
   "execution_count": 14,
   "metadata": {
    "scrolled": true
   },
   "outputs": [
    {
     "name": "stdout",
     "output_type": "stream",
     "text": [
      "0.0296\n"
     ]
    }
   ],
   "source": [
    "def perm(n, k):\n",
    "    p = 1\n",
    "    for i in range(n - k + 1, n + 1):\n",
    "        p *= i\n",
    "    return p\n",
    "\n",
    "P_B = perm(n, k) / n**k\n",
    "print(f\"{P_B:.4f}\")"
   ]
  },
  {
   "cell_type": "code",
   "execution_count": 11,
   "metadata": {},
   "outputs": [],
   "source": [
    "import numpy as np\n",
    "import math"
   ]
  },
  {
   "cell_type": "code",
   "execution_count": 12,
   "metadata": {},
   "outputs": [
    {
     "data": {
      "text/plain": [
       "0.0296264204220116"
      ]
     },
     "execution_count": 12,
     "metadata": {},
     "output_type": "execute_result"
    }
   ],
   "source": [
    "P_b = math.perm(n,k)/pow(n,k)\n",
    "P_b"
   ]
  },
  {
   "cell_type": "markdown",
   "metadata": {
    "variables": {
     "\"%.2f\" % P_A": {},
     "\"%.2f\" % P_B": {},
     "B_tex": {},
     "Bsize_tex": {},
     "O_tex": {},
     "Osize_tex": {},
     "k": {},
     "n": {}
    }
   },
   "source": [
    "Do đó xác suất có ít nhất 2 người cùng sinh nhật là:\n",
    "$$P(A) = 1 - P(B)$$"
   ]
  },
  {
   "cell_type": "code",
   "execution_count": 20,
   "metadata": {},
   "outputs": [
    {
     "name": "stdout",
     "output_type": "stream",
     "text": [
      "0.9704\n"
     ]
    }
   ],
   "source": [
    "P_A = 1 - P_B\n",
    "print(f\"{P_A:.4f}\")"
   ]
  },
  {
   "cell_type": "markdown",
   "metadata": {},
   "source": [
    "Ta khảo sát thêm sự phụ thuộc của $p = P(A)$ vào số người $k$."
   ]
  },
  {
   "cell_type": "code",
   "execution_count": 84,
   "metadata": {},
   "outputs": [
    {
     "data": {
      "image/png": "[encoded data removed]",
      "text/plain": [
       "<Figure size 800x550 with 1 Axes>"
      ]
     },
     "metadata": {},
     "output_type": "display_data"
    }
   ],
   "source": [
    "k_list = range(0, 60)\n",
    "P_list = [1 - perm(365, k)/365**k for k in k_list]\n",
    "P_Ak = 1 - perm(365, k)/365**k\n",
    "\n",
    "plt.plot(k_list, P_list)\n",
    "plt.xlabel(\"k\")\n",
    "plt.ylabel(\"p\")\n",
    "plt.title(\"Khảo sát xác suất có ít nhất 2 người cùng sinh nhật trong k người\")\n",
    "plt.text(k, P_Ak, f\"k = {k}, p = {P_Ak:.2f}\")\n",
    "plt.grid(True)\n",
    "plt.show()"
   ]
  },
  {
   "cell_type": "markdown",
   "metadata": {},
   "source": [
    "### Câu 5"
   ]
  },
  {
   "cell_type": "markdown",
   "metadata": {},
   "source": [
    "Không gian mẫu $\\Omega$ = \"Hình tròn C\" với diện tích $|\\Omega| = \\pi r^2$"
   ]
  },
  {
   "cell_type": "markdown",
   "metadata": {},
   "source": [
    "Đặt biến cố: $A$ là \"phi tiêu rơi vào hình tròn D\" tức là \"thắng\" thì $A$ = \"Hình tròn D\" với diện tích:"
   ]
  },
  {
   "cell_type": "code",
   "execution_count": 15,
   "metadata": {},
   "outputs": [
    {
     "data": {
      "text/latex": [
       "$\\displaystyle |A| = \\pi ({0.5}r)^2$"
      ],
      "text/plain": [
       "<IPython.core.display.Math object>"
      ]
     },
     "metadata": {},
     "output_type": "display_data"
    }
   ],
   "source": [
    "Asize_tex = Math(r\"|A| = \\pi ({%g}r)^2\" % t)\n",
    "display(Asize_tex)"
   ]
  },
  {
   "cell_type": "markdown",
   "metadata": {},
   "source": [
    "Dùng mô hình xác suất hình học, ta có: \n",
    "$$P(A) = \\frac{|A|}{|\\Omega|}$$"
   ]
  },
  {
   "cell_type": "code",
   "execution_count": 16,
   "metadata": {
    "variables": {
     "Asize_tex": {},
     "f\"{t**2:0.2f}\"": {},
     "ratio_tex": {}
    }
   },
   "outputs": [
    {
     "data": {
      "text/latex": [
       "$\\displaystyle \\frac{\\pi ({0.5}r)^2}{\\pi r^2} = (0.5)^2$"
      ],
      "text/plain": [
       "<IPython.core.display.Math object>"
      ]
     },
     "metadata": {},
     "output_type": "display_data"
    }
   ],
   "source": [
    "ratio_tex = Math(r\"\\frac{\\pi ({%g}r)^2}{\\pi r^2} = (%g)^2\" % (t, t))\n",
    "display(ratio_tex)"
   ]
  },
  {
   "cell_type": "code",
   "execution_count": 17,
   "metadata": {},
   "outputs": [
    {
     "name": "stdout",
     "output_type": "stream",
     "text": [
      "0.25\n"
     ]
    }
   ],
   "source": [
    "print(f\"{t**2:0.2f}\")"
   ]
  },
  {
   "cell_type": "markdown",
   "metadata": {},
   "source": [
    "## Tóm lược lý thuyết"
   ]
  },
  {
   "cell_type": "markdown",
   "metadata": {},
   "source": [
    "### Các khái niệm cơ bản"
   ]
  },
  {
   "cell_type": "markdown",
   "metadata": {},
   "source": [
    "**Lý thuyết xác suất** (probability theory) là ngành Toán học giúp định lượng, tính toán và suy diễn trên các hiện tượng **ngẫu nhiên** (random) và/hoặc **không chắc chắn** (uncertain)."
   ]
  },
  {
   "cell_type": "markdown",
   "metadata": {},
   "source": [
    "**Thí nghiệm ngẫu nhiên** (random experiment) là các quá trình/hoạt động/thử nghiệm/công việc/thao tác không biết chắc **kết quả** (outcome). Tập tất cả các kết quả có thể của một thí nghiệm ngẫu nhiên được gọi là **không gian mẫu** (sample space), thường kí hiệu là $S$ hay $\\Omega$ (omega)."
   ]
  },
  {
   "cell_type": "markdown",
   "metadata": {},
   "source": [
    "Nếu việc xảy ra hay không của một tình huống $E$ được xác định hoàn toàn khi biết kết quả $\\omega$ của thí nghiệm $T$ thì $E$ được gọi là **biến cố** (event) liên quan đến $T$. Nếu $\\omega$ làm cho $E$ xảy ra thì $\\omega$ được gọi là một kết quả thuận lợi cho $E$. Biến cố được xác định bởi các kết quả thuận lợi cho nó:\n",
    "$$E = \\{\\omega \\in \\Omega: \\omega \\text{ thuận lợi cho } E\\} \\subset \\Omega$$"
   ]
  },
  {
   "cell_type": "markdown",
   "metadata": {},
   "source": [
    "**Xác suất** (probability) của biến cố $E$, kí hiệu $P(E)$, là số thực thuộc đoạn $[0, 1]$ định lượng khả năng xảy ra của $E$."
   ]
  },
  {
   "cell_type": "markdown",
   "metadata": {},
   "source": [
    "**Mô hình xác suất đơn giản** (simple/classical probability model): không gian mẫu **hữu hạn** (finite) và các **kết quả đồng khả năng** (equiprobable outcomes). Công thức tính xác suất biến cố:\n",
    "$$P(E) = \\frac{|E|}{|\\Omega|}$$\n",
    "Kí hiệu $|X|$ dùng để chỉ số lượng phần tử của tập hợp hữu hạn $X$. Trong mô hình xác suất đơn giản, việc tính xác suất được đưa về việc **đếm** (counting)."
   ]
  },
  {
   "cell_type": "markdown",
   "metadata": {},
   "source": [
    "**Mô hình xác suất hình học**: chọn \"điểm\" ngẫu nhiên trong \"hình\" $\\Omega$. Công thức tính xác suất của biến cố: \n",
    "$$P(E) = \\frac{|E|}{|\\Omega|}$$\n",
    "Kí hiệu $|X|$ dùng để chỉ \"kích thước\" của hình $X$ (chiều dài đoạn thẳng, diện tích hình phẳng, thể tích khối). Trong mô hình xác suất hình học, việc tính xác suất được đưa về việc tính chiều dài/diện tích/thể tích."
   ]
  },
  {
   "cell_type": "markdown",
   "metadata": {},
   "source": [
    "### Các thuật ngữ liên quan đến biến cố"
   ]
  },
  {
   "cell_type": "markdown",
   "metadata": {},
   "source": [
    "\"Lý thuyết biến cố\" được hình thức hóa bằng \"lý thuyết tập hợp\". Xét thí nghiệm $T$ với không gian mẫu $\\Omega$ và các biến cố $E, F \\subset \\Omega$:"
   ]
  },
  {
   "cell_type": "markdown",
   "metadata": {},
   "source": [
    "* $\\Omega$: **biến cố chắc chắn** (certain event)"
   ]
  },
  {
   "cell_type": "markdown",
   "metadata": {},
   "source": [
    "* $\\emptyset$: **biến cố không thể** (impossible event)"
   ]
  },
  {
   "cell_type": "markdown",
   "metadata": {},
   "source": [
    "* $E^c = \\Omega \\setminus E$: biến cố **đối** (complement) của $E$, biến cố \"$E$ không xảy ra\""
   ]
  },
  {
   "cell_type": "markdown",
   "metadata": {},
   "source": [
    "* $E \\cup F$: biến cố $E$ **hoặc** (or) $F$, biến cố \"$E$ xảy ra hoặc $F$ xảy ra\""
   ]
  },
  {
   "cell_type": "markdown",
   "metadata": {},
   "source": [
    "* $E \\cap F$: biến cố $E$ **và** (and) $F$, biến cố \"$E$ xảy ra và $F$ xảy ra\""
   ]
  },
  {
   "cell_type": "markdown",
   "metadata": {},
   "source": [
    "* $E \\setminus F$: biến cố $E$ **không** (not) $F$, biến cố \"$E$ xảy ra nhưng $F$ không xảy ra\""
   ]
  },
  {
   "cell_type": "markdown",
   "metadata": {},
   "source": [
    "* $E \\subset F$: $E$ **kéo theo** (imply) $F$, $E$ xảy ra thì $F$ xảy ra"
   ]
  },
  {
   "cell_type": "markdown",
   "metadata": {},
   "source": [
    "* $E = F$: $E$ **là** (is) $F$, $E$ xảy ra khi và chỉ khi $F$ xảy ra"
   ]
  },
  {
   "cell_type": "markdown",
   "metadata": {},
   "source": [
    "* $E \\cap F = \\emptyset$: $E, F$ **rời nhau** (disjoint) hay **xung khắc** (mutually exclusive), $E, F$ không thể đồng thời xảy ra"
   ]
  },
  {
   "cell_type": "markdown",
   "metadata": {},
   "source": [
    "### Các yêu cầu (tiên đề) của xác suất"
   ]
  },
  {
   "cell_type": "markdown",
   "metadata": {},
   "source": [
    "Xét thí nghiệm $T$ với không gian mẫu $\\Omega$, một hàm $P$ gắn mỗi biến cố $E \\subset \\Omega$ với số thực $P(E)$ được gọi là một **độ đo xác suất** (probability measure) trên $\\Omega$ nếu $P$ thỏa mãn 3 tiên đề:"
   ]
  },
  {
   "cell_type": "markdown",
   "metadata": {},
   "source": [
    "1. Với mọi biến cố $E \\subset \\Omega, 0 \\le P(E) \\le 1$"
   ]
  },
  {
   "cell_type": "markdown",
   "metadata": {},
   "source": [
    "2. Với mọi dãy biến cố $E_1, E_2, ...$ đôi một xung khắc $\\left(E_i \\cap E_j = \\emptyset, \\forall i \\ne j \\right)$:$$P\\left(\\bigcup_{i=1}^{\\infty}E_i\\right) = \\sum_{i=1}^{\\infty}P(E_i)$$"
   ]
  },
  {
   "cell_type": "markdown",
   "metadata": {},
   "source": [
    "3. $P(\\Omega) = 1$"
   ]
  },
  {
   "cell_type": "markdown",
   "metadata": {},
   "source": [
    "### Các tính chất (hệ quả) cơ bản của xác suất"
   ]
  },
  {
   "cell_type": "markdown",
   "metadata": {},
   "source": [
    "* $P(E^c) = 1 - P(E)$"
   ]
  },
  {
   "cell_type": "markdown",
   "metadata": {},
   "source": [
    "* $P(\\emptyset) = 0$"
   ]
  },
  {
   "cell_type": "markdown",
   "metadata": {},
   "source": [
    "* Nếu $E_1 \\subset E_2$ thì $P(E_1) \\le P(E_2)$ và $P(E_2 \\setminus E_1) = P(E_2) - P(E_1)$"
   ]
  },
  {
   "cell_type": "markdown",
   "metadata": {},
   "source": [
    "* Nếu $E_1 \\cap E_2 = \\emptyset$ thì $P(E_1 \\cup E_2) = P(E_1) + P(E_2)$"
   ]
  },
  {
   "cell_type": "markdown",
   "metadata": {},
   "source": [
    "* $P(E_1 \\cup E_2) = P(E_1) + P(E_2) - P(E_1 \\cap E_2)$ (**addition law of probability**)"
   ]
  },
  {
   "cell_type": "markdown",
   "metadata": {},
   "source": [
    "* $P(E_1 \\cup E_2 \\cup E_3) = P(E_1) + P(E_2) + P(E_3)\\\\ - P(E_1 \\cap E_2) - P(E_1 \\cap E_3) - P(E_2 \\cap E_3)\\\\ + P(E_1 \\cap E_2 \\cap E_3)$"
   ]
  },
  {
   "cell_type": "markdown",
   "metadata": {},
   "source": [
    "* $P\\left(\\bigcup_{i=1}^{\\infty}E_i\\right) \\le \\sum_{i=1}^{\\infty}P(E_i)$ (**union bound**)"
   ]
  },
  {
   "cell_type": "markdown",
   "metadata": {},
   "source": [
    "* $P\\left(\\bigcap_{i=1}^{\\infty}E_i\\right) \\ge 1 - \\sum_{i=1}^{\\infty}P(E_i^c)$ (**Bonferroni inequality**)"
   ]
  },
  {
   "cell_type": "markdown",
   "metadata": {},
   "source": [
    "## Tính xác suất bằng phương pháp mô phỏng"
   ]
  },
  {
   "cell_type": "markdown",
   "metadata": {},
   "source": [
    "Để tính gần đúng xác suất của một biến cố $A$ liên quan đến thí nghiệm $T$, ta có thể dùng phương pháp thống kê như sau: \n",
    "> Thực hiện lặp lại $N$ lần (độc lập) thí nghiệm $T$ và đếm số lần biến cố $A$ xảy ra, $m$. Khi đó $f_A = \\frac{m}{N}$ được gọi là tần suất của $A$. \n",
    "\n",
    "> Khi $N$ đủ lớn, ta có $f_A \\approx P(A)$. \n",
    "\n",
    "> Việc thực hiện lặp lại nhiều lần thí nghiệm $T$ có thể được mô phỏng (simulate) trên máy, chẳng hạn bằng Python (dùng thư viện tạo số ngẫu nhiên như [random](https://docs.python.org/3/library/random.html))."
   ]
  },
  {
   "cell_type": "markdown",
   "metadata": {},
   "source": [
    "### Ví dụ - Câu hỏi 1 (bốc bi)"
   ]
  },
  {
   "cell_type": "code",
   "execution_count": 18,
   "metadata": {},
   "outputs": [],
   "source": [
    "def boc_bi():\n",
    "    n_R, n_B = 30, 20\n",
    "    hop_bi = [(\"R\", i + 1) for i in range(n_R)] + [(\"B\", i + 1) for i in range(n_B)]\n",
    "    return random.choice(hop_bi)\n",
    "\n",
    "def tan_suat_do(N):\n",
    "    m = sum(mau == \"R\" for mau, _ in (boc_bi() for _ in range(N)))\n",
    "    \n",
    "    return m/N"
   ]
  },
  {
   "cell_type": "code",
   "execution_count": 19,
   "metadata": {},
   "outputs": [
    {
     "data": {
      "text/plain": [
       "0.60156"
      ]
     },
     "execution_count": 19,
     "metadata": {},
     "output_type": "execute_result"
    }
   ],
   "source": [
    "tan_suat_do(100_000)"
   ]
  },
  {
   "cell_type": "markdown",
   "metadata": {},
   "source": [
    "### Ví dụ - Câu hỏi 4 (bài toán sinh nhật)"
   ]
  },
  {
   "cell_type": "code",
   "execution_count": 86,
   "metadata": {},
   "outputs": [
    {
     "data": {
      "text/plain": [
       "0.971"
      ]
     },
     "execution_count": 86,
     "metadata": {},
     "output_type": "execute_result"
    }
   ],
   "source": [
    "def birthday(k):\n",
    "    return [random . randint (1, 365) for _ in range (k)]\n",
    "\n",
    "def relative_frequency(k, N):\n",
    "    m = sum(len(set(birthday(k))) < k for _ in range (N))\n",
    "    return m/N\n",
    "\n",
    "relative_frequency(50 , 1000)"
   ]
  },
  {
   "cell_type": "code",
   "execution_count": 90,
   "metadata": {},
   "outputs": [],
   "source": [
    "plt.style.use('seaborn-whitegrid')"
   ]
  },
  {
   "cell_type": "code",
   "execution_count": 102,
   "metadata": {},
   "outputs": [
    {
     "data": {
      "image/png": "[encoded data removed]",
      "text/plain": [
       "<Figure size 640x440 with 1 Axes>"
      ]
     },
     "metadata": {},
     "output_type": "display_data"
    }
   ],
   "source": [
    "N = 1000\n",
    "k_list = range(0, 60)\n",
    "P_list = [1 - perm(365, k)/365**k for k in k_list]\n",
    "F_list = [relative_frequency(k, N) for k in k_list]\n",
    "\n",
    "plt.plot(k_list, P_list,color='orange')\n",
    "plt.plot(k_list, F_list,color='blue')\n",
    "# plt.xlim([min(k_list),max(k_list)])\n",
    "# plt.ylim([min(P_list),max(F_list)])\n",
    "plt.axis([min(k_list),max(k_list),min(P_list),max(F_list)])\n",
    "#plt.axis(\"tight\")\n",
    "plt.legend([\"Closed-form\", \"Simulation (N = {})\".format(N)])\n",
    "plt.xlabel(\"k\")\n",
    "plt.ylabel(\"p\")\n",
    "plt.title(\"Khảo sát xác suất có ít nhất 2 người cùng sinh nhật trong k người\")\n",
    "plt.show()"
   ]
  },
  {
   "cell_type": "markdown",
   "metadata": {},
   "source": [
    "### Ví dụ - Câu hỏi 5 (ném phi tiêu)"
   ]
  },
  {
   "cell_type": "code",
   "execution_count": 22,
   "metadata": {},
   "outputs": [],
   "source": [
    "import math\n",
    "\n",
    "# Cài đặt hàm ném phi tiêu này sai (không ngẫu nhiên theo bán kính)\n",
    "def nem_phi_tieu_1(): # hinh tron C co ban kinh 1\n",
    "    r = random.random()\n",
    "    phi = random.uniform(0, 360)\n",
    "    \n",
    "    return (r*math.cos(phi), r*math.sin(phi))\n",
    "\n",
    "# Cài đặt hàm ném phi tiêu này đúng (ngẫu nhiên theo điểm trong hình tròn C)\n",
    "def nem_phi_tieu(): # hinh tron C co ban kinh 1\n",
    "    while True:\n",
    "        x, y = 2*random.random() - 1, 2*random.random() - 1\n",
    "        r = math.sqrt(x**2 + y**2)\n",
    "        if r <= 1:\n",
    "            return (x, y)\n",
    "\n",
    "def tan_suat_trung(t, N): # hinh tron D co ban kinh t\n",
    "    return sum(math.sqrt(x**2 + y**2) <= t for x, y in (nem_phi_tieu() for _ in range(N))) / N"
   ]
  },
  {
   "cell_type": "code",
   "execution_count": 23,
   "metadata": {},
   "outputs": [
    {
     "data": {
      "text/plain": [
       "0.25004"
      ]
     },
     "execution_count": 23,
     "metadata": {},
     "output_type": "execute_result"
    }
   ],
   "source": [
    "tan_suat_trung(1/2, 100_000)"
   ]
  }
 ],
 "metadata": {
  "hide_input": false,
  "kernelspec": {
   "display_name": "Python 3 (ipykernel)",
   "language": "python",
   "name": "python3"
  },
  "language_info": {
   "codemirror_mode": {
    "name": "ipython",
    "version": 3
   },
   "file_extension": ".py",
   "mimetype": "text/x-python",
   "name": "python",
   "nbconvert_exporter": "python",
   "pygments_lexer": "ipython3",
   "version": "3.9.7"
  }
 },
 "nbformat": 4,
 "nbformat_minor": 4
}
